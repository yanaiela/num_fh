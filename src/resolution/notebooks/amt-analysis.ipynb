{
 "cells": [
  {
   "cell_type": "code",
   "execution_count": 2,
   "metadata": {
    "collapsed": false
   },
   "outputs": [
    {
     "name": "stdout",
     "output_type": "stream",
     "text": [
      "Using matplotlib backend: Qt5Agg\n"
     ]
    }
   ],
   "source": [
    "import pandas\n",
    "import numpy as np\n",
    "import matplotlib.pyplot as plt; plt.rcdefaults()\n",
    "import matplotlib.pyplot as plt\n",
    "import seaborn as sns\n",
    "\n",
    "from sklearn.metrics import confusion_matrix\n",
    "\n",
    "from collections import defaultdict, Counter, OrderedDict\n",
    "from operator import itemgetter\n",
    "\n",
    "import codecs\n",
    "import csv\n",
    "import itertools\n",
    "\n",
    "import spacy\n",
    "\n",
    "%matplotlib\n",
    "%matplotlib inline  \n",
    "\n",
    "import seaborn as sns\n",
    "\n",
    "f = '../data/raw/final_results.csv'"
   ]
  },
  {
   "cell_type": "code",
   "execution_count": null,
   "metadata": {
    "collapsed": true
   },
   "outputs": [],
   "source": [
    "confusion_matrix()"
   ]
  },
  {
   "cell_type": "code",
   "execution_count": 3,
   "metadata": {
    "collapsed": false
   },
   "outputs": [],
   "source": [
    "reg_ans = {1: 1, 2: 2, 3: 3, 4: 4, 5: 5, 6: 6, 7: 7, 8: 8}\n",
    "comb_ans = {1: 1, 2: 2, 3: 3, 4: 4, 5: 5, 6: 5, 7: 7, 8: 8}\n",
    "def parse_results(f_name, ans_dic):\n",
    "    results = {}\n",
    "    table = pandas.read_csv(f_name)\n",
    "    answers = defaultdict(dict)\n",
    "    for ind, row in table.iterrows():\n",
    "        worker = row['WorkerId']\n",
    "        time_complete = row['WorkTimeInSeconds']\n",
    "        task_id = row['Input.task_id']\n",
    "        show_id = row['Input.show_id']\n",
    "        scene_ind = row['Input.scene_index']\n",
    "        text_ind = row['Input.text_index']\n",
    "        text = row['Input.text_reduced']\n",
    "        target = row['Input.target']\n",
    "        target_ind_s = row['Input.target_start_index']\n",
    "        target_ind_e = row['Input.target_end_index']\n",
    "        ans = row['Answer.ans']\n",
    "        comment = row['Answer.comment']\n",
    "        ref_offset = row['Answer.offset']\n",
    "        ref = row['Answer.reference']\n",
    "        other = row['Answer.other']\n",
    "\n",
    "        if task_id in answers:\n",
    "            answers[task_id]['ans'] += [(ans_dic[ans], ref, other, ref_offset)]\n",
    "        else:\n",
    "            answers[task_id] = {'text': text, 'target': target,\n",
    "                                'target_sent': row['Input.target_sentence'], \n",
    "                                'ind_s': target_ind_s, 'ind_e': target_ind_e,\n",
    "                                'ans': [(ans_dic[ans], ref, other, ref_offset)]}\n",
    "\n",
    "    return answers\n",
    "\n",
    "answers = parse_results(f, reg_ans)\n",
    "answers_comb = parse_results(f, comb_ans)"
   ]
  },
  {
   "cell_type": "code",
   "execution_count": 4,
   "metadata": {
    "collapsed": true
   },
   "outputs": [],
   "source": [
    "def plot_confusion_matrix(cm, classes,\n",
    "                          normalize=False,\n",
    "                          title='Confusion matrix',\n",
    "                          cmap=plt.cm.Blues):\n",
    "    \"\"\"\n",
    "    This function prints and plots the confusion matrix.\n",
    "    Normalization can be applied by setting `normalize=True`.\n",
    "    \"\"\"\n",
    "    plt.imshow(cm, interpolation='nearest', cmap=cmap)\n",
    "    plt.title(title)\n",
    "    plt.colorbar()\n",
    "    tick_marks = np.arange(len(classes))\n",
    "    plt.xticks(tick_marks, classes, rotation=45)\n",
    "    plt.yticks(tick_marks, classes)\n",
    "\n",
    "    if normalize:\n",
    "        cm = cm.astype('float') / cm.sum(axis=1)[:, np.newaxis]\n",
    "        print(\"Normalized confusion matrix\")\n",
    "    else:\n",
    "        print('Confusion matrix, without normalization')\n",
    "\n",
    "    thresh = cm.max() / 2.\n",
    "    for i, j in itertools.product(range(cm.shape[0]), range(cm.shape[1])):\n",
    "        plt.text(j, i, cm[i, j],\n",
    "                 horizontalalignment=\"center\",\n",
    "                 color=\"white\" if cm[i, j] > thresh else \"black\")\n",
    "\n",
    "    plt.tight_layout()\n",
    "    plt.ylabel('Majority label')\n",
    "    plt.xlabel('Minority label')"
   ]
  },
  {
   "cell_type": "code",
   "execution_count": 7,
   "metadata": {
    "collapsed": false,
    "scrolled": true
   },
   "outputs": [
    {
     "name": "stdout",
     "output_type": "stream",
     "text": [
      "Confusion matrix, without normalization\n"
     ]
    },
    {
     "data": {
      "image/png": "[encoded data removed]",
      "text/plain": [
       "<matplotlib.figure.Figure at 0x7f1e032013d0>"
      ]
     },
     "metadata": {},
     "output_type": "display_data"
    }
   ],
   "source": [
    "ind_dic = {1: 0, 2: 1, 3: 2, 4: 3, 7: 4, 8: 5, 5: 6, 6: 6}\n",
    "def majority_agreement(answers):\n",
    "    no_ag = Counter()\n",
    "    distr = Counter(tuple(sorted(tuple([v[0] for v in c['ans']]), reverse=True)) for c in answers.values())\n",
    "    conf_mat = np.zeros((7, 7))\n",
    "    for trip, c in distr.most_common():\n",
    "        x = Counter(trip)\n",
    "        y = OrderedDict(x.most_common())\n",
    "        if len(y) == len(trip):\n",
    "            no_ag[tuple(x.keys())] += c\n",
    "        elif len(y) == 1:\n",
    "            i = j = y.items()[0][0]\n",
    "        else:\n",
    "            i = y.items()[0][0]\n",
    "            j = y.items()[1][0]\n",
    "        conf_mat[ind_dic[i]][ind_dic[j]] = c\n",
    "#     print conf_mat\n",
    "    plt.figure()\n",
    "    class_names = ['Reference', 'Year', 'Age', 'Currency', 'People', 'Time', 'Other']\n",
    "#     sns.heatmap(conf_mat, =class_names)\n",
    "    plot_confusion_matrix(conf_mat.astype(int), classes=class_names,\n",
    "                          title='Majority Answer Confusion matrix')\n",
    "#     plt.savefig('../resources/conf-mat.svg', bbox_inches='tight', format='svg', dpi=1200)\n",
    "    plt.savefig('../reports/figures/ans-agg.png', bbox_inches='tight', dpi=200)\n",
    "    plt.show()\n",
    "    return no_ag\n",
    "    \n",
    "no_ag = majority_agreement(answers_comb)"
   ]
  },
  {
   "cell_type": "code",
   "execution_count": 32,
   "metadata": {
    "collapsed": false
   },
   "outputs": [
    {
     "data": {
      "text/plain": [
       "115"
      ]
     },
     "execution_count": 32,
     "metadata": {},
     "output_type": "execute_result"
    }
   ],
   "source": [
    "sum(no_ag.values())"
   ]
  },
  {
   "cell_type": "code",
   "execution_count": 33,
   "metadata": {
    "collapsed": false
   },
   "outputs": [
    {
     "data": {
      "text/plain": [
       "0.011249144086862957"
      ]
     },
     "execution_count": 33,
     "metadata": {},
     "output_type": "execute_result"
    }
   ],
   "source": [
    "115.0/10223"
   ]
  },
  {
   "cell_type": "code",
   "execution_count": 28,
   "metadata": {
    "collapsed": false
   },
   "outputs": [
    {
     "data": {
      "text/plain": [
       "10223"
      ]
     },
     "execution_count": 28,
     "metadata": {},
     "output_type": "execute_result"
    }
   ],
   "source": [
    "len(answers_comb)"
   ]
  }
 ],
 "metadata": {
  "kernelspec": {
   "display_name": "Python 2",
   "language": "python",
   "name": "python2"
  },
  "language_info": {
   "codemirror_mode": {
    "name": "ipython",
    "version": 2
   },
   "file_extension": ".py",
   "mimetype": "text/x-python",
   "name": "python",
   "nbconvert_exporter": "python",
   "pygments_lexer": "ipython2",
   "version": "2.7.13"
  }
 },
 "nbformat": 4,
 "nbformat_minor": 2
}
