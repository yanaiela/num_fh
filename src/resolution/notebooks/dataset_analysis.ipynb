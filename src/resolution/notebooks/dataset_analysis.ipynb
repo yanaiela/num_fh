{
 "cells": [
  {
   "cell_type": "code",
   "execution_count": 1,
   "metadata": {
    "collapsed": false
   },
   "outputs": [
    {
     "name": "stdout",
     "output_type": "stream",
     "text": [
      "Using matplotlib backend: Qt5Agg\n"
     ]
    }
   ],
   "source": [
    "import pandas as pd\n",
    "import numpy as np\n",
    "\n",
    "from collections import Counter, OrderedDict\n",
    "\n",
    "import matplotlib.pyplot as plt\n",
    "\n",
    "from tqdm import tqdm_notebook\n",
    "\n",
    "%matplotlib\n",
    "%matplotlib inline\n",
    "\n",
    "plt.style.use('ggplot')\n",
    "import seaborn as sns\n",
    "\n",
    "\n",
    "pd.set_option('display.max_rows', 500)"
   ]
  },
  {
   "cell_type": "code",
   "execution_count": 2,
   "metadata": {
    "collapsed": true
   },
   "outputs": [],
   "source": [
    "import spacy\n",
    "nlp = spacy.load('en')"
   ]
  },
  {
   "cell_type": "code",
   "execution_count": 3,
   "metadata": {
    "collapsed": true
   },
   "outputs": [],
   "source": [
    "root = '../'\n",
    "\n",
    "dataset_f = root + 'data/interim/num_fh.csv'"
   ]
  },
  {
   "cell_type": "code",
   "execution_count": 4,
   "metadata": {
    "collapsed": false
   },
   "outputs": [],
   "source": [
    "df = pd.read_csv(dataset_f)"
   ]
  },
  {
   "cell_type": "code",
   "execution_count": 5,
   "metadata": {
    "collapsed": true
   },
   "outputs": [],
   "source": [
    "data_groups = df.groupby(df['id'])"
   ]
  },
  {
   "cell_type": "code",
   "execution_count": 6,
   "metadata": {
    "collapsed": false
   },
   "outputs": [
    {
     "data": {
      "text/plain": [
       "9832"
      ]
     },
     "execution_count": 6,
     "metadata": {},
     "output_type": "execute_result"
    }
   ],
   "source": [
    "len(data_groups)"
   ]
  },
  {
   "cell_type": "code",
   "execution_count": 120,
   "metadata": {
    "collapsed": false,
    "scrolled": true
   },
   "outputs": [
    {
     "name": "stdout",
     "output_type": "stream",
     "text": [
      "\n"
     ]
    }
   ],
   "source": [
    "dataset = {}\n",
    "unique_references = []\n",
    "i = 0\n",
    "for scene in tqdm_notebook(data_groups):\n",
    "    # getting the scene from each group and reindexing inner index in every group\n",
    "    sc = scene[1].reset_index()\n",
    "\n",
    "    words_ind = sc['index'].tolist()\n",
    "    lines_ind = sc['line_ind'].tolist()\n",
    "    speakers = sc['speaker'].tolist()\n",
    "\n",
    "    target = sc[sc['head'] != '-']\n",
    "    target_words = target['word'].tolist()\n",
    "    if len(target_words) == 0:\n",
    "        assert False \n",
    "    \n",
    "    ref = sc[sc['referred'] != '-']\n",
    "    if len(ref) > 1 and 'REFERENCE' not in target['head'].values:\n",
    "        assert False\n",
    "    \n",
    "    lemma_ref = [nlp(unicode(x.decode('utf-8')))[:].lemma_ for x in ref.word.values]\n",
    "    if len(set(lemma_ref)) > 1:\n",
    "        unique_references.append(scene)\n",
    "    \n",
    "    dataset[sc['id'].values[0]] = {'num_lines': len(set(lines_ind)), 'num_words': len(sc),\n",
    "                        'target': target, 'reference': ref, 'words_in_sentence': Counter(lines_ind).values()}"
   ]
  },
  {
   "cell_type": "code",
   "execution_count": 121,
   "metadata": {
    "collapsed": false
   },
   "outputs": [
    {
     "data": {
      "text/plain": [
       "177"
      ]
     },
     "execution_count": 121,
     "metadata": {},
     "output_type": "execute_result"
    }
   ],
   "source": [
    "len(unique_references)"
   ]
  },
  {
   "cell_type": "code",
   "execution_count": 129,
   "metadata": {
    "collapsed": false
   },
   "outputs": [],
   "source": [
    "unq = pd.concat([x[1] for x in unique_references])"
   ]
  },
  {
   "cell_type": "code",
   "execution_count": 131,
   "metadata": {
    "collapsed": false
   },
   "outputs": [],
   "source": [
    "unq.to_csv('/home/nlp/lazary/workspace/thesis/num_fused_head/data/processed/multi-ref.csv', encoding='utf-8')"
   ]
  },
  {
   "cell_type": "markdown",
   "metadata": {},
   "source": [
    "# Dataset Statistics"
   ]
  },
  {
   "cell_type": "code",
   "execution_count": 70,
   "metadata": {
    "collapsed": true
   },
   "outputs": [],
   "source": [
    "latex_stats = []"
   ]
  },
  {
   "cell_type": "code",
   "execution_count": 71,
   "metadata": {
    "collapsed": false
   },
   "outputs": [],
   "source": [
    "metrics_f = OrderedDict([('min', np.min), ('max', np.max), ('mean', np.mean),\n",
    "            ('std', np.std), ('median', np.median)])"
   ]
  },
  {
   "cell_type": "markdown",
   "metadata": {},
   "source": [
    "## General corpus stats"
   ]
  },
  {
   "cell_type": "code",
   "execution_count": 10,
   "metadata": {
    "collapsed": false,
    "scrolled": false
   },
   "outputs": [
    {
     "name": "stdout",
     "output_type": "stream",
     "text": [
      "dataset size: 9832\n"
     ]
    }
   ],
   "source": [
    "print 'dataset size: {0}'.format(len(dataset))"
   ]
  },
  {
   "cell_type": "markdown",
   "metadata": {},
   "source": [
    "#### Number of lines in a Scene"
   ]
  },
  {
   "cell_type": "code",
   "execution_count": 72,
   "metadata": {
    "collapsed": false
   },
   "outputs": [
    {
     "name": "stdout",
     "output_type": "stream",
     "text": [
      "min number of lines in a scene: 1\n",
      "max number of lines in a scene: 28\n",
      "mean number of lines in a scene: 6.21440195281\n",
      "std number of lines in a scene: 5.41826650776\n",
      "median number of lines in a scene: 4.0\n"
     ]
    }
   ],
   "source": [
    "scene_lines = [scene['num_lines'] for scene in dataset.values()]\n",
    "for name, f in metrics_f.iteritems():\n",
    "    print '{0} number of lines in a scene: {1}'.format(name, f(scene_lines))"
   ]
  },
  {
   "cell_type": "markdown",
   "metadata": {},
   "source": [
    "#### Words in a Scene"
   ]
  },
  {
   "cell_type": "code",
   "execution_count": 73,
   "metadata": {
    "collapsed": false,
    "scrolled": true
   },
   "outputs": [
    {
     "name": "stdout",
     "output_type": "stream",
     "text": [
      "min number of words in a scene: 5\n",
      "max number of words in a scene: 1568\n",
      "mean number of words in a scene: 104.064890155\n",
      "std number of words in a scene: 103.12059079\n",
      "median number of words in a scene: 70.0\n"
     ]
    }
   ],
   "source": [
    "num_words_scene = [scene['num_words'] for scene in dataset.values()]\n",
    "vals = []\n",
    "for name, f in metrics_f.iteritems():\n",
    "    val = f(num_words_scene)\n",
    "    print '{0} number of words in a scene: {1}'.format(name, val)\n",
    "    vals.append(val)"
   ]
  },
  {
   "cell_type": "markdown",
   "metadata": {},
   "source": [
    "#### Words in sentence (by speaker)"
   ]
  },
  {
   "cell_type": "code",
   "execution_count": 13,
   "metadata": {
    "collapsed": false
   },
   "outputs": [
    {
     "name": "stdout",
     "output_type": "stream",
     "text": [
      "min number of words in a sentence: 1\n",
      "max number of words in a sentence: 934\n",
      "mean number of words in a sentence: 16.7457610475\n",
      "std number of words in a sentence: 20.9307918312\n",
      "median number of words in a sentence: 11.0\n"
     ]
    }
   ],
   "source": [
    "words_by_speaker = np.hstack([scene['words_in_sentence'] for scene in dataset.values()])\n",
    "for name, f in metrics_f.iteritems():\n",
    "    print '{0} number of words in a sentence: {1}'.format(name, f(words_by_speaker))"
   ]
  },
  {
   "cell_type": "markdown",
   "metadata": {},
   "source": [
    "## Target stats"
   ]
  },
  {
   "cell_type": "code",
   "execution_count": 14,
   "metadata": {
    "collapsed": false
   },
   "outputs": [],
   "source": [
    "y_dist = Counter([scene['target']['head'].values[0] for scene in dataset.values()])"
   ]
  },
  {
   "cell_type": "code",
   "execution_count": 15,
   "metadata": {
    "collapsed": false
   },
   "outputs": [
    {
     "data": {
      "text/plain": [
       "Counter({'AGE': 1075,\n",
       "         'CURRENCY': 388,\n",
       "         'OTHER': 2265,\n",
       "         'PEOPLE': 807,\n",
       "         'REFERENCE': 4598,\n",
       "         'TIME': 214,\n",
       "         'YEAR': 485})"
      ]
     },
     "execution_count": 15,
     "metadata": {},
     "output_type": "execute_result"
    }
   ],
   "source": [
    "y_dist"
   ]
  },
  {
   "cell_type": "code",
   "execution_count": 132,
   "metadata": {
    "collapsed": false,
    "scrolled": true
   },
   "outputs": [
    {
     "data": {
      "image/png": "[encoded data removed]",
      "text/plain": [
       "<matplotlib.figure.Figure at 0x7f667376f190>"
      ]
     },
     "metadata": {},
     "output_type": "display_data"
    }
   ],
   "source": [
    "# none_ag = Counter([c['ans'][0][0] for c in answers.values() if len(set(e[0] for e in c['ans'])) == 3])\n",
    "labels = 'Reference', 'People', 'Age', 'Year', 'Currency', 'Other', 'Time'\n",
    "fig_agg, ax_agg = plt.subplots()\n",
    "\n",
    "ax_agg.pie(y_dist.values(), labels=labels, autopct='%1.1f%%')\n",
    "ax_agg.axis('equal')  # Equal aspect ratio ensures that pie is drawn as a circle.\n",
    "plt.title('Categorial Majority Agreement', y=1.1)\n",
    "# my_dpi=1200\n",
    "# plt.savefig('../reports/figures/class_dist.svg', bbox_inches='tight', format='svg', dpi=1200)\n",
    "plt.savefig('../reports/figures/class_dist.png', bbox_inches='tight', dpi=200)\n",
    "plt.show()"
   ]
  },
  {
   "cell_type": "code",
   "execution_count": 17,
   "metadata": {
    "collapsed": false
   },
   "outputs": [
    {
     "name": "stdout",
     "output_type": "stream",
     "text": [
      "min number of target words in a scene: 1\n",
      "max number of target words in a scene: 9\n",
      "mean number of target words in a scene: 1.05614320586\n",
      "std number of target words in a scene: 0.363483864523\n",
      "median number of target words in a scene: 1.0\n"
     ]
    }
   ],
   "source": [
    "num_target_words = [len(scene['target']['head'].values) for scene in dataset.values()]\n",
    "for name, f in metrics_f.iteritems():\n",
    "    print '{0} number of target words in a scene: {1}'.format(name, f(num_target_words))"
   ]
  },
  {
   "cell_type": "markdown",
   "metadata": {},
   "source": [
    "### Target Stats"
   ]
  },
  {
   "cell_type": "code",
   "execution_count": 18,
   "metadata": {
    "collapsed": false
   },
   "outputs": [],
   "source": [
    "target_words = [x['target'].word.values.tolist() for x in dataset.values()]"
   ]
  },
  {
   "cell_type": "code",
   "execution_count": 19,
   "metadata": {
    "collapsed": false
   },
   "outputs": [],
   "source": [
    "target_c = Counter(len(x) for x in target_words)\n",
    "target_w = Counter([' '.join(x) for x in target_words])"
   ]
  },
  {
   "cell_type": "markdown",
   "metadata": {},
   "source": [
    "#### Target Lengths"
   ]
  },
  {
   "cell_type": "code",
   "execution_count": 20,
   "metadata": {
    "collapsed": false
   },
   "outputs": [
    {
     "data": {
      "text/plain": [
       "Counter({1: 9516, 2: 152, 3: 134, 4: 7, 5: 15, 6: 3, 7: 2, 9: 3})"
      ]
     },
     "execution_count": 20,
     "metadata": {},
     "output_type": "execute_result"
    }
   ],
   "source": [
    "target_c"
   ]
  },
  {
   "cell_type": "markdown",
   "metadata": {},
   "source": [
    "#### Most common target words"
   ]
  },
  {
   "cell_type": "code",
   "execution_count": 21,
   "metadata": {
    "collapsed": true
   },
   "outputs": [],
   "source": [
    "def bar_plot(objects, vals, y_pos, title, x_label, y_label):\n",
    "    plt.bar(y_pos, vals, align='center', alpha=0.5)\n",
    "    plt.xticks(y_pos, objects)\n",
    "    plt.ylabel(y_label)\n",
    "    plt.xlabel(x_label)\n",
    "    plt.title(title)\n",
    "    plt.show()"
   ]
  },
  {
   "cell_type": "code",
   "execution_count": 22,
   "metadata": {
    "collapsed": false
   },
   "outputs": [
    {
     "data": {
      "image/png": "[encoded data removed]",
      "text/plain": [
       "<matplotlib.figure.Figure at 0x7f66c1f4bb90>"
      ]
     },
     "metadata": {},
     "output_type": "display_data"
    }
   ],
   "source": [
    "targets = target_w.most_common(n=10)\n",
    "target_least_common = sum([x[1] for x in reversed(target_w.most_common()[-(len(target_w) - len(targets)):])])\n",
    "\n",
    "words_vals = [t[1] for t in targets] + [target_least_common]\n",
    "words = [t[0] for t in targets] + ['Rest']\n",
    "y_pos = np.arange(len(words_vals))\n",
    "bar_plot(words, words_vals, y_pos, 'Target Numbers Distribution', 'Word', 'Count')"
   ]
  },
  {
   "cell_type": "code",
   "execution_count": 23,
   "metadata": {
    "collapsed": false,
    "scrolled": true
   },
   "outputs": [
    {
     "data": {
      "text/plain": [
       "[('one', 4888),\n",
       " ('two', 593),\n",
       " ('three', 309),\n",
       " ('five', 205),\n",
       " ('six', 160),\n",
       " ('four', 148),\n",
       " ('ten', 136),\n",
       " ('One', 112),\n",
       " ('nine', 95),\n",
       " ('eight', 91)]"
      ]
     },
     "execution_count": 23,
     "metadata": {},
     "output_type": "execute_result"
    }
   ],
   "source": [
    "targets"
   ]
  },
  {
   "cell_type": "code",
   "execution_count": 24,
   "metadata": {
    "collapsed": false
   },
   "outputs": [
    {
     "name": "stdout",
     "output_type": "stream",
     "text": [
      "450\n"
     ]
    }
   ],
   "source": [
    "singletons = 0\n",
    "for w, c in target_w.iteritems():\n",
    "    if c == 1:\n",
    "        singletons += 1\n",
    "print singletons"
   ]
  },
  {
   "cell_type": "markdown",
   "metadata": {},
   "source": [
    "### Reference Stats"
   ]
  },
  {
   "cell_type": "code",
   "execution_count": 25,
   "metadata": {
    "collapsed": false
   },
   "outputs": [],
   "source": [
    "references = {k: v for k, v in dataset.iteritems() if len(v['reference']) > 0}"
   ]
  },
  {
   "cell_type": "code",
   "execution_count": 26,
   "metadata": {
    "collapsed": false
   },
   "outputs": [
    {
     "data": {
      "text/plain": [
       "4598"
      ]
     },
     "execution_count": 26,
     "metadata": {},
     "output_type": "execute_result"
    }
   ],
   "source": [
    "len(references)"
   ]
  },
  {
   "cell_type": "code",
   "execution_count": 27,
   "metadata": {
    "collapsed": false
   },
   "outputs": [
    {
     "data": {
      "text/html": [
       "<div>\n",
       "<style scoped>\n",
       "    .dataframe tbody tr th:only-of-type {\n",
       "        vertical-align: middle;\n",
       "    }\n",
       "\n",
       "    .dataframe tbody tr th {\n",
       "        vertical-align: top;\n",
       "    }\n",
       "\n",
       "    .dataframe thead th {\n",
       "        text-align: right;\n",
       "    }\n",
       "</style>\n",
       "<table border=\"1\" class=\"dataframe\">\n",
       "  <thead>\n",
       "    <tr style=\"text-align: right;\">\n",
       "      <th></th>\n",
       "      <th>index</th>\n",
       "      <th>id</th>\n",
       "      <th>show_id</th>\n",
       "      <th>scene_id</th>\n",
       "      <th>line_ind</th>\n",
       "      <th>word_ind</th>\n",
       "      <th>speaker</th>\n",
       "      <th>word</th>\n",
       "      <th>head</th>\n",
       "      <th>referred</th>\n",
       "    </tr>\n",
       "  </thead>\n",
       "  <tbody>\n",
       "    <tr>\n",
       "      <th>3</th>\n",
       "      <td>131</td>\n",
       "      <td>2</td>\n",
       "      <td>75</td>\n",
       "      <td>1</td>\n",
       "      <td>0</td>\n",
       "      <td>3</td>\n",
       "      <td>FBI Agent Nicole Scott</td>\n",
       "      <td>crooler</td>\n",
       "      <td>-</td>\n",
       "      <td>(REFERRED_0)</td>\n",
       "    </tr>\n",
       "    <tr>\n",
       "      <th>12</th>\n",
       "      <td>140</td>\n",
       "      <td>2</td>\n",
       "      <td>75</td>\n",
       "      <td>1</td>\n",
       "      <td>1</td>\n",
       "      <td>7</td>\n",
       "      <td>Jess Mastriani</td>\n",
       "      <td>crooler</td>\n",
       "      <td>-</td>\n",
       "      <td>(REFERRED_0)</td>\n",
       "    </tr>\n",
       "    <tr>\n",
       "      <th>36</th>\n",
       "      <td>164</td>\n",
       "      <td>2</td>\n",
       "      <td>75</td>\n",
       "      <td>1</td>\n",
       "      <td>2</td>\n",
       "      <td>17</td>\n",
       "      <td>FBI Agent Nicole Scott</td>\n",
       "      <td>crooler</td>\n",
       "      <td>-</td>\n",
       "      <td>(REFERRED_0)</td>\n",
       "    </tr>\n",
       "    <tr>\n",
       "      <th>49</th>\n",
       "      <td>177</td>\n",
       "      <td>2</td>\n",
       "      <td>75</td>\n",
       "      <td>1</td>\n",
       "      <td>3</td>\n",
       "      <td>9</td>\n",
       "      <td>Jess Mastriani</td>\n",
       "      <td>croolers</td>\n",
       "      <td>-</td>\n",
       "      <td>(REFERRED_0)</td>\n",
       "    </tr>\n",
       "  </tbody>\n",
       "</table>\n",
       "</div>"
      ],
      "text/plain": [
       "    index  id  show_id  scene_id  line_ind  word_ind                 speaker  \\\n",
       "3     131   2       75         1         0         3  FBI Agent Nicole Scott   \n",
       "12    140   2       75         1         1         7          Jess Mastriani   \n",
       "36    164   2       75         1         2        17  FBI Agent Nicole Scott   \n",
       "49    177   2       75         1         3         9          Jess Mastriani   \n",
       "\n",
       "        word head      referred  \n",
       "3    crooler    -  (REFERRED_0)  \n",
       "12   crooler    -  (REFERRED_0)  \n",
       "36   crooler    -  (REFERRED_0)  \n",
       "49  croolers    -  (REFERRED_0)  "
      ]
     },
     "execution_count": 27,
     "metadata": {},
     "output_type": "execute_result"
    }
   ],
   "source": [
    "dataset.items()[2][1]['reference']"
   ]
  },
  {
   "cell_type": "code",
   "execution_count": 28,
   "metadata": {
    "collapsed": false
   },
   "outputs": [
    {
     "name": "stdout",
     "output_type": "stream",
     "text": [
      "\n"
     ]
    }
   ],
   "source": [
    "reference_words = []\n",
    "for row in tqdm_notebook(references.values()):\n",
    "    reference = []\n",
    "    ref = ''\n",
    "    for ind, w in row['reference'].iterrows():\n",
    "        if not w.referred.endswith(')'):\n",
    "            ref += ' ' + w.word\n",
    "        \n",
    "        if w.referred.endswith(')'):\n",
    "            ref += ' ' + w.word\n",
    "            reference.append(ref.strip())\n",
    "            ref = ''\n",
    "    reference_words.append(reference)"
   ]
  },
  {
   "cell_type": "code",
   "execution_count": 29,
   "metadata": {
    "collapsed": false
   },
   "outputs": [
    {
     "data": {
      "text/plain": [
       "[['kid'],\n",
       " ['crooler', 'crooler', 'crooler', 'croolers'],\n",
       " ['muffin', 'muffin'],\n",
       " ['Airedale'],\n",
       " ['side', 'side'],\n",
       " ['blackout'],\n",
       " ['endings'],\n",
       " ['man', 'man'],\n",
       " ['Dongs', 'dongs', 'Dongs'],\n",
       " ['Dongs', 'Dongs']]"
      ]
     },
     "execution_count": 29,
     "metadata": {},
     "output_type": "execute_result"
    }
   ],
   "source": [
    "reference_words[:10]"
   ]
  },
  {
   "cell_type": "markdown",
   "metadata": {},
   "source": [
    "#### number of referred answers in a scene"
   ]
  },
  {
   "cell_type": "code",
   "execution_count": 30,
   "metadata": {
    "collapsed": false
   },
   "outputs": [
    {
     "name": "stdout",
     "output_type": "stream",
     "text": [
      "min targets: 1\n",
      "max targets: 12\n",
      "mean targets: 1.51413658112\n",
      "std targets: 1.068406382\n",
      "median targets: 1.0\n"
     ]
    }
   ],
   "source": [
    "num_ref_ans = [len(x) for x in reference_words]\n",
    "for name, f in metrics_f.iteritems():\n",
    "    print '{0} targets: {1}'.format(name, f(num_ref_ans))"
   ]
  },
  {
   "cell_type": "code",
   "execution_count": 31,
   "metadata": {
    "collapsed": false
   },
   "outputs": [
    {
     "name": "stdout",
     "output_type": "stream",
     "text": [
      "Counter({1: 3217, 2: 890, 3: 269, 4: 95, 5: 59, 6: 35, 7: 14, 8: 9, 9: 4, 11: 3, 12: 2, 10: 1})\n"
     ]
    }
   ],
   "source": [
    "num_ref_ans_c = Counter(num_ref_ans)\n",
    "print num_ref_ans_c"
   ]
  },
  {
   "cell_type": "code",
   "execution_count": 32,
   "metadata": {
    "collapsed": false
   },
   "outputs": [
    {
     "data": {
      "text/plain": [
       "0.6996520226185298"
      ]
     },
     "execution_count": 32,
     "metadata": {},
     "output_type": "execute_result"
    }
   ],
   "source": [
    "float(sum([x[1] for x in num_ref_ans_c.most_common(1)])) / sum(num_ref_ans_c.values())"
   ]
  },
  {
   "cell_type": "markdown",
   "metadata": {},
   "source": [
    "#### number of unique referred answers"
   ]
  },
  {
   "cell_type": "code",
   "execution_count": 79,
   "metadata": {
    "collapsed": true
   },
   "outputs": [],
   "source": [
    "temp = nlp(u'hello there')"
   ]
  },
  {
   "cell_type": "code",
   "execution_count": 81,
   "metadata": {
    "collapsed": false
   },
   "outputs": [
    {
     "data": {
      "text/plain": [
       "u'hello there'"
      ]
     },
     "execution_count": 81,
     "metadata": {},
     "output_type": "execute_result"
    }
   ],
   "source": [
    "temp[:].lemma_"
   ]
  },
  {
   "cell_type": "code",
   "execution_count": 88,
   "metadata": {
    "collapsed": false
   },
   "outputs": [],
   "source": [
    "lemma_refs = []\n",
    "for x in reference_words:\n",
    "    words = []\n",
    "    for t in x:\n",
    "        words.append(nlp(unicode(t.decode('utf-8')))[:].lemma_)\n",
    "    lemma_refs.append(words)"
   ]
  },
  {
   "cell_type": "code",
   "execution_count": 89,
   "metadata": {
    "collapsed": false
   },
   "outputs": [
    {
     "data": {
      "text/plain": [
       "[[u'kid'],\n",
       " [u'crooler', u'crooler', u'crooler', u'crooler'],\n",
       " [u'muffin', u'muffin'],\n",
       " [u'airedale'],\n",
       " [u'side', u'side'],\n",
       " [u'blackout'],\n",
       " [u'ending'],\n",
       " [u'man', u'man'],\n",
       " [u'dong', u'dong', u'dong'],\n",
       " [u'dong', u'dong'],\n",
       " [u'dong'],\n",
       " [u'thousand'],\n",
       " [u'blonde'],\n",
       " [u'rotisserie'],\n",
       " [u'hemroid'],\n",
       " [u'life'],\n",
       " [u'neighborhood'],\n",
       " [u'comb', u'comb'],\n",
       " [u'hobby'],\n",
       " [u'chick'],\n",
       " [u'car', u'car', u'car', u'car', u'car', u'car', u'car'],\n",
       " [u'baby'],\n",
       " [u'year'],\n",
       " [u'bath', u'bath'],\n",
       " [u'reason'],\n",
       " [u'bastard'],\n",
       " [u'girlfriend'],\n",
       " [u'movie'],\n",
       " [u'people'],\n",
       " [u'dress'],\n",
       " [u'basket'],\n",
       " [u'pound'],\n",
       " [u'job'],\n",
       " [u'dream', u'dream'],\n",
       " [u'sam', u'sam', u'sam'],\n",
       " [u'award'],\n",
       " [u'tale'],\n",
       " [u'ogre'],\n",
       " [u'present'],\n",
       " [u'statue'],\n",
       " [u'piece'],\n",
       " [u'reputation', u'reputation'],\n",
       " [u'gun', u'gun'],\n",
       " [u'telekinetic'],\n",
       " [u'partridge', u'partridge'],\n",
       " [u'opera', u'opera', u'meistersinger'],\n",
       " [u'transceiver'],\n",
       " [u'gun', u'gun'],\n",
       " [u'arm'],\n",
       " [u'suicide'],\n",
       " [u'man'],\n",
       " [u'dinner'],\n",
       " [u'hang'],\n",
       " [u'jacket'],\n",
       " [u'eclair'],\n",
       " [u'coup'],\n",
       " [u'hour'],\n",
       " [u'community'],\n",
       " [u'drink'],\n",
       " [u'eclair'],\n",
       " [u'car'],\n",
       " [u'yabba', u'yabba'],\n",
       " [u'punchbowl', u'punchbowl'],\n",
       " [u'rule'],\n",
       " [u'love'],\n",
       " [u'rope', u'rope', u'gag', u'kimono'],\n",
       " [u'buckle', u'buckle'],\n",
       " [u'test', u'test', u'test', u'test', u'test'],\n",
       " [u'joe', u'joe'],\n",
       " [u'word'],\n",
       " [u'keepin'],\n",
       " [u'cane'],\n",
       " [u'spirit'],\n",
       " [u'text'],\n",
       " [u'moment', u'moment'],\n",
       " [u'ghost'],\n",
       " [u'device'],\n",
       " [u'copy'],\n",
       " [u'number'],\n",
       " [u'bartowski'],\n",
       " [u'maid', u'man'],\n",
       " [u'boy'],\n",
       " [u'level'],\n",
       " [u'reason'],\n",
       " [u'device'],\n",
       " [u'toast'],\n",
       " [u'commonwealth'],\n",
       " [u'war'],\n",
       " [u'guy'],\n",
       " [u'vampire', u'vampire'],\n",
       " [u'figure'],\n",
       " [u'book', u'book'],\n",
       " [u'question', u'question'],\n",
       " [u'year'],\n",
       " [u'girlfriend'],\n",
       " [u'funeral'],\n",
       " [u'rat', u'rat', u'rat', u'rat', u'rat'],\n",
       " [u'cheer', u'warrior', u'warrior', u'warrior', u'warrior', u'warrior'],\n",
       " [u'werewolf', u'werewolf'],\n",
       " [u'fairy', u'pixie', u'pixie'],\n",
       " [u'contract'],\n",
       " [u'claim'],\n",
       " [u'gallon'],\n",
       " [u'dip'],\n",
       " [u'cat', u'elizabeth'],\n",
       " [u'butt'],\n",
       " [u'beckman', u'roan', u'montgomery'],\n",
       " [u'tiger'],\n",
       " [u'moped'],\n",
       " [u'moped'],\n",
       " [u'suit'],\n",
       " [u'hero'],\n",
       " [u'bullet', u'bullet'],\n",
       " [u'ghost'],\n",
       " [u'customer', u'customer'],\n",
       " [u'sniper'],\n",
       " [u'show', u'show', u'show', u'show'],\n",
       " [u'movie', u'movie'],\n",
       " [u'girl'],\n",
       " [u'line'],\n",
       " [u'picture'],\n",
       " [u'monster', u'monster', u'monster', u'monster', u'monster'],\n",
       " [u'dragon'],\n",
       " [u'person'],\n",
       " [u'world'],\n",
       " [u'quinceanera', u'quinceanera', u'quinceanera'],\n",
       " [u'prison'],\n",
       " [u'crawler'],\n",
       " [u'story', u'story'],\n",
       " [u'wife'],\n",
       " [u'cause'],\n",
       " [u'civilization'],\n",
       " [u'protest'],\n",
       " [u'mother', u'mother', u'mother'],\n",
       " [u'letter'],\n",
       " [u'factor'],\n",
       " [u'musical', u'movie'],\n",
       " [u'bastard'],\n",
       " [u'truck', u'truck', u'truck'],\n",
       " [u'mistake'],\n",
       " [u'reason'],\n",
       " [u'outlaw'],\n",
       " [u'man', u'man'],\n",
       " [u'plot'],\n",
       " [u'chance'],\n",
       " [u'rule', u'rule'],\n",
       " [u'question'],\n",
       " [u'parasol'],\n",
       " [u'planet'],\n",
       " [u'medtech'],\n",
       " [u'parent'],\n",
       " [u'drink'],\n",
       " [u'verse', u'verse'],\n",
       " [u'ajogun', u'creature', u'ajogun', u'creature', u'ajogun', u'ajogun'],\n",
       " [u'investigation', u'investigation'],\n",
       " [u'type', u'type', u'type', u'type'],\n",
       " [u'leg'],\n",
       " [u'film'],\n",
       " [u'rocky',\n",
       "  u'rocky',\n",
       "  u'rocky',\n",
       "  u'rocky',\n",
       "  u'rocky',\n",
       "  u'rocky',\n",
       "  u'rocky',\n",
       "  u'rocky',\n",
       "  u'rocky'],\n",
       " [u'ball', u'ball'],\n",
       " [u'appointment'],\n",
       " [u'kid'],\n",
       " [u'converter', u'converter', u'converter'],\n",
       " [u'year'],\n",
       " [u'duck'],\n",
       " [u'weapon'],\n",
       " [u'people'],\n",
       " [u'suspect'],\n",
       " [u'rid'],\n",
       " [u'idea'],\n",
       " [u'iq'],\n",
       " [u'jackass'],\n",
       " [u'reality'],\n",
       " [u'policeman', u'policeman'],\n",
       " [u'bedroom'],\n",
       " [u'situation'],\n",
       " [u'coma'],\n",
       " [u'opportunity'],\n",
       " [u'percent'],\n",
       " [u'lady'],\n",
       " [u'feature'],\n",
       " [u'doorknobs'],\n",
       " [u'witch', u'witch', u'witch'],\n",
       " [u'dream'],\n",
       " [u'weight'],\n",
       " [u'movie'],\n",
       " [u'finger'],\n",
       " [u'hand'],\n",
       " [u'son', u'son', u'son'],\n",
       " [u'newspaper'],\n",
       " [u'question'],\n",
       " [u'reason'],\n",
       " [u'game'],\n",
       " [u'nature'],\n",
       " [u'countdown'],\n",
       " [u'text'],\n",
       " [u'boyfriend', u'boyfriend', u'boyfriend', u'boyfriend'],\n",
       " [u'piece'],\n",
       " [u'kid'],\n",
       " [u'platform', u'platform'],\n",
       " [u'rise'],\n",
       " [u'episode'],\n",
       " [u'episode'],\n",
       " [u'excuse'],\n",
       " [u'bubbe', u'-PRON-'],\n",
       " [u'cat', u'cat'],\n",
       " [u'cat', u'cat'],\n",
       " [u'opponent'],\n",
       " [u'hammock', u'hammock'],\n",
       " [u'girl', u'girl'],\n",
       " [u'medium'],\n",
       " [u'child'],\n",
       " [u'-PRON-', u'-PRON-'],\n",
       " [u'-PRON-'],\n",
       " [u'day'],\n",
       " [u'lamp', u'lamp'],\n",
       " [u'appointment'],\n",
       " [u'list'],\n",
       " [u'list'],\n",
       " [u'gun'],\n",
       " [u'gun', u'gun'],\n",
       " [u'experiment'],\n",
       " [u'people', u'people'],\n",
       " [u'shade'],\n",
       " [u'nipple', u'nipple', u'nipple'],\n",
       " [u'desk', u'desk'],\n",
       " [u'pickle', u'pickle'],\n",
       " [u'raptorman'],\n",
       " [u'raptorman'],\n",
       " [u'think'],\n",
       " [u'pencil'],\n",
       " [u'pencil'],\n",
       " [u'winner'],\n",
       " [u'fella'],\n",
       " [u'kyle', u'attendant'],\n",
       " [u'chew'],\n",
       " [u'accomplishment', u'accomplishment'],\n",
       " [u'decision'],\n",
       " [u'slip'],\n",
       " [u'time'],\n",
       " [u'gun', u'gun'],\n",
       " [u'friend'],\n",
       " [u'act'],\n",
       " [u'pound', u'pound'],\n",
       " [u'daughter', u'daughter', u'daughter'],\n",
       " [u'drunkard', u'drunkard'],\n",
       " [u'towel'],\n",
       " [u'archuran'],\n",
       " [u'star'],\n",
       " [u'spell', u'spell', u'spell', u'spell', u'spell', u'spell'],\n",
       " [u'heart'],\n",
       " [u'heart', u'heart'],\n",
       " [u'freshmen'],\n",
       " [u'expression', u'expression'],\n",
       " [u'breast'],\n",
       " [u'breast'],\n",
       " [u'claymore'],\n",
       " [u'camera', u'camera'],\n",
       " [u'foundation'],\n",
       " [u'plane'],\n",
       " [u'breast', u'breast'],\n",
       " [u'solution'],\n",
       " [u'page'],\n",
       " [u'fish'],\n",
       " [u'tooth'],\n",
       " [u'bottle', u'bottle', u'bottle'],\n",
       " [u'camera'],\n",
       " [u'hour'],\n",
       " [u'idea'],\n",
       " [u'campaign'],\n",
       " [u'sermon'],\n",
       " [u'job', u'job'],\n",
       " [u'murder'],\n",
       " [u'partner'],\n",
       " [u'lawyer'],\n",
       " [u'call'],\n",
       " [u'signal'],\n",
       " [u'gun'],\n",
       " [u'day'],\n",
       " [u'man'],\n",
       " [u'item', u'item', u'item'],\n",
       " [u'reconstruction'],\n",
       " [u'cab'],\n",
       " [u'child'],\n",
       " [u'year'],\n",
       " [u'woodsh', u'woodsh'],\n",
       " [u'camel'],\n",
       " [u'plumber'],\n",
       " [u'storm', u'storm'],\n",
       " [u'year'],\n",
       " [u'rpm'],\n",
       " [u'item', u'item', u'item', u'item'],\n",
       " [u'item', u'item', u'item', u'item'],\n",
       " [u'scale'],\n",
       " [u'puppet', u'puppet'],\n",
       " [u'agreement'],\n",
       " [u'homicide'],\n",
       " [u'plan', u'plan', u'plan', u'plan'],\n",
       " [u'minute', u'minute', u'minute'],\n",
       " [u'mannequin', u'mannequin', u'mannequin'],\n",
       " [u'lead'],\n",
       " [u'murder'],\n",
       " [u'mind'],\n",
       " [u'idea'],\n",
       " [u'bottle'],\n",
       " [u'score', u'score', u'score', u'score', u'score', u'score'],\n",
       " [u'quote', u'quote'],\n",
       " [u'quote', u'quote'],\n",
       " [u'ferrari'],\n",
       " [u'suspect'],\n",
       " [u'room'],\n",
       " [u'relationship'],\n",
       " [u'cronut'],\n",
       " [u'cover'],\n",
       " [u'scale', u'scale'],\n",
       " [u'agent', u'agent', u'agent'],\n",
       " [u'race'],\n",
       " [u'transcript'],\n",
       " [u'album'],\n",
       " [u'question'],\n",
       " [u'whistle', u'whistle'],\n",
       " [u'leg'],\n",
       " [u'stroke'],\n",
       " [u'house'],\n",
       " [u'alibis', u'alibis'],\n",
       " [u'drink'],\n",
       " [u'child', u'child', u'child', u'child', u'child'],\n",
       " [u'twin'],\n",
       " [u'power'],\n",
       " [u'witch'],\n",
       " [u'knife'],\n",
       " [u'freckle'],\n",
       " [u'navel'],\n",
       " [u'future'],\n",
       " [u'witch'],\n",
       " [u'victim', u'victim', u'victim'],\n",
       " [u'life'],\n",
       " [u'chamber', u'chamber'],\n",
       " [u'impressionism'],\n",
       " [u'torch', u'torch'],\n",
       " [u'man'],\n",
       " [u'story'],\n",
       " [u'number', u'number'],\n",
       " [u'pen'],\n",
       " [u'collection'],\n",
       " [u'line', u'line', u'category'],\n",
       " [u'grade', u'grade', u'grade'],\n",
       " [u'guy'],\n",
       " [u'salon'],\n",
       " [u'year'],\n",
       " [u'look'],\n",
       " [u'cover'],\n",
       " [u'mind', u'mind'],\n",
       " [u'verse'],\n",
       " [u'carrot', u'carrot'],\n",
       " [u'carrot'],\n",
       " [u'carrot', u'carrot'],\n",
       " [u'toboggan'],\n",
       " [u'question'],\n",
       " [u'plan'],\n",
       " [u'pipe'],\n",
       " [u'dress', u'dress'],\n",
       " [u'call'],\n",
       " [u'nut'],\n",
       " [u'people'],\n",
       " [u'device'],\n",
       " [u'year', u'year'],\n",
       " [u'grave'],\n",
       " [u'scope'],\n",
       " [u'costume', u'costume'],\n",
       " [u'fixation'],\n",
       " [u'bachelor'],\n",
       " [u'apocalypse'],\n",
       " [u'zed'],\n",
       " [u'box', u'box', u'box'],\n",
       " [u'contract', u'contract', u'contract'],\n",
       " [u'lamp', u'featherstone'],\n",
       " [u'trans'],\n",
       " [u'tool'],\n",
       " [u'mom'],\n",
       " [u'breast'],\n",
       " [u'voyeur'],\n",
       " [u'woman', u'woman'],\n",
       " [u'victim', u'victim', u'victim', u'victim', u'victim', u'victim'],\n",
       " [u'kiss', u'kiss'],\n",
       " [u'lucifer'],\n",
       " [u'girl'],\n",
       " [u'shrub', u'burn', u'shrub'],\n",
       " [u'shed', u'shed'],\n",
       " [u'game', u'game', u'game'],\n",
       " [u'opportunity'],\n",
       " [u'target'],\n",
       " [u'miracle'],\n",
       " [u'unsubs', u'unsubs'],\n",
       " [u'folder'],\n",
       " [u'folder'],\n",
       " [u'drowning'],\n",
       " [u'boyfriend'],\n",
       " [u'passport', u'passport'],\n",
       " [u'kid', u'kid'],\n",
       " [u'photo'],\n",
       " [u'rocket', u'rocket', u'rocket'],\n",
       " [u'key', u'key'],\n",
       " [u'picture'],\n",
       " [u'child', u'kid', u'child'],\n",
       " [u'midget'],\n",
       " [u'lie'],\n",
       " [u'allow'],\n",
       " [u'confession'],\n",
       " [u'year'],\n",
       " [u'medal'],\n",
       " [u'job', u'job'],\n",
       " [u'baby'],\n",
       " [u'rose'],\n",
       " [u'level'],\n",
       " [u'day'],\n",
       " [u'murderer'],\n",
       " [u'shoe'],\n",
       " [u'drink', u'drink'],\n",
       " [u'woman'],\n",
       " [u'way', u'way', u'way'],\n",
       " [u'clip', u'clip'],\n",
       " [u'number', u'number', u'number'],\n",
       " [u'year'],\n",
       " [u'fruit', u'nutcake'],\n",
       " [u'fruit', u'nutcake'],\n",
       " [u'coin'],\n",
       " [u'murder'],\n",
       " [u'car'],\n",
       " [u'ticket'],\n",
       " [u'friend'],\n",
       " [u'woman'],\n",
       " [u'story'],\n",
       " [u'profile', u'profile', u'profile'],\n",
       " [u'movie'],\n",
       " [u'question'],\n",
       " [u'question'],\n",
       " [u'tactic'],\n",
       " [u'sens'],\n",
       " [u'lie'],\n",
       " [u'people'],\n",
       " [u'boy'],\n",
       " [u'dart'],\n",
       " [u'fag'],\n",
       " [u'fag'],\n",
       " [u'cup'],\n",
       " [u'victim'],\n",
       " [u'state'],\n",
       " [u'letter',\n",
       "  u'letter',\n",
       "  u'letter',\n",
       "  u'letter',\n",
       "  u'letter',\n",
       "  u'letter',\n",
       "  u'letter',\n",
       "  u'letter'],\n",
       " [u'nun', u'nun'],\n",
       " [u'ball'],\n",
       " [u'soldier'],\n",
       " [u'chick', u'aspirin'],\n",
       " [u'dvd', u'dvd', u'dvd'],\n",
       " [u'color'],\n",
       " [u'nose', u'nose', u'nose'],\n",
       " [u'tank', u'tank'],\n",
       " [u'idea'],\n",
       " [u'fight', u'fight', u'fight'],\n",
       " [u'mile'],\n",
       " [u'feed'],\n",
       " [u'description'],\n",
       " [u'victim'],\n",
       " [u'number'],\n",
       " [u'grit'],\n",
       " [u'orgasm'],\n",
       " [u'life'],\n",
       " [u'hospital'],\n",
       " [u'lozenge'],\n",
       " [u'text'],\n",
       " [u'idea'],\n",
       " [u'kid', u'kid', u'kid'],\n",
       " [u'bill'],\n",
       " [u'promise'],\n",
       " [u'kid'],\n",
       " [u'people'],\n",
       " [u'child', u'child'],\n",
       " [u'attack'],\n",
       " [u'communication', u'number'],\n",
       " [u'year'],\n",
       " [u'philanthropist', u'philanthropist'],\n",
       " [u'androgum', u'androgums', u'androgum', u'androgum'],\n",
       " [u'-PRON-', u'tammy', u'-PRON-', u'-PRON-'],\n",
       " [u'woman'],\n",
       " [u'snowmen'],\n",
       " [u'mystery'],\n",
       " [u'odd'],\n",
       " [u'plan'],\n",
       " [u'tyler'],\n",
       " [u'minute'],\n",
       " [u'doctor', u'doctor', u'doctor'],\n",
       " [u'secret'],\n",
       " [u'monster', u'monster'],\n",
       " [u'darlene', u'darlene'],\n",
       " [u'act', u'act'],\n",
       " [u'offender'],\n",
       " [u'buono', u'kenneth', u'bianchi'],\n",
       " [u'newspaper', u'newspaper'],\n",
       " [u'woman'],\n",
       " [u'license', u'license'],\n",
       " [u'muffin'],\n",
       " [u'level'],\n",
       " [u'mama'],\n",
       " [u'gun', u'gun', u'gun', u'gun', u'gun'],\n",
       " [u'clip'],\n",
       " [u'decision'],\n",
       " [u'horse'],\n",
       " [u'horse', u'horse', u'horse'],\n",
       " [u'step', u'step'],\n",
       " [u'unsub'],\n",
       " [u'elf'],\n",
       " [u'craft'],\n",
       " [u'liar', u'hypocrite'],\n",
       " [u'predator'],\n",
       " [u'puncture'],\n",
       " [u'puncture'],\n",
       " [u'puncture'],\n",
       " [u'patient'],\n",
       " [u'people'],\n",
       " [u'level'],\n",
       " [u'year'],\n",
       " [u'copycat'],\n",
       " [u'kid'],\n",
       " [u'banana'],\n",
       " [u'baby'],\n",
       " [u'man'],\n",
       " [u'murder'],\n",
       " [u'trigger'],\n",
       " [u'injury', u'injury'],\n",
       " [u'pet'],\n",
       " [u'shortcut'],\n",
       " [u'key'],\n",
       " [u'create'],\n",
       " [u'leech'],\n",
       " [u'leech'],\n",
       " [u'pistol'],\n",
       " [u'element'],\n",
       " [u'klingon'],\n",
       " [u'movie', u'movie'],\n",
       " [u'cure'],\n",
       " [u'expedition'],\n",
       " [u'child', u'child'],\n",
       " [u'war'],\n",
       " [u'xindi'],\n",
       " [u'victim'],\n",
       " [u'song', u'song', u'song'],\n",
       " [u'administration', u'administration'],\n",
       " [u'song'],\n",
       " [u'joke', u'joke'],\n",
       " [u'censor'],\n",
       " [u'hunt'],\n",
       " [u'ripper'],\n",
       " [u'password', u'password', u'password'],\n",
       " [u'mongrel'],\n",
       " [u'ghost'],\n",
       " [u'face'],\n",
       " [u'cinderella', u'nothing', u'nothing'],\n",
       " [u'nothing', u'nothing'],\n",
       " [u'nothing', u'nothing'],\n",
       " [u'choice'],\n",
       " [u'answer'],\n",
       " [u'thief'],\n",
       " [u'laport', u'laport'],\n",
       " [u'level'],\n",
       " [u'level'],\n",
       " [u'point', u'point', u'point'],\n",
       " [u'point', u'point', u'point'],\n",
       " [u'fagita', u'fagita'],\n",
       " [u'baby'],\n",
       " [u'people', u'people'],\n",
       " [u'song'],\n",
       " [u'song'],\n",
       " [u'husband', u'husband', u'husband'],\n",
       " [u'cup'],\n",
       " [u'book'],\n",
       " [u'shotgun'],\n",
       " [u'shotgun'],\n",
       " [u'level'],\n",
       " [u'truck'],\n",
       " [u'name'],\n",
       " [u'name', u'name'],\n",
       " [u'name', u'name'],\n",
       " [u'veal', u'veal'],\n",
       " [u'solution', u'solution'],\n",
       " [u'machine', u'machine'],\n",
       " [u'favour'],\n",
       " [u'taser', u'taser', u'taser'],\n",
       " [u'penfold',\n",
       "  u'-PRON-',\n",
       "  u'penfold',\n",
       "  u'penfold',\n",
       "  u'-PRON-',\n",
       "  u'-PRON-',\n",
       "  u'-PRON-',\n",
       "  u'penfold'],\n",
       " [u'dragon', u'dragon'],\n",
       " [u'crocodile', u'crocodile', u'crocodile'],\n",
       " [u'song'],\n",
       " [u'mission'],\n",
       " [u'date'],\n",
       " [u'demon'],\n",
       " [u'life'],\n",
       " [u'steak', u'steak'],\n",
       " [u'sentence'],\n",
       " [u'fella', u'benvenuto'],\n",
       " [u'point'],\n",
       " [u'movie', u'casablanca', u'movie', u'movie'],\n",
       " [u'portal'],\n",
       " [u'minute'],\n",
       " [u'bike'],\n",
       " [u'think'],\n",
       " [u'blooper'],\n",
       " [u'card'],\n",
       " [u'film'],\n",
       " [u'girl'],\n",
       " [u'album'],\n",
       " [u'piece'],\n",
       " [u'color', u'anger', u'color'],\n",
       " [u'stylophone', u'stylophone', u'stylophone'],\n",
       " [u'stylophone', u'stylophone', u'stylophone'],\n",
       " [u'team', u'team', u'team'],\n",
       " [u'player'],\n",
       " [u'present', u'present'],\n",
       " [u'name', u'name'],\n",
       " [u'name', u'name'],\n",
       " [u'baby', u'baby'],\n",
       " [u'baby', u'twin'],\n",
       " [u'pore', u'pore', u'pore', u'pore', u'pore'],\n",
       " [u'baby'],\n",
       " [u'sit', u'sit'],\n",
       " [u'place'],\n",
       " [u'thing'],\n",
       " [u'beer'],\n",
       " [u'trail', u'trail', u'trail', u'trail', u'trail'],\n",
       " [u'nail'],\n",
       " [u'number', u'number'],\n",
       " [u'x'],\n",
       " [u'transmission'],\n",
       " [u'cellmate'],\n",
       " [u'conversation'],\n",
       " [u'squash'],\n",
       " [u'year'],\n",
       " [u'technique'],\n",
       " [u'sister'],\n",
       " [u'movie', u'gun', u'movie', u'movie', u'gun', u'gun'],\n",
       " [u'possibility'],\n",
       " [u'name'],\n",
       " [u'bird', u'bird', u'bird', u'bird'],\n",
       " [u'house'],\n",
       " [u'opera', u'opera'],\n",
       " [u'belch', u'belch'],\n",
       " [u'mouth', u'mouth', u'mouth', u'mouth'],\n",
       " [u'hero'],\n",
       " [u'hand'],\n",
       " [u'make'],\n",
       " [u'direwolf', u'direwolf'],\n",
       " [u'enemy', u'enemy'],\n",
       " [u'blow'],\n",
       " [u'lordship', u'castle', u'highborn', u'beauty'],\n",
       " [u'bran', u'bran', u'bran'],\n",
       " [u'sword', u'sword'],\n",
       " [u'god', u'god'],\n",
       " [u'motive'],\n",
       " [u'robb', u'robb', u'robb'],\n",
       " [u'riddle', u'riddle'],\n",
       " [u'gargoyle'],\n",
       " [u'horse'],\n",
       " [u'number', u'number'],\n",
       " [u'number'],\n",
       " [u'evo', u'evo'],\n",
       " [u'monkey'],\n",
       " [u'point'],\n",
       " [u'bar'],\n",
       " [u'week', u'week'],\n",
       " [u'case'],\n",
       " [u'agent'],\n",
       " [u'bed', u'bed', u'bed'],\n",
       " [u'-PRON-',\n",
       "  u'-PRON-',\n",
       "  u'-PRON-',\n",
       "  u'-PRON-',\n",
       "  u'-PRON-',\n",
       "  u'-PRON-',\n",
       "  u'-PRON-',\n",
       "  u'-PRON-'],\n",
       " [u'transmitter'],\n",
       " [u'kiss'],\n",
       " [u'people'],\n",
       " [u'people'],\n",
       " [u'people'],\n",
       " [u'cutter'],\n",
       " [u'agent'],\n",
       " [u'copy', u'copy'],\n",
       " [u'trophy'],\n",
       " [u'board'],\n",
       " [u'guy'],\n",
       " [u'phone', u'phone', u'phone'],\n",
       " [u'case', u'case'],\n",
       " [u'box'],\n",
       " [u'reason'],\n",
       " [u'reason'],\n",
       " [u'book', u'book'],\n",
       " [u'reason'],\n",
       " [u'timer'],\n",
       " [u'reason'],\n",
       " [u'aneurysm'],\n",
       " [u'chaperon'],\n",
       " [u'egg'],\n",
       " [u'death', u'death'],\n",
       " [u'protractor', u'protractor'],\n",
       " [u'jacket'],\n",
       " [u'boy'],\n",
       " [u'leper'],\n",
       " [u'vegeta', u'vegeta', u'vegeta', u'vegeta'],\n",
       " [u'people'],\n",
       " [u'name'],\n",
       " [u'saiyans', u'saiyans'],\n",
       " [u'orthodontist'],\n",
       " [u'purpose'],\n",
       " [u'candy'],\n",
       " [u'lady'],\n",
       " [u'hand'],\n",
       " [u'friend'],\n",
       " [u'contestant'],\n",
       " [u'pie', u'pie'],\n",
       " [u'princess'],\n",
       " [u'sword'],\n",
       " [u'trouble'],\n",
       " [u'year'],\n",
       " [u'play', u'play', u'play'],\n",
       " [u'funeral', u'funeral'],\n",
       " [u'android'],\n",
       " [u'machine'],\n",
       " [u'doll', u'doll'],\n",
       " [u'baby'],\n",
       " [u'leech'],\n",
       " [u'end'],\n",
       " [u'rat', u'rat'],\n",
       " [u'draw', u'mauzhertz', u'mauzhertz'],\n",
       " [u'form'],\n",
       " [u'level', u'level', u'level', u'level', u'level', u'level', u'level'],\n",
       " [u'sister'],\n",
       " [u'booty'],\n",
       " [u'measurement'],\n",
       " [u'kiss'],\n",
       " [u'killer'],\n",
       " [u'killer'],\n",
       " [u'goodbye', u'goodbye'],\n",
       " [u'tire', u'tire'],\n",
       " [u'planet', u'planet', u'planet'],\n",
       " [u'pair'],\n",
       " [u'suit'],\n",
       " [u'picture'],\n",
       " [u'guy'],\n",
       " [u'operation'],\n",
       " [u'stalemate'],\n",
       " [u'drink'],\n",
       " [u'system'],\n",
       " [u'hole'],\n",
       " [u'meteor'],\n",
       " [u'-PRON-'],\n",
       " [u'cat'],\n",
       " [u'ship', u'ship'],\n",
       " [u'creature'],\n",
       " [u'dice'],\n",
       " [u'president'],\n",
       " [u'toe'],\n",
       " [u'coffin'],\n",
       " [u'leprechaun'],\n",
       " [u'grift'],\n",
       " [u'mustache'],\n",
       " [u'year'],\n",
       " [u'nanosecond'],\n",
       " [u'orgasm'],\n",
       " [u'tombstone', u'tombstone'],\n",
       " [u'man'],\n",
       " [u'wife'],\n",
       " [u'girl'],\n",
       " [u'cop'],\n",
       " [u'wire', u'wire', u'wire', u'wire', u'wire', u'wire'],\n",
       " [u'wire', u'wire', u'wire', u'wire', u'wire', u'wire'],\n",
       " [u'boulder'],\n",
       " [u'submarine'],\n",
       " [u'monster'],\n",
       " [u'apartment'],\n",
       " [u'asshole'],\n",
       " [u'doctor'],\n",
       " [u'cd'],\n",
       " [u'plane'],\n",
       " [u'request'],\n",
       " [u'scale'],\n",
       " [u'loser'],\n",
       " [u'camera'],\n",
       " [u'bonus'],\n",
       " [u'animal'],\n",
       " [u'yankee'],\n",
       " [u'muffin', u'muffin'],\n",
       " [u'towel', u'towel'],\n",
       " [u'convertible'],\n",
       " [u'toast'],\n",
       " [u'convertible'],\n",
       " [u'perpetrator'],\n",
       " [u'chapter', u'chapter'],\n",
       " [u'robot', u'robot', u'robot'],\n",
       " [u'hour'],\n",
       " [u'lp', u'lp', u'lp', u'lp'],\n",
       " [u'eye', u'eye'],\n",
       " [u'band'],\n",
       " [u'cover', u'cover'],\n",
       " [u'cover', u'cover'],\n",
       " [u'opinion'],\n",
       " [u'problem'],\n",
       " [u'life'],\n",
       " [u'relationship'],\n",
       " [u'bouquet'],\n",
       " [u'face'],\n",
       " [u'hand', u'hand'],\n",
       " [u'gun'],\n",
       " [u'suspect'],\n",
       " [u'theory'],\n",
       " [u'question'],\n",
       " [u'people', u'people'],\n",
       " [u'be'],\n",
       " [u'shiva',\n",
       "  u'shiva',\n",
       "  u'shiva',\n",
       "  u'shiva',\n",
       "  u'shiva',\n",
       "  u'shiva',\n",
       "  u'shiva',\n",
       "  u'shiva',\n",
       "  u'shiva'],\n",
       " [u'movie', u'movie', u'movie'],\n",
       " [u'sex'],\n",
       " [u'drug'],\n",
       " [u'cop'],\n",
       " [u'mother', u'mother', u'mother'],\n",
       " [u'situation'],\n",
       " [u'day'],\n",
       " [u'reach'],\n",
       " [u'god', u'god'],\n",
       " [u'breath'],\n",
       " [u'killer'],\n",
       " [u'opportunity', u'opportunity'],\n",
       " [u'bone'],\n",
       " [u'drink', u'person'],\n",
       " [u'body'],\n",
       " [u'q'],\n",
       " [u'dam'],\n",
       " [u'man'],\n",
       " [u'beer'],\n",
       " [u'beer'],\n",
       " [u'idea', u'idea', u'idea'],\n",
       " [u'woman'],\n",
       " [u'snuffbox'],\n",
       " [u'smile', u'smile'],\n",
       " [u'thing'],\n",
       " [u'fool'],\n",
       " [u'fee'],\n",
       " [u'up'],\n",
       " [u'card'],\n",
       " [u'friend'],\n",
       " [u'omen'],\n",
       " [u'one', u'one'],\n",
       " [u'reason'],\n",
       " [u'ringo', u'gun'],\n",
       " [u'elmo'],\n",
       " [u'thing'],\n",
       " [u'thing'],\n",
       " [u'crook'],\n",
       " [u'rabbit'],\n",
       " [u'dinotopian'],\n",
       " [u'blowjob'],\n",
       " [u'soda'],\n",
       " [u'woman'],\n",
       " [u'donut', u'donut'],\n",
       " [u'bagel'],\n",
       " [u'crewman'],\n",
       " [u'week'],\n",
       " [u'er'],\n",
       " [u'husband', u'husband'],\n",
       " [u'day'],\n",
       " [u'guard'],\n",
       " [u'power'],\n",
       " [u'launcher'],\n",
       " [u'chapter'],\n",
       " [u'launcher'],\n",
       " [u'park'],\n",
       " [u'fart'],\n",
       " [u'power'],\n",
       " [u'shinkenger', u'shinkenger'],\n",
       " [u'chance'],\n",
       " [u'girl'],\n",
       " [u'shirt'],\n",
       " [u'result'],\n",
       " [u'reason'],\n",
       " [u'therapist'],\n",
       " [u'therapist'],\n",
       " [u'plan', u'plan'],\n",
       " [u'engine', u'engine'],\n",
       " [u'attorney', u'attorney', u'attorney', u'attorney'],\n",
       " [u'cold'],\n",
       " [u'percentage'],\n",
       " [u'incarnation'],\n",
       " [u'charter', u'charter'],\n",
       " [u'weakness'],\n",
       " [u'gesture'],\n",
       " [u'time'],\n",
       " [u'slut'],\n",
       " [u'death'],\n",
       " [u'problem'],\n",
       " [u'suspect'],\n",
       " [u'marry'],\n",
       " [u'unit'],\n",
       " [u'continuance'],\n",
       " [u'minute'],\n",
       " [u'holophone', u'holophone'],\n",
       " [u'heart', u'heart'],\n",
       " [u'field'],\n",
       " [u'name', u'name'],\n",
       " [u'rule'],\n",
       " [u'uniform'],\n",
       " [u'girl'],\n",
       " [u'car', u'car'],\n",
       " [u'video', u'vlog'],\n",
       " [u'risk'],\n",
       " [u'president'],\n",
       " [u'pint'],\n",
       " [u'intellect'],\n",
       " [u'rod'],\n",
       " [u'control'],\n",
       " [u'terrorist'],\n",
       " [u'cop', u'cop'],\n",
       " [u'cop', u'cop'],\n",
       " [u'face'],\n",
       " [u'lawyer'],\n",
       " [u'face'],\n",
       " [u'face'],\n",
       " [u'motif'],\n",
       " [u'year', u'year'],\n",
       " [u'ass', u'ass'],\n",
       " [u'year', u'year'],\n",
       " [u'face', u'face'],\n",
       " [u'cradle'],\n",
       " [u'shoe'],\n",
       " [u'swing'],\n",
       " [u'objection'],\n",
       " [u'murder', u'murder'],\n",
       " [u'child', u'child'],\n",
       " [u'sun'],\n",
       " [u'objection'],\n",
       " [u'baby', u'baby', u'baby'],\n",
       " [u'call'],\n",
       " [u'score'],\n",
       " [u'idea'],\n",
       " [u'physical'],\n",
       " [u'account', u'account'],\n",
       " [u'face'],\n",
       " [u'idea'],\n",
       " [u'mind', u'flesh', u'flesh'],\n",
       " [u'victim'],\n",
       " [u'glove'],\n",
       " [u'rookie'],\n",
       " [u'aircraft', u'aircraft', u'aircraft'],\n",
       " [u'point'],\n",
       " [u'bitch'],\n",
       " [u'pressure'],\n",
       " [u'degree', u'degree', u'degree'],\n",
       " [u'minute'],\n",
       " [u'wife'],\n",
       " [u'hole'],\n",
       " [u'client'],\n",
       " [u'doctor', u'doctor'],\n",
       " [u\"d'amico\", u'noel', u'panko'],\n",
       " [u'order'],\n",
       " [u'ear'],\n",
       " [u'child'],\n",
       " [u'fight'],\n",
       " [u'felony', u'felony'],\n",
       " [u'partner'],\n",
       " [u'condom'],\n",
       " [u'line'],\n",
       " [u'girl'],\n",
       " [u'illusion', u'illusion'],\n",
       " [u'breakout'],\n",
       " [u'quake', u'quake'],\n",
       " [u'knot'],\n",
       " [u'pool'],\n",
       " [u'thing'],\n",
       " [u'opponent'],\n",
       " [u'show'],\n",
       " [u'party', u'party'],\n",
       " [u'mile', u'mile', u'mile'],\n",
       " [u'nickname', u'nickname'],\n",
       " [u'tharil'],\n",
       " [u'girlfriend'],\n",
       " [u'people'],\n",
       " [u'midget'],\n",
       " [u'computer', u'electronic', u'technician'],\n",
       " [u'tardis'],\n",
       " [u'spaceship'],\n",
       " [u'myer', u'myer', u'myer', u'myer', u'myer'],\n",
       " [u'chin'],\n",
       " [u'hour'],\n",
       " [u'ship', u'ship'],\n",
       " [u'burger'],\n",
       " [u'box', u'box'],\n",
       " [u'partner', u'partner'],\n",
       " [u'suit', u'suit'],\n",
       " [u'heart'],\n",
       " [u'number', u'number'],\n",
       " [u'partner'],\n",
       " [u'lie'],\n",
       " [u'oath', u'oath'],\n",
       " [u'boat'],\n",
       " [u'cat', u'cat', u'cat'],\n",
       " [u'game'],\n",
       " [u'gun'],\n",
       " [u'translator', u'translator'],\n",
       " [u'child'],\n",
       " [u'set'],\n",
       " [u'minute'],\n",
       " ...]"
      ]
     },
     "execution_count": 89,
     "metadata": {},
     "output_type": "execute_result"
    }
   ],
   "source": [
    "lemma_refs"
   ]
  },
  {
   "cell_type": "code",
   "execution_count": 90,
   "metadata": {
    "collapsed": false
   },
   "outputs": [
    {
     "name": "stdout",
     "output_type": "stream",
     "text": [
      "min targets: 1\n",
      "max targets: 5\n",
      "mean targets: 1.04371465855\n",
      "std targets: 0.235133601825\n",
      "median targets: 1.0\n"
     ]
    }
   ],
   "source": [
    "num_unique_ref = [len(set(x)) for x in lemma_refs]\n",
    "for name, f in metrics_f.iteritems():\n",
    "    print '{0} targets: {1}'.format(name, f(num_unique_ref))"
   ]
  },
  {
   "cell_type": "code",
   "execution_count": 34,
   "metadata": {
    "collapsed": false
   },
   "outputs": [
    {
     "data": {
      "text/plain": [
       "Counter({1: 4282, 2: 292, 3: 19, 4: 4, 5: 1})"
      ]
     },
     "execution_count": 34,
     "metadata": {},
     "output_type": "execute_result"
    }
   ],
   "source": [
    "Counter(num_unique_ref)"
   ]
  },
  {
   "cell_type": "code",
   "execution_count": 91,
   "metadata": {
    "collapsed": false
   },
   "outputs": [
    {
     "data": {
      "text/plain": [
       "Counter({1: 4421, 2: 159, 3: 13, 4: 4, 5: 1})"
      ]
     },
     "execution_count": 91,
     "metadata": {},
     "output_type": "execute_result"
    }
   ],
   "source": [
    "Counter(num_unique_ref)"
   ]
  },
  {
   "cell_type": "code",
   "execution_count": 134,
   "metadata": {
    "collapsed": false
   },
   "outputs": [
    {
     "data": {
      "text/plain": [
       "4799"
      ]
     },
     "execution_count": 134,
     "metadata": {},
     "output_type": "execute_result"
    }
   ],
   "source": [
    "sum(num_unique_ref)"
   ]
  },
  {
   "cell_type": "code",
   "execution_count": 92,
   "metadata": {
    "collapsed": false
   },
   "outputs": [
    {
     "data": {
      "text/plain": [
       "[{u'kid'},\n",
       " {u'crooler'},\n",
       " {u'muffin'},\n",
       " {u'airedale'},\n",
       " {u'side'},\n",
       " {u'blackout'},\n",
       " {u'ending'},\n",
       " {u'man'},\n",
       " {u'dong'},\n",
       " {u'dong'},\n",
       " {u'dong'},\n",
       " {u'thousand'},\n",
       " {u'blonde'},\n",
       " {u'rotisserie'},\n",
       " {u'hemroid'},\n",
       " {u'life'},\n",
       " {u'neighborhood'},\n",
       " {u'comb'},\n",
       " {u'hobby'},\n",
       " {u'chick'},\n",
       " {u'car'},\n",
       " {u'baby'},\n",
       " {u'year'},\n",
       " {u'bath'},\n",
       " {u'reason'},\n",
       " {u'bastard'},\n",
       " {u'girlfriend'},\n",
       " {u'movie'},\n",
       " {u'people'},\n",
       " {u'dress'},\n",
       " {u'basket'},\n",
       " {u'pound'},\n",
       " {u'job'},\n",
       " {u'dream'},\n",
       " {u'sam'},\n",
       " {u'award'},\n",
       " {u'tale'},\n",
       " {u'ogre'},\n",
       " {u'present'},\n",
       " {u'statue'},\n",
       " {u'piece'},\n",
       " {u'reputation'},\n",
       " {u'gun'},\n",
       " {u'telekinetic'},\n",
       " {u'partridge'},\n",
       " {u'meistersinger', u'opera'},\n",
       " {u'transceiver'},\n",
       " {u'gun'},\n",
       " {u'arm'},\n",
       " {u'suicide'},\n",
       " {u'man'},\n",
       " {u'dinner'},\n",
       " {u'hang'},\n",
       " {u'jacket'},\n",
       " {u'eclair'},\n",
       " {u'coup'},\n",
       " {u'hour'},\n",
       " {u'community'},\n",
       " {u'drink'},\n",
       " {u'eclair'},\n",
       " {u'car'},\n",
       " {u'yabba'},\n",
       " {u'punchbowl'},\n",
       " {u'rule'},\n",
       " {u'love'},\n",
       " {u'gag', u'kimono', u'rope'},\n",
       " {u'buckle'},\n",
       " {u'test'},\n",
       " {u'joe'},\n",
       " {u'word'},\n",
       " {u'keepin'},\n",
       " {u'cane'},\n",
       " {u'spirit'},\n",
       " {u'text'},\n",
       " {u'moment'},\n",
       " {u'ghost'},\n",
       " {u'device'},\n",
       " {u'copy'},\n",
       " {u'number'},\n",
       " {u'bartowski'},\n",
       " {u'maid', u'man'},\n",
       " {u'boy'},\n",
       " {u'level'},\n",
       " {u'reason'},\n",
       " {u'device'},\n",
       " {u'toast'},\n",
       " {u'commonwealth'},\n",
       " {u'war'},\n",
       " {u'guy'},\n",
       " {u'vampire'},\n",
       " {u'figure'},\n",
       " {u'book'},\n",
       " {u'question'},\n",
       " {u'year'},\n",
       " {u'girlfriend'},\n",
       " {u'funeral'},\n",
       " {u'rat'},\n",
       " {u'cheer', u'warrior'},\n",
       " {u'werewolf'},\n",
       " {u'fairy', u'pixie'},\n",
       " {u'contract'},\n",
       " {u'claim'},\n",
       " {u'gallon'},\n",
       " {u'dip'},\n",
       " {u'cat', u'elizabeth'},\n",
       " {u'butt'},\n",
       " {u'beckman', u'montgomery', u'roan'},\n",
       " {u'tiger'},\n",
       " {u'moped'},\n",
       " {u'moped'},\n",
       " {u'suit'},\n",
       " {u'hero'},\n",
       " {u'bullet'},\n",
       " {u'ghost'},\n",
       " {u'customer'},\n",
       " {u'sniper'},\n",
       " {u'show'},\n",
       " {u'movie'},\n",
       " {u'girl'},\n",
       " {u'line'},\n",
       " {u'picture'},\n",
       " {u'monster'},\n",
       " {u'dragon'},\n",
       " {u'person'},\n",
       " {u'world'},\n",
       " {u'quinceanera'},\n",
       " {u'prison'},\n",
       " {u'crawler'},\n",
       " {u'story'},\n",
       " {u'wife'},\n",
       " {u'cause'},\n",
       " {u'civilization'},\n",
       " {u'protest'},\n",
       " {u'mother'},\n",
       " {u'letter'},\n",
       " {u'factor'},\n",
       " {u'movie', u'musical'},\n",
       " {u'bastard'},\n",
       " {u'truck'},\n",
       " {u'mistake'},\n",
       " {u'reason'},\n",
       " {u'outlaw'},\n",
       " {u'man'},\n",
       " {u'plot'},\n",
       " {u'chance'},\n",
       " {u'rule'},\n",
       " {u'question'},\n",
       " {u'parasol'},\n",
       " {u'planet'},\n",
       " {u'medtech'},\n",
       " {u'parent'},\n",
       " {u'drink'},\n",
       " {u'verse'},\n",
       " {u'ajogun', u'creature'},\n",
       " {u'investigation'},\n",
       " {u'type'},\n",
       " {u'leg'},\n",
       " {u'film'},\n",
       " {u'rocky'},\n",
       " {u'ball'},\n",
       " {u'appointment'},\n",
       " {u'kid'},\n",
       " {u'converter'},\n",
       " {u'year'},\n",
       " {u'duck'},\n",
       " {u'weapon'},\n",
       " {u'people'},\n",
       " {u'suspect'},\n",
       " {u'rid'},\n",
       " {u'idea'},\n",
       " {u'iq'},\n",
       " {u'jackass'},\n",
       " {u'reality'},\n",
       " {u'policeman'},\n",
       " {u'bedroom'},\n",
       " {u'situation'},\n",
       " {u'coma'},\n",
       " {u'opportunity'},\n",
       " {u'percent'},\n",
       " {u'lady'},\n",
       " {u'feature'},\n",
       " {u'doorknobs'},\n",
       " {u'witch'},\n",
       " {u'dream'},\n",
       " {u'weight'},\n",
       " {u'movie'},\n",
       " {u'finger'},\n",
       " {u'hand'},\n",
       " {u'son'},\n",
       " {u'newspaper'},\n",
       " {u'question'},\n",
       " {u'reason'},\n",
       " {u'game'},\n",
       " {u'nature'},\n",
       " {u'countdown'},\n",
       " {u'text'},\n",
       " {u'boyfriend'},\n",
       " {u'piece'},\n",
       " {u'kid'},\n",
       " {u'platform'},\n",
       " {u'rise'},\n",
       " {u'episode'},\n",
       " {u'episode'},\n",
       " {u'excuse'},\n",
       " {u'-PRON-', u'bubbe'},\n",
       " {u'cat'},\n",
       " {u'cat'},\n",
       " {u'opponent'},\n",
       " {u'hammock'},\n",
       " {u'girl'},\n",
       " {u'medium'},\n",
       " {u'child'},\n",
       " {u'-PRON-'},\n",
       " {u'-PRON-'},\n",
       " {u'day'},\n",
       " {u'lamp'},\n",
       " {u'appointment'},\n",
       " {u'list'},\n",
       " {u'list'},\n",
       " {u'gun'},\n",
       " {u'gun'},\n",
       " {u'experiment'},\n",
       " {u'people'},\n",
       " {u'shade'},\n",
       " {u'nipple'},\n",
       " {u'desk'},\n",
       " {u'pickle'},\n",
       " {u'raptorman'},\n",
       " {u'raptorman'},\n",
       " {u'think'},\n",
       " {u'pencil'},\n",
       " {u'pencil'},\n",
       " {u'winner'},\n",
       " {u'fella'},\n",
       " {u'attendant', u'kyle'},\n",
       " {u'chew'},\n",
       " {u'accomplishment'},\n",
       " {u'decision'},\n",
       " {u'slip'},\n",
       " {u'time'},\n",
       " {u'gun'},\n",
       " {u'friend'},\n",
       " {u'act'},\n",
       " {u'pound'},\n",
       " {u'daughter'},\n",
       " {u'drunkard'},\n",
       " {u'towel'},\n",
       " {u'archuran'},\n",
       " {u'star'},\n",
       " {u'spell'},\n",
       " {u'heart'},\n",
       " {u'heart'},\n",
       " {u'freshmen'},\n",
       " {u'expression'},\n",
       " {u'breast'},\n",
       " {u'breast'},\n",
       " {u'claymore'},\n",
       " {u'camera'},\n",
       " {u'foundation'},\n",
       " {u'plane'},\n",
       " {u'breast'},\n",
       " {u'solution'},\n",
       " {u'page'},\n",
       " {u'fish'},\n",
       " {u'tooth'},\n",
       " {u'bottle'},\n",
       " {u'camera'},\n",
       " {u'hour'},\n",
       " {u'idea'},\n",
       " {u'campaign'},\n",
       " {u'sermon'},\n",
       " {u'job'},\n",
       " {u'murder'},\n",
       " {u'partner'},\n",
       " {u'lawyer'},\n",
       " {u'call'},\n",
       " {u'signal'},\n",
       " {u'gun'},\n",
       " {u'day'},\n",
       " {u'man'},\n",
       " {u'item'},\n",
       " {u'reconstruction'},\n",
       " {u'cab'},\n",
       " {u'child'},\n",
       " {u'year'},\n",
       " {u'woodsh'},\n",
       " {u'camel'},\n",
       " {u'plumber'},\n",
       " {u'storm'},\n",
       " {u'year'},\n",
       " {u'rpm'},\n",
       " {u'item'},\n",
       " {u'item'},\n",
       " {u'scale'},\n",
       " {u'puppet'},\n",
       " {u'agreement'},\n",
       " {u'homicide'},\n",
       " {u'plan'},\n",
       " {u'minute'},\n",
       " {u'mannequin'},\n",
       " {u'lead'},\n",
       " {u'murder'},\n",
       " {u'mind'},\n",
       " {u'idea'},\n",
       " {u'bottle'},\n",
       " {u'score'},\n",
       " {u'quote'},\n",
       " {u'quote'},\n",
       " {u'ferrari'},\n",
       " {u'suspect'},\n",
       " {u'room'},\n",
       " {u'relationship'},\n",
       " {u'cronut'},\n",
       " {u'cover'},\n",
       " {u'scale'},\n",
       " {u'agent'},\n",
       " {u'race'},\n",
       " {u'transcript'},\n",
       " {u'album'},\n",
       " {u'question'},\n",
       " {u'whistle'},\n",
       " {u'leg'},\n",
       " {u'stroke'},\n",
       " {u'house'},\n",
       " {u'alibis'},\n",
       " {u'drink'},\n",
       " {u'child'},\n",
       " {u'twin'},\n",
       " {u'power'},\n",
       " {u'witch'},\n",
       " {u'knife'},\n",
       " {u'freckle'},\n",
       " {u'navel'},\n",
       " {u'future'},\n",
       " {u'witch'},\n",
       " {u'victim'},\n",
       " {u'life'},\n",
       " {u'chamber'},\n",
       " {u'impressionism'},\n",
       " {u'torch'},\n",
       " {u'man'},\n",
       " {u'story'},\n",
       " {u'number'},\n",
       " {u'pen'},\n",
       " {u'collection'},\n",
       " {u'category', u'line'},\n",
       " {u'grade'},\n",
       " {u'guy'},\n",
       " {u'salon'},\n",
       " {u'year'},\n",
       " {u'look'},\n",
       " {u'cover'},\n",
       " {u'mind'},\n",
       " {u'verse'},\n",
       " {u'carrot'},\n",
       " {u'carrot'},\n",
       " {u'carrot'},\n",
       " {u'toboggan'},\n",
       " {u'question'},\n",
       " {u'plan'},\n",
       " {u'pipe'},\n",
       " {u'dress'},\n",
       " {u'call'},\n",
       " {u'nut'},\n",
       " {u'people'},\n",
       " {u'device'},\n",
       " {u'year'},\n",
       " {u'grave'},\n",
       " {u'scope'},\n",
       " {u'costume'},\n",
       " {u'fixation'},\n",
       " {u'bachelor'},\n",
       " {u'apocalypse'},\n",
       " {u'zed'},\n",
       " {u'box'},\n",
       " {u'contract'},\n",
       " {u'featherstone', u'lamp'},\n",
       " {u'trans'},\n",
       " {u'tool'},\n",
       " {u'mom'},\n",
       " {u'breast'},\n",
       " {u'voyeur'},\n",
       " {u'woman'},\n",
       " {u'victim'},\n",
       " {u'kiss'},\n",
       " {u'lucifer'},\n",
       " {u'girl'},\n",
       " {u'burn', u'shrub'},\n",
       " {u'shed'},\n",
       " {u'game'},\n",
       " {u'opportunity'},\n",
       " {u'target'},\n",
       " {u'miracle'},\n",
       " {u'unsubs'},\n",
       " {u'folder'},\n",
       " {u'folder'},\n",
       " {u'drowning'},\n",
       " {u'boyfriend'},\n",
       " {u'passport'},\n",
       " {u'kid'},\n",
       " {u'photo'},\n",
       " {u'rocket'},\n",
       " {u'key'},\n",
       " {u'picture'},\n",
       " {u'child', u'kid'},\n",
       " {u'midget'},\n",
       " {u'lie'},\n",
       " {u'allow'},\n",
       " {u'confession'},\n",
       " {u'year'},\n",
       " {u'medal'},\n",
       " {u'job'},\n",
       " {u'baby'},\n",
       " {u'rose'},\n",
       " {u'level'},\n",
       " {u'day'},\n",
       " {u'murderer'},\n",
       " {u'shoe'},\n",
       " {u'drink'},\n",
       " {u'woman'},\n",
       " {u'way'},\n",
       " {u'clip'},\n",
       " {u'number'},\n",
       " {u'year'},\n",
       " {u'fruit', u'nutcake'},\n",
       " {u'fruit', u'nutcake'},\n",
       " {u'coin'},\n",
       " {u'murder'},\n",
       " {u'car'},\n",
       " {u'ticket'},\n",
       " {u'friend'},\n",
       " {u'woman'},\n",
       " {u'story'},\n",
       " {u'profile'},\n",
       " {u'movie'},\n",
       " {u'question'},\n",
       " {u'question'},\n",
       " {u'tactic'},\n",
       " {u'sens'},\n",
       " {u'lie'},\n",
       " {u'people'},\n",
       " {u'boy'},\n",
       " {u'dart'},\n",
       " {u'fag'},\n",
       " {u'fag'},\n",
       " {u'cup'},\n",
       " {u'victim'},\n",
       " {u'state'},\n",
       " {u'letter'},\n",
       " {u'nun'},\n",
       " {u'ball'},\n",
       " {u'soldier'},\n",
       " {u'aspirin', u'chick'},\n",
       " {u'dvd'},\n",
       " {u'color'},\n",
       " {u'nose'},\n",
       " {u'tank'},\n",
       " {u'idea'},\n",
       " {u'fight'},\n",
       " {u'mile'},\n",
       " {u'feed'},\n",
       " {u'description'},\n",
       " {u'victim'},\n",
       " {u'number'},\n",
       " {u'grit'},\n",
       " {u'orgasm'},\n",
       " {u'life'},\n",
       " {u'hospital'},\n",
       " {u'lozenge'},\n",
       " {u'text'},\n",
       " {u'idea'},\n",
       " {u'kid'},\n",
       " {u'bill'},\n",
       " {u'promise'},\n",
       " {u'kid'},\n",
       " {u'people'},\n",
       " {u'child'},\n",
       " {u'attack'},\n",
       " {u'communication', u'number'},\n",
       " {u'year'},\n",
       " {u'philanthropist'},\n",
       " {u'androgum', u'androgums'},\n",
       " {u'-PRON-', u'tammy'},\n",
       " {u'woman'},\n",
       " {u'snowmen'},\n",
       " {u'mystery'},\n",
       " {u'odd'},\n",
       " {u'plan'},\n",
       " {u'tyler'},\n",
       " {u'minute'},\n",
       " {u'doctor'},\n",
       " {u'secret'},\n",
       " {u'monster'},\n",
       " {u'darlene'},\n",
       " {u'act'},\n",
       " {u'offender'},\n",
       " {u'bianchi', u'buono', u'kenneth'},\n",
       " {u'newspaper'},\n",
       " {u'woman'},\n",
       " {u'license'},\n",
       " {u'muffin'},\n",
       " {u'level'},\n",
       " {u'mama'},\n",
       " {u'gun'},\n",
       " {u'clip'},\n",
       " {u'decision'},\n",
       " {u'horse'},\n",
       " {u'horse'},\n",
       " {u'step'},\n",
       " {u'unsub'},\n",
       " {u'elf'},\n",
       " {u'craft'},\n",
       " {u'hypocrite', u'liar'},\n",
       " {u'predator'},\n",
       " {u'puncture'},\n",
       " {u'puncture'},\n",
       " {u'puncture'},\n",
       " {u'patient'},\n",
       " {u'people'},\n",
       " {u'level'},\n",
       " {u'year'},\n",
       " {u'copycat'},\n",
       " {u'kid'},\n",
       " {u'banana'},\n",
       " {u'baby'},\n",
       " {u'man'},\n",
       " {u'murder'},\n",
       " {u'trigger'},\n",
       " {u'injury'},\n",
       " {u'pet'},\n",
       " {u'shortcut'},\n",
       " {u'key'},\n",
       " {u'create'},\n",
       " {u'leech'},\n",
       " {u'leech'},\n",
       " {u'pistol'},\n",
       " {u'element'},\n",
       " {u'klingon'},\n",
       " {u'movie'},\n",
       " {u'cure'},\n",
       " {u'expedition'},\n",
       " {u'child'},\n",
       " {u'war'},\n",
       " {u'xindi'},\n",
       " {u'victim'},\n",
       " {u'song'},\n",
       " {u'administration'},\n",
       " {u'song'},\n",
       " {u'joke'},\n",
       " {u'censor'},\n",
       " {u'hunt'},\n",
       " {u'ripper'},\n",
       " {u'password'},\n",
       " {u'mongrel'},\n",
       " {u'ghost'},\n",
       " {u'face'},\n",
       " {u'cinderella', u'nothing'},\n",
       " {u'nothing'},\n",
       " {u'nothing'},\n",
       " {u'choice'},\n",
       " {u'answer'},\n",
       " {u'thief'},\n",
       " {u'laport'},\n",
       " {u'level'},\n",
       " {u'level'},\n",
       " {u'point'},\n",
       " {u'point'},\n",
       " {u'fagita'},\n",
       " {u'baby'},\n",
       " {u'people'},\n",
       " {u'song'},\n",
       " {u'song'},\n",
       " {u'husband'},\n",
       " {u'cup'},\n",
       " {u'book'},\n",
       " {u'shotgun'},\n",
       " {u'shotgun'},\n",
       " {u'level'},\n",
       " {u'truck'},\n",
       " {u'name'},\n",
       " {u'name'},\n",
       " {u'name'},\n",
       " {u'veal'},\n",
       " {u'solution'},\n",
       " {u'machine'},\n",
       " {u'favour'},\n",
       " {u'taser'},\n",
       " {u'-PRON-', u'penfold'},\n",
       " {u'dragon'},\n",
       " {u'crocodile'},\n",
       " {u'song'},\n",
       " {u'mission'},\n",
       " {u'date'},\n",
       " {u'demon'},\n",
       " {u'life'},\n",
       " {u'steak'},\n",
       " {u'sentence'},\n",
       " {u'benvenuto', u'fella'},\n",
       " {u'point'},\n",
       " {u'casablanca', u'movie'},\n",
       " {u'portal'},\n",
       " {u'minute'},\n",
       " {u'bike'},\n",
       " {u'think'},\n",
       " {u'blooper'},\n",
       " {u'card'},\n",
       " {u'film'},\n",
       " {u'girl'},\n",
       " {u'album'},\n",
       " {u'piece'},\n",
       " {u'anger', u'color'},\n",
       " {u'stylophone'},\n",
       " {u'stylophone'},\n",
       " {u'team'},\n",
       " {u'player'},\n",
       " {u'present'},\n",
       " {u'name'},\n",
       " {u'name'},\n",
       " {u'baby'},\n",
       " {u'baby', u'twin'},\n",
       " {u'pore'},\n",
       " {u'baby'},\n",
       " {u'sit'},\n",
       " {u'place'},\n",
       " {u'thing'},\n",
       " {u'beer'},\n",
       " {u'trail'},\n",
       " {u'nail'},\n",
       " {u'number'},\n",
       " {u'x'},\n",
       " {u'transmission'},\n",
       " {u'cellmate'},\n",
       " {u'conversation'},\n",
       " {u'squash'},\n",
       " {u'year'},\n",
       " {u'technique'},\n",
       " {u'sister'},\n",
       " {u'gun', u'movie'},\n",
       " {u'possibility'},\n",
       " {u'name'},\n",
       " {u'bird'},\n",
       " {u'house'},\n",
       " {u'opera'},\n",
       " {u'belch'},\n",
       " {u'mouth'},\n",
       " {u'hero'},\n",
       " {u'hand'},\n",
       " {u'make'},\n",
       " {u'direwolf'},\n",
       " {u'enemy'},\n",
       " {u'blow'},\n",
       " {u'beauty', u'castle', u'highborn', u'lordship'},\n",
       " {u'bran'},\n",
       " {u'sword'},\n",
       " {u'god'},\n",
       " {u'motive'},\n",
       " {u'robb'},\n",
       " {u'riddle'},\n",
       " {u'gargoyle'},\n",
       " {u'horse'},\n",
       " {u'number'},\n",
       " {u'number'},\n",
       " {u'evo'},\n",
       " {u'monkey'},\n",
       " {u'point'},\n",
       " {u'bar'},\n",
       " {u'week'},\n",
       " {u'case'},\n",
       " {u'agent'},\n",
       " {u'bed'},\n",
       " {u'-PRON-'},\n",
       " {u'transmitter'},\n",
       " {u'kiss'},\n",
       " {u'people'},\n",
       " {u'people'},\n",
       " {u'people'},\n",
       " {u'cutter'},\n",
       " {u'agent'},\n",
       " {u'copy'},\n",
       " {u'trophy'},\n",
       " {u'board'},\n",
       " {u'guy'},\n",
       " {u'phone'},\n",
       " {u'case'},\n",
       " {u'box'},\n",
       " {u'reason'},\n",
       " {u'reason'},\n",
       " {u'book'},\n",
       " {u'reason'},\n",
       " {u'timer'},\n",
       " {u'reason'},\n",
       " {u'aneurysm'},\n",
       " {u'chaperon'},\n",
       " {u'egg'},\n",
       " {u'death'},\n",
       " {u'protractor'},\n",
       " {u'jacket'},\n",
       " {u'boy'},\n",
       " {u'leper'},\n",
       " {u'vegeta'},\n",
       " {u'people'},\n",
       " {u'name'},\n",
       " {u'saiyans'},\n",
       " {u'orthodontist'},\n",
       " {u'purpose'},\n",
       " {u'candy'},\n",
       " {u'lady'},\n",
       " {u'hand'},\n",
       " {u'friend'},\n",
       " {u'contestant'},\n",
       " {u'pie'},\n",
       " {u'princess'},\n",
       " {u'sword'},\n",
       " {u'trouble'},\n",
       " {u'year'},\n",
       " {u'play'},\n",
       " {u'funeral'},\n",
       " {u'android'},\n",
       " {u'machine'},\n",
       " {u'doll'},\n",
       " {u'baby'},\n",
       " {u'leech'},\n",
       " {u'end'},\n",
       " {u'rat'},\n",
       " {u'draw', u'mauzhertz'},\n",
       " {u'form'},\n",
       " {u'level'},\n",
       " {u'sister'},\n",
       " {u'booty'},\n",
       " {u'measurement'},\n",
       " {u'kiss'},\n",
       " {u'killer'},\n",
       " {u'killer'},\n",
       " {u'goodbye'},\n",
       " {u'tire'},\n",
       " {u'planet'},\n",
       " {u'pair'},\n",
       " {u'suit'},\n",
       " {u'picture'},\n",
       " {u'guy'},\n",
       " {u'operation'},\n",
       " {u'stalemate'},\n",
       " {u'drink'},\n",
       " {u'system'},\n",
       " {u'hole'},\n",
       " {u'meteor'},\n",
       " {u'-PRON-'},\n",
       " {u'cat'},\n",
       " {u'ship'},\n",
       " {u'creature'},\n",
       " {u'dice'},\n",
       " {u'president'},\n",
       " {u'toe'},\n",
       " {u'coffin'},\n",
       " {u'leprechaun'},\n",
       " {u'grift'},\n",
       " {u'mustache'},\n",
       " {u'year'},\n",
       " {u'nanosecond'},\n",
       " {u'orgasm'},\n",
       " {u'tombstone'},\n",
       " {u'man'},\n",
       " {u'wife'},\n",
       " {u'girl'},\n",
       " {u'cop'},\n",
       " {u'wire'},\n",
       " {u'wire'},\n",
       " {u'boulder'},\n",
       " {u'submarine'},\n",
       " {u'monster'},\n",
       " {u'apartment'},\n",
       " {u'asshole'},\n",
       " {u'doctor'},\n",
       " {u'cd'},\n",
       " {u'plane'},\n",
       " {u'request'},\n",
       " {u'scale'},\n",
       " {u'loser'},\n",
       " {u'camera'},\n",
       " {u'bonus'},\n",
       " {u'animal'},\n",
       " {u'yankee'},\n",
       " {u'muffin'},\n",
       " {u'towel'},\n",
       " {u'convertible'},\n",
       " {u'toast'},\n",
       " {u'convertible'},\n",
       " {u'perpetrator'},\n",
       " {u'chapter'},\n",
       " {u'robot'},\n",
       " {u'hour'},\n",
       " {u'lp'},\n",
       " {u'eye'},\n",
       " {u'band'},\n",
       " {u'cover'},\n",
       " {u'cover'},\n",
       " {u'opinion'},\n",
       " {u'problem'},\n",
       " {u'life'},\n",
       " {u'relationship'},\n",
       " {u'bouquet'},\n",
       " {u'face'},\n",
       " {u'hand'},\n",
       " {u'gun'},\n",
       " {u'suspect'},\n",
       " {u'theory'},\n",
       " {u'question'},\n",
       " {u'people'},\n",
       " {u'be'},\n",
       " {u'shiva'},\n",
       " {u'movie'},\n",
       " {u'sex'},\n",
       " {u'drug'},\n",
       " {u'cop'},\n",
       " {u'mother'},\n",
       " {u'situation'},\n",
       " {u'day'},\n",
       " {u'reach'},\n",
       " {u'god'},\n",
       " {u'breath'},\n",
       " {u'killer'},\n",
       " {u'opportunity'},\n",
       " {u'bone'},\n",
       " {u'drink', u'person'},\n",
       " {u'body'},\n",
       " {u'q'},\n",
       " {u'dam'},\n",
       " {u'man'},\n",
       " {u'beer'},\n",
       " {u'beer'},\n",
       " {u'idea'},\n",
       " {u'woman'},\n",
       " {u'snuffbox'},\n",
       " {u'smile'},\n",
       " {u'thing'},\n",
       " {u'fool'},\n",
       " {u'fee'},\n",
       " {u'up'},\n",
       " {u'card'},\n",
       " {u'friend'},\n",
       " {u'omen'},\n",
       " {u'one'},\n",
       " {u'reason'},\n",
       " {u'gun', u'ringo'},\n",
       " {u'elmo'},\n",
       " {u'thing'},\n",
       " {u'thing'},\n",
       " {u'crook'},\n",
       " {u'rabbit'},\n",
       " {u'dinotopian'},\n",
       " {u'blowjob'},\n",
       " {u'soda'},\n",
       " {u'woman'},\n",
       " {u'donut'},\n",
       " {u'bagel'},\n",
       " {u'crewman'},\n",
       " {u'week'},\n",
       " {u'er'},\n",
       " {u'husband'},\n",
       " {u'day'},\n",
       " {u'guard'},\n",
       " {u'power'},\n",
       " {u'launcher'},\n",
       " {u'chapter'},\n",
       " {u'launcher'},\n",
       " {u'park'},\n",
       " {u'fart'},\n",
       " {u'power'},\n",
       " {u'shinkenger'},\n",
       " {u'chance'},\n",
       " {u'girl'},\n",
       " {u'shirt'},\n",
       " {u'result'},\n",
       " {u'reason'},\n",
       " {u'therapist'},\n",
       " {u'therapist'},\n",
       " {u'plan'},\n",
       " {u'engine'},\n",
       " {u'attorney'},\n",
       " {u'cold'},\n",
       " {u'percentage'},\n",
       " {u'incarnation'},\n",
       " {u'charter'},\n",
       " {u'weakness'},\n",
       " {u'gesture'},\n",
       " {u'time'},\n",
       " {u'slut'},\n",
       " {u'death'},\n",
       " {u'problem'},\n",
       " {u'suspect'},\n",
       " {u'marry'},\n",
       " {u'unit'},\n",
       " {u'continuance'},\n",
       " {u'minute'},\n",
       " {u'holophone'},\n",
       " {u'heart'},\n",
       " {u'field'},\n",
       " {u'name'},\n",
       " {u'rule'},\n",
       " {u'uniform'},\n",
       " {u'girl'},\n",
       " {u'car'},\n",
       " {u'video', u'vlog'},\n",
       " {u'risk'},\n",
       " {u'president'},\n",
       " {u'pint'},\n",
       " {u'intellect'},\n",
       " {u'rod'},\n",
       " {u'control'},\n",
       " {u'terrorist'},\n",
       " {u'cop'},\n",
       " {u'cop'},\n",
       " {u'face'},\n",
       " {u'lawyer'},\n",
       " {u'face'},\n",
       " {u'face'},\n",
       " {u'motif'},\n",
       " {u'year'},\n",
       " {u'ass'},\n",
       " {u'year'},\n",
       " {u'face'},\n",
       " {u'cradle'},\n",
       " {u'shoe'},\n",
       " {u'swing'},\n",
       " {u'objection'},\n",
       " {u'murder'},\n",
       " {u'child'},\n",
       " {u'sun'},\n",
       " {u'objection'},\n",
       " {u'baby'},\n",
       " {u'call'},\n",
       " {u'score'},\n",
       " {u'idea'},\n",
       " {u'physical'},\n",
       " {u'account'},\n",
       " {u'face'},\n",
       " {u'idea'},\n",
       " {u'flesh', u'mind'},\n",
       " {u'victim'},\n",
       " {u'glove'},\n",
       " {u'rookie'},\n",
       " {u'aircraft'},\n",
       " {u'point'},\n",
       " {u'bitch'},\n",
       " {u'pressure'},\n",
       " {u'degree'},\n",
       " {u'minute'},\n",
       " {u'wife'},\n",
       " {u'hole'},\n",
       " {u'client'},\n",
       " {u'doctor'},\n",
       " {u\"d'amico\", u'noel', u'panko'},\n",
       " {u'order'},\n",
       " {u'ear'},\n",
       " {u'child'},\n",
       " {u'fight'},\n",
       " {u'felony'},\n",
       " {u'partner'},\n",
       " {u'condom'},\n",
       " {u'line'},\n",
       " {u'girl'},\n",
       " {u'illusion'},\n",
       " {u'breakout'},\n",
       " {u'quake'},\n",
       " {u'knot'},\n",
       " {u'pool'},\n",
       " {u'thing'},\n",
       " {u'opponent'},\n",
       " {u'show'},\n",
       " {u'party'},\n",
       " {u'mile'},\n",
       " {u'nickname'},\n",
       " {u'tharil'},\n",
       " {u'girlfriend'},\n",
       " {u'people'},\n",
       " {u'midget'},\n",
       " {u'computer', u'electronic', u'technician'},\n",
       " {u'tardis'},\n",
       " {u'spaceship'},\n",
       " {u'myer'},\n",
       " {u'chin'},\n",
       " {u'hour'},\n",
       " {u'ship'},\n",
       " {u'burger'},\n",
       " {u'box'},\n",
       " {u'partner'},\n",
       " {u'suit'},\n",
       " {u'heart'},\n",
       " {u'number'},\n",
       " {u'partner'},\n",
       " {u'lie'},\n",
       " {u'oath'},\n",
       " {u'boat'},\n",
       " {u'cat'},\n",
       " {u'game'},\n",
       " {u'gun'},\n",
       " {u'translator'},\n",
       " {u'child'},\n",
       " {u'set'},\n",
       " {u'minute'},\n",
       " ...]"
      ]
     },
     "execution_count": 92,
     "metadata": {},
     "output_type": "execute_result"
    }
   ],
   "source": [
    "[(set(x)) for x in lemma_refs]"
   ]
  },
  {
   "cell_type": "markdown",
   "metadata": {},
   "source": [
    "### References heads pos-tags"
   ]
  },
  {
   "cell_type": "code",
   "execution_count": 35,
   "metadata": {
    "collapsed": false
   },
   "outputs": [],
   "source": [
    "pos_c = []\n",
    "for ref in reference_words:\n",
    "    refs = list(set(ref))\n",
    "    ref_nlp = nlp(unicode(refs[0].decode('utf-8')))\n",
    "    pos_c.append((ref_nlp[0].pos_, ref_nlp[0].text))"
   ]
  },
  {
   "cell_type": "code",
   "execution_count": 36,
   "metadata": {
    "collapsed": false
   },
   "outputs": [
    {
     "data": {
      "text/plain": [
       "Counter({u'ADJ': 83,\n",
       "         u'ADP': 5,\n",
       "         u'ADV': 7,\n",
       "         u'DET': 1,\n",
       "         u'INTJ': 5,\n",
       "         u'NOUN': 4049,\n",
       "         u'NUM': 11,\n",
       "         u'PRON': 25,\n",
       "         u'PROPN': 190,\n",
       "         u'PUNCT': 1,\n",
       "         u'SYM': 1,\n",
       "         u'VERB': 219,\n",
       "         u'X': 1})"
      ]
     },
     "execution_count": 36,
     "metadata": {},
     "output_type": "execute_result"
    }
   ],
   "source": [
    "Counter([x[0] for x in pos_c])"
   ]
  },
  {
   "cell_type": "code",
   "execution_count": 37,
   "metadata": {
    "collapsed": false
   },
   "outputs": [
    {
     "data": {
      "text/plain": [
       "[(u'VERB', u'hanging'),\n",
       " (u'VERB', u'drink'),\n",
       " (u'VERB', u'show'),\n",
       " (u'VERB', u'cause'),\n",
       " (u'VERB', u'drink'),\n",
       " (u'VERB', u'suspect'),\n",
       " (u'VERB', u'rides'),\n",
       " (u'VERB', u'features'),\n",
       " (u'VERB', u'rise'),\n",
       " (u'VERB', u'thought'),\n",
       " (u'VERB', u'slip'),\n",
       " (u'VERB', u'act'),\n",
       " (u'VERB', u'woodshed'),\n",
       " (u'VERB', u'lead'),\n",
       " (u'VERB', u'suspect'),\n",
       " (u'VERB', u'covers'),\n",
       " (u'VERB', u'drink'),\n",
       " (u'VERB', u'look'),\n",
       " (u'VERB', u'covers'),\n",
       " (u'VERB', u'kiss')]"
      ]
     },
     "execution_count": 37,
     "metadata": {},
     "output_type": "execute_result"
    }
   ],
   "source": [
    "[x for x in pos_c if x[0] == 'VERB'][:20]"
   ]
  },
  {
   "cell_type": "markdown",
   "metadata": {},
   "source": [
    "### Target-Ref relations"
   ]
  },
  {
   "cell_type": "markdown",
   "metadata": {},
   "source": [
    "#### target-ref min word distance"
   ]
  },
  {
   "cell_type": "code",
   "execution_count": 38,
   "metadata": {
    "collapsed": false
   },
   "outputs": [
    {
     "name": "stdout",
     "output_type": "stream",
     "text": [
      "416652    4701\n",
      "Name: id, dtype: int64\n",
      "\n"
     ]
    }
   ],
   "source": [
    "min_d = lambda a, b: min([abs(x - a) for x in b])\n",
    "\n",
    "target_ref_dists = []\n",
    "mvals = []\n",
    "for k, g in tqdm_notebook(data_groups):\n",
    "    try:\n",
    "        if g[g['head'] != '-']['head'].values[0] != 'REFERENCE':\n",
    "            continue\n",
    "    except:\n",
    "        assert False\n",
    "    head_ind = g[g['head'] != '-'].index[0]\n",
    "    refs = []\n",
    "    for idx, row in g[g['referred'] != '-'].iterrows():\n",
    "        if not row['referred'].startswith('('): continue\n",
    "        refs.append(idx)\n",
    "    if len(refs) == 0:\n",
    "        assert False\n",
    "    \n",
    "    mv = min_d(head_ind, refs)\n",
    "    if mv == 1:\n",
    "        print g.head(1).id\n",
    "    target_ref_dists.append((head_ind, refs))"
   ]
  },
  {
   "cell_type": "code",
   "execution_count": 39,
   "metadata": {
    "collapsed": false
   },
   "outputs": [
    {
     "name": "stdout",
     "output_type": "stream",
     "text": [
      "min target length: 1\n",
      "max target length: 240\n",
      "mean target length: 10.742061766\n",
      "std target length: 10.1395234551\n",
      "median target length: 8.0\n"
     ]
    }
   ],
   "source": [
    "min_ref_tar_word_dist = [min_d(a, b) for a, b in target_ref_dists]\n",
    "for name, f in metrics_f.iteritems():\n",
    "    print '{0} target length: {1}'.format(name, f(min_ref_tar_word_dist))"
   ]
  },
  {
   "cell_type": "code",
   "execution_count": 40,
   "metadata": {
    "collapsed": false
   },
   "outputs": [
    {
     "name": "stdout",
     "output_type": "stream",
     "text": [
      "Counter({6: 451, 4: 427, 5: 420, 7: 409, 8: 317, 3: 289, 9: 273, 10: 237, 11: 225, 12: 162, 13: 153, 2: 147, 14: 133, 16: 105, 15: 103, 17: 78, 18: 67, 19: 67, 20: 64, 23: 48, 21: 46, 22: 46, 24: 39, 26: 30, 25: 28, 27: 24, 28: 23, 29: 18, 30: 15, 32: 13, 31: 12, 34: 11, 36: 10, 38: 10, 33: 7, 35: 6, 44: 6, 45: 6, 39: 5, 42: 5, 37: 4, 40: 4, 41: 4, 43: 4, 50: 4, 53: 4, 47: 3, 48: 3, 49: 2, 51: 2, 52: 2, 55: 2, 59: 2, 60: 2, 62: 2, 1: 1, 46: 1, 54: 1, 57: 1, 61: 1, 63: 1, 64: 1, 175: 1, 68: 1, 69: 1, 71: 1, 73: 1, 93: 1, 95: 1, 99: 1, 100: 1, 171: 1, 240: 1, 150: 1})\n",
      "0.908003479774\n"
     ]
    }
   ],
   "source": [
    "min_ref_tar_word_c = Counter(min_ref_tar_word_dist)\n",
    "print min_ref_tar_word_c\n",
    "\n",
    "print float(sum([x[1] for x in min_ref_tar_word_c.most_common(20)])) / sum(min_ref_tar_word_c.values())"
   ]
  },
  {
   "cell_type": "markdown",
   "metadata": {},
   "source": [
    "#### target-ref same speaker"
   ]
  },
  {
   "cell_type": "code",
   "execution_count": 41,
   "metadata": {
    "collapsed": false
   },
   "outputs": [
    {
     "name": "stdout",
     "output_type": "stream",
     "text": [
      "\n"
     ]
    }
   ],
   "source": [
    "target_ref_speakers = []\n",
    "target_ref_lines = []\n",
    "target_ref_tokens_order = []\n",
    "trto = []\n",
    "for k, g in tqdm_notebook(data_groups):\n",
    "    try:\n",
    "        if g[g['head'] != '-']['head'].values[0] != 'REFERENCE':\n",
    "            continue\n",
    "    except:\n",
    "        assert False\n",
    "    head = g[g['head'] != '-']\n",
    "    head_speaker = head.speaker.values[0]\n",
    "    head_line = head.line_ind.values[0]\n",
    "    head_ind = head.index[0]\n",
    "    \n",
    "    # getting the first speaker\n",
    "    refs = []\n",
    "    for idx, row in g[g['referred'] != '-'].iterrows():\n",
    "        target_speaker = row.speaker\n",
    "        refs.append(1)\n",
    "        break\n",
    "    \n",
    "    # getting all indices where there is a reference answer\n",
    "    referred_lines = list(set(g[g['referred'] != '-'].line_ind.values.tolist()))\n",
    "    referred_inds = g[g['referred'] != '-'].index.values.tolist()\n",
    "    \n",
    "    if len(refs) == 0:\n",
    "        assert False\n",
    "    \n",
    "    vals = [(x - head_ind) for x in referred_inds]\n",
    "    if all([x > 0 for x in vals]):\n",
    "        trto.append(k)\n",
    "        \n",
    "    target_ref_speakers.append((head_speaker, target_speaker))\n",
    "    target_ref_lines.append((head_line, referred_lines))\n",
    "    target_ref_tokens_order.append((head_ind, referred_inds))"
   ]
  },
  {
   "cell_type": "code",
   "execution_count": 42,
   "metadata": {
    "collapsed": false
   },
   "outputs": [
    {
     "data": {
      "text/plain": [
       "4598"
      ]
     },
     "execution_count": 42,
     "metadata": {},
     "output_type": "execute_result"
    }
   ],
   "source": [
    "len(target_ref_lines)"
   ]
  },
  {
   "cell_type": "code",
   "execution_count": 43,
   "metadata": {
    "collapsed": false
   },
   "outputs": [
    {
     "name": "stdout",
     "output_type": "stream",
     "text": [
      "same speaker:  2491\n",
      "different speaker:  2107\n"
     ]
    }
   ],
   "source": [
    "same_speaker = sum([x[0] == x[1] for x in target_ref_speakers])\n",
    "\n",
    "print 'same speaker: ', same_speaker\n",
    "print 'different speaker: ', len(target_ref_speakers) - same_speaker"
   ]
  },
  {
   "cell_type": "markdown",
   "metadata": {},
   "source": [
    "#### target-ref sentences (by speakers) distance"
   ]
  },
  {
   "cell_type": "code",
   "execution_count": 44,
   "metadata": {
    "collapsed": false
   },
   "outputs": [
    {
     "name": "stdout",
     "output_type": "stream",
     "text": [
      "min target length: 0\n",
      "max target length: 15\n",
      "mean target length: 0.665071770335\n",
      "std target length: 0.771136912023\n",
      "median target length: 1.0\n"
     ]
    }
   ],
   "source": [
    "min_ref_tar_sen_dist = [min_d(a, b) for a, b in target_ref_lines]\n",
    "for name, f in metrics_f.iteritems():\n",
    "    print '{0} target length: {1}'.format(name, f(min_ref_tar_sen_dist))"
   ]
  },
  {
   "cell_type": "code",
   "execution_count": 45,
   "metadata": {
    "collapsed": false,
    "scrolled": true
   },
   "outputs": [
    {
     "name": "stdout",
     "output_type": "stream",
     "text": [
      "Counter({0: 2124, 1: 1949, 2: 508, 3: 7, 4: 5, 5: 2, 15: 2, 12: 1})\n",
      "0.996302740322\n"
     ]
    }
   ],
   "source": [
    "sen_ref_dist_c = Counter(min_ref_tar_sen_dist)\n",
    "print sen_ref_dist_c\n",
    "print float(sum([x[1] for x in sen_ref_dist_c.most_common(3)])) / sum(sen_ref_dist_c.values())"
   ]
  },
  {
   "cell_type": "markdown",
   "metadata": {},
   "source": [
    "#### reference before/after target"
   ]
  },
  {
   "cell_type": "code",
   "execution_count": 46,
   "metadata": {
    "collapsed": false
   },
   "outputs": [
    {
     "data": {
      "text/plain": [
       "1023139"
      ]
     },
     "execution_count": 46,
     "metadata": {},
     "output_type": "execute_result"
    }
   ],
   "source": [
    "g[g['head'] != '-'].index[0]"
   ]
  },
  {
   "cell_type": "code",
   "execution_count": 47,
   "metadata": {
    "collapsed": false
   },
   "outputs": [],
   "source": [
    "def target_before_after(entry):\n",
    "    vals = [(x - entry[0]) for x in entry[1]]\n",
    "    if all([x < 0 for x in vals]):\n",
    "        return 'before'\n",
    "    elif all([x > 0 for x in vals]):\n",
    "        return 'after'\n",
    "    else:\n",
    "        return 'both'"
   ]
  },
  {
   "cell_type": "code",
   "execution_count": 48,
   "metadata": {
    "collapsed": false
   },
   "outputs": [],
   "source": [
    "for x in target_ref_tokens_order:\n",
    "    ans = target_before_after(x) \n",
    "    if ans == 'after': break"
   ]
  },
  {
   "cell_type": "code",
   "execution_count": 49,
   "metadata": {
    "collapsed": false
   },
   "outputs": [
    {
     "data": {
      "image/png": "[encoded data removed]",
      "text/plain": [
       "<matplotlib.figure.Figure at 0x7f66945bdc10>"
      ]
     },
     "metadata": {},
     "output_type": "display_data"
    }
   ],
   "source": [
    "loc_c = Counter([target_before_after(x) for x in target_ref_tokens_order])\n",
    "\n",
    "fig_agg, ax_agg = plt.subplots()\n",
    "\n",
    "ax_agg.pie(loc_c.values(), labels=loc_c.keys(), autopct='%1.1f%%',\n",
    "        shadow=True)\n",
    "ax_agg.axis('equal')  # Equal aspect ratio ensures that pie is drawn as a circle.\n",
    "plt.title('References position to Target', y=1.1)\n",
    "# my_dpi=1200\n",
    "# plt.savefig('../resources/cat-dist.svg', bbox_inches='tight', format='svg', dpi=1200)\n",
    "plt.show()"
   ]
  },
  {
   "cell_type": "markdown",
   "metadata": {},
   "source": [
    "### Nouns in Reference answers"
   ]
  },
  {
   "cell_type": "code",
   "execution_count": 50,
   "metadata": {
    "collapsed": true
   },
   "outputs": [],
   "source": [
    "SEP = '_SEP_'\n",
    "nlp_n = spacy.load('en')\n",
    "old_tokenizer = nlp_n.tokenizer\n",
    "nlp_n.tokenizer = lambda string: old_tokenizer.tokens_from_list(string.split(SEP))"
   ]
  },
  {
   "cell_type": "code",
   "execution_count": 51,
   "metadata": {
    "collapsed": false
   },
   "outputs": [
    {
     "name": "stdout",
     "output_type": "stream",
     "text": [
      "\n"
     ]
    }
   ],
   "source": [
    "ref_sen = []\n",
    "for ind, scene in tqdm_notebook(data_groups):\n",
    "    target = scene[scene['head'] != '-']['head'].values\n",
    "    if len(target) == 0:\n",
    "        continue\n",
    "    if target[0] != 'REFERENCE':\n",
    "        continue\n",
    "    words = scene['word'].tolist()\n",
    "    ref_sen.append(nlp_n(unicode(SEP.join(words).decode('utf-8'))))"
   ]
  },
  {
   "cell_type": "code",
   "execution_count": 52,
   "metadata": {
    "collapsed": true
   },
   "outputs": [],
   "source": [
    "def num_nouns(sen):\n",
    "    c = 0\n",
    "    for w in sen:\n",
    "        if w.pos_ == 'NOUN':\n",
    "            c += 1\n",
    "    return c"
   ]
  },
  {
   "cell_type": "code",
   "execution_count": 53,
   "metadata": {
    "collapsed": false,
    "scrolled": true
   },
   "outputs": [],
   "source": [
    "nouns_c = Counter([num_nouns(x) for x in ref_sen])"
   ]
  },
  {
   "cell_type": "code",
   "execution_count": 54,
   "metadata": {
    "collapsed": false,
    "scrolled": true
   },
   "outputs": [
    {
     "data": {
      "text/plain": [
       "Counter({0: 12,\n",
       "         1: 174,\n",
       "         2: 284,\n",
       "         3: 303,\n",
       "         4: 337,\n",
       "         5: 308,\n",
       "         6: 282,\n",
       "         7: 265,\n",
       "         8: 229,\n",
       "         9: 214,\n",
       "         10: 177,\n",
       "         11: 157,\n",
       "         12: 141,\n",
       "         13: 142,\n",
       "         14: 137,\n",
       "         15: 109,\n",
       "         16: 124,\n",
       "         17: 65,\n",
       "         18: 84,\n",
       "         19: 80,\n",
       "         20: 53,\n",
       "         21: 69,\n",
       "         22: 91,\n",
       "         23: 33,\n",
       "         24: 64,\n",
       "         25: 48,\n",
       "         26: 38,\n",
       "         27: 50,\n",
       "         28: 28,\n",
       "         29: 31,\n",
       "         30: 30,\n",
       "         31: 28,\n",
       "         32: 28,\n",
       "         33: 24,\n",
       "         34: 20,\n",
       "         35: 18,\n",
       "         36: 24,\n",
       "         37: 15,\n",
       "         38: 14,\n",
       "         39: 15,\n",
       "         40: 14,\n",
       "         41: 13,\n",
       "         42: 16,\n",
       "         43: 13,\n",
       "         44: 15,\n",
       "         45: 10,\n",
       "         46: 11,\n",
       "         47: 9,\n",
       "         48: 9,\n",
       "         49: 10,\n",
       "         50: 10,\n",
       "         51: 7,\n",
       "         52: 7,\n",
       "         53: 2,\n",
       "         54: 9,\n",
       "         55: 6,\n",
       "         56: 6,\n",
       "         57: 3,\n",
       "         58: 8,\n",
       "         59: 2,\n",
       "         60: 2,\n",
       "         61: 4,\n",
       "         62: 2,\n",
       "         63: 6,\n",
       "         64: 4,\n",
       "         65: 4,\n",
       "         66: 2,\n",
       "         67: 3,\n",
       "         68: 2,\n",
       "         69: 2,\n",
       "         70: 1,\n",
       "         71: 5,\n",
       "         72: 5,\n",
       "         74: 6,\n",
       "         76: 2,\n",
       "         77: 2,\n",
       "         79: 3,\n",
       "         91: 3,\n",
       "         92: 1,\n",
       "         95: 1,\n",
       "         97: 1,\n",
       "         98: 1,\n",
       "         102: 1,\n",
       "         103: 1,\n",
       "         117: 1,\n",
       "         118: 1,\n",
       "         122: 1,\n",
       "         126: 1,\n",
       "         139: 1,\n",
       "         148: 2,\n",
       "         204: 1,\n",
       "         229: 1})"
      ]
     },
     "execution_count": 54,
     "metadata": {},
     "output_type": "execute_result"
    }
   ],
   "source": [
    "nouns_c"
   ]
  },
  {
   "cell_type": "code",
   "execution_count": 55,
   "metadata": {
    "collapsed": false
   },
   "outputs": [
    {
     "data": {
      "text/plain": [
       "4598"
      ]
     },
     "execution_count": 55,
     "metadata": {},
     "output_type": "execute_result"
    }
   ],
   "source": [
    "len(ref_sen)"
   ]
  }
 ],
 "metadata": {
  "kernelspec": {
   "display_name": "Python 2",
   "language": "python",
   "name": "python2"
  },
  "language_info": {
   "codemirror_mode": {
    "name": "ipython",
    "version": 2
   },
   "file_extension": ".py",
   "mimetype": "text/x-python",
   "name": "python",
   "nbconvert_exporter": "python",
   "pygments_lexer": "ipython2",
   "version": "2.7.13"
  },
  "widgets": {
   "state": {
    "5a0d496e499841138b8e2a0afd9862cc": {
     "views": [
      {
       "cell_index": 56
      }
     ]
    },
    "67eba34629ca4c1890d9bd760324d802": {
     "views": [
      {
       "cell_index": 37
      }
     ]
    },
    "6fd7fdc892c04a28b197e7bc6d4bb7b3": {
     "views": [
      {
       "cell_index": 6
      }
     ]
    },
    "b9a0da69e5614d7f9e8aae0b5cff2cee": {
     "views": [
      {
       "cell_index": 69
      }
     ]
    }
   },
   "version": "1.2.0"
  }
 },
 "nbformat": 4,
 "nbformat_minor": 2
}
