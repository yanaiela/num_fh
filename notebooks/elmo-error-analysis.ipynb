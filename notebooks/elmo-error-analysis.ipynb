{
 "cells": [
  {
   "cell_type": "code",
   "execution_count": 1,
   "metadata": {},
   "outputs": [
    {
     "name": "stdout",
     "output_type": "stream",
     "text": [
      "Better speed can be achieved with apex installed from https://www.github.com/nvidia/apex.\n"
     ]
    }
   ],
   "source": [
    "import sys\n",
    "import json\n",
    "from collections import defaultdict, Counter\n",
    "import itertools\n",
    "\n",
    "from allennlp.models.archival import load_archive\n",
    "from allennlp.predictors import Predictor\n",
    "from allennlp.models.ensemble import Ensemble\n",
    "\n",
    "from tqdm import tqdm\n",
    "import numpy as np"
   ]
  },
  {
   "cell_type": "code",
   "execution_count": 2,
   "metadata": {},
   "outputs": [
    {
     "name": "stdout",
     "output_type": "stream",
     "text": [
      "Using matplotlib backend: TkAgg\n"
     ]
    }
   ],
   "source": [
    "import matplotlib.pyplot as plt\n",
    "\n",
    "%matplotlib\n",
    "%matplotlib inline  "
   ]
  },
  {
   "cell_type": "code",
   "execution_count": 3,
   "metadata": {},
   "outputs": [],
   "source": [
    "sys.path.append('../src/resolution/framework/models/')\n",
    "sys.path.append('../src/resolution/framework/dataset_readers/')\n",
    "sys.path.append('../src/resolution/framework/predictors/')\n",
    "from model_base import NfhDetector\n",
    "from nfh_reader import NFHReader\n",
    "from model_base_predictor import NfhDetectorPredictor"
   ]
  },
  {
   "cell_type": "code",
   "execution_count": 4,
   "metadata": {},
   "outputs": [],
   "source": [
    "def setting_output_span_indices(span_len, additional_classes):\n",
    "    span_dic = {}\n",
    "    counter = 0\n",
    "    for c in additional_classes:\n",
    "        span_dic[c] = counter\n",
    "        counter += 1\n",
    "    # 10000 is a random large number\n",
    "    for i in range(10000):\n",
    "        for j in range(1, span_len + 1):\n",
    "            s = str(i) + ':' + str(i + j)\n",
    "            span_dic[s] = counter\n",
    "            counter += 1\n",
    "\n",
    "    return dict(span_dic)\n",
    "\n",
    "span_d = setting_output_span_indices(1, ['YEAR', 'AGE', 'CURRENCY', 'PEOPLE', 'TIME', 'OTHER'])\n",
    "label_dict = {v: k for k, v in span_d.items()}"
   ]
  },
  {
   "cell_type": "code",
   "execution_count": 5,
   "metadata": {},
   "outputs": [],
   "source": [
    "def get_closest_head(heads, anchors_indices):\n",
    "    closest_ref = heads[0]\n",
    "    closest_dist = abs(closest_ref - anchors_indices[0])\n",
    "    for i in range(len(heads)):\n",
    "        new_dist = abs(heads[i] - anchors_indices[0])\n",
    "        if new_dist < closest_dist:\n",
    "            closest_dist = new_dist\n",
    "            closest_ref = heads[i]\n",
    "\n",
    "    ref_ind = str(closest_ref) + ':' + str(closest_ref + 1)\n",
    "    head = span_d[ref_ind]\n",
    "    return head"
   ]
  },
  {
   "cell_type": "code",
   "execution_count": 6,
   "metadata": {
    "scrolled": true
   },
   "outputs": [
    {
     "name": "stderr",
     "output_type": "stream",
     "text": [
      "/home/nlp/lazary/anaconda2/envs/allennlp/lib/python3.6/site-packages/torch/nn/modules/rnn.py:46: UserWarning: dropout option adds dropout after all but last recurrent layer, so non-zero dropout expects num_layers greater than 1, but got dropout=0.2 and num_layers=1\n",
      "  \"num_layers={}\".format(dropout, num_layers))\n"
     ]
    }
   ],
   "source": [
    "archive_elmo = load_archive('../src/allen_logs/elmo_shuffle/model.tar.gz')#, cuda_device=3)\n",
    "predictor_elmo = Predictor.from_archive(archive_elmo, 'nfh_classification')"
   ]
  },
  {
   "cell_type": "code",
   "execution_count": 7,
   "metadata": {},
   "outputs": [],
   "source": [
    "def get_data(f_name):\n",
    "    with open(f_name, 'r') as f:\n",
    "        lines = f.readlines()\n",
    "\n",
    "    lines = [line.strip() for line in lines]\n",
    "    return lines\n",
    "\n",
    "lines_train = get_data('../data/resolution/processed/final/shuffle/json_train.txt')\n",
    "lines_dev = get_data('../data/resolution/processed/final/shuffle/json_dev.txt')\n",
    "lines_test = get_data('../data/resolution/processed/final/shuffle/json_test.txt')"
   ]
  },
  {
   "cell_type": "code",
   "execution_count": 8,
   "metadata": {},
   "outputs": [],
   "source": [
    "def get_batched_predictions(predictor, data, limit=10000000000, bs=100):\n",
    "    predictions = []\n",
    "    for i in tqdm(range(1, int(limit / bs))):\n",
    "        batched_lines = [json.loads(x) for x in data[len(predictions): i * bs]]\n",
    "        y_hats = predictor.predict_batch_json(batched_lines)\n",
    "        predictions += y_hats\n",
    "        \n",
    "    batched_lines = [json.loads(x) for x in data[len(predictions): limit]]\n",
    "    y_hats = predictor.predict_batch_json(batched_lines)\n",
    "    predictions += y_hats\n",
    "    return predictions"
   ]
  },
  {
   "cell_type": "code",
   "execution_count": 9,
   "metadata": {},
   "outputs": [
    {
     "name": "stderr",
     "output_type": "stream",
     "text": [
      "100%|██████████| 49/49 [02:44<00:00,  3.35s/it]\n"
     ]
    }
   ],
   "source": [
    "elmo_preds_dev = get_batched_predictions(predictor_elmo, lines_dev, limit=1000, bs=20)"
   ]
  },
  {
   "cell_type": "code",
   "execution_count": 23,
   "metadata": {},
   "outputs": [],
   "source": [
    "import torch\n",
    "torch.cuda.empty_cache()"
   ]
  },
  {
   "cell_type": "code",
   "execution_count": 10,
   "metadata": {},
   "outputs": [],
   "source": [
    "implicit_classes = ['YEAR', 'AGE', 'CURRENCY', 'PEOPLE', 'TIME', 'OTHER']"
   ]
  },
  {
   "cell_type": "code",
   "execution_count": 12,
   "metadata": {},
   "outputs": [
    {
     "name": "stdout",
     "output_type": "stream",
     "text": [
      "0.7300847180173915\n",
      "0.753\n"
     ]
    },
    {
     "name": "stderr",
     "output_type": "stream",
     "text": [
      "/home/nlp/lazary/anaconda2/envs/allennlp/lib/python3.6/site-packages/sklearn/metrics/classification.py:1137: UndefinedMetricWarning: F-score is ill-defined and being set to 0.0 in labels with no true samples.\n",
      "  'recall', 'true', average, warn_for)\n"
     ]
    }
   ],
   "source": [
    "from sklearn.metrics import f1_score\n",
    "def f1_calc(lines, predictions):\n",
    "    \n",
    "    total_correct = 0\n",
    "    ys, yhs = [], []\n",
    "    for dev_ex, dev_pred in zip(lines, predictions):\n",
    "        ex = json.loads(dev_ex)\n",
    "        if ex['head'][0].__class__ is str:\n",
    "            ys.append(implicit_classes.index(ex['head'][0]))\n",
    "            \n",
    "#             print(implicit_classes.index(ex['head'][0]), dev_pred['y_hat'])\n",
    "            if implicit_classes.index(ex['head'][0]) == dev_pred['y_hat']:\n",
    "                total_correct += 1\n",
    "            \n",
    "            if dev_pred['y_hat'] < 6:\n",
    "                yhs.append(dev_pred['y_hat'])\n",
    "            else:\n",
    "                yhs.append(7)\n",
    "        else:\n",
    "            closest_head = get_closest_head(ex['head'], ex['anchors_indices'])\n",
    "#             print(closest_head, dev_pred['y_hat'])\n",
    "            if closest_head == dev_pred['y_hat']:\n",
    "                total_correct += 1\n",
    "            ys.append(6)\n",
    "            if dev_pred['y_hat'] >= 6:\n",
    "                \n",
    "                if closest_head == dev_pred['y_hat']:\n",
    "                    yhs.append(6)\n",
    "                else:\n",
    "                    yhs.append(7)\n",
    "            else:\n",
    "                yhs.append(dev_pred['y_hat'])\n",
    "    print(f1_score(ys, yhs, average='macro'))\n",
    "    print(float(total_correct) / len(lines))\n",
    "\n",
    "f1_calc(lines_dev, elmo_preds_dev)"
   ]
  },
  {
   "cell_type": "code",
   "execution_count": 14,
   "metadata": {},
   "outputs": [
    {
     "name": "stdout",
     "output_type": "stream",
     "text": [
      "0.772\n"
     ]
    }
   ],
   "source": [
    "def calc_score(lines, predictions, inclusive=False):\n",
    "    total_correct = 0\n",
    "    for dev_ex, dev_pred in zip(lines, predictions):\n",
    "        ex = json.loads(dev_ex)\n",
    "        y_hat = dev_pred['y_hat']\n",
    "        if ex['head'][0].__class__ is str:\n",
    "            if implicit_classes.index(ex['head'][0]) == y_hat:\n",
    "                total_correct += 1\n",
    "\n",
    "        else:\n",
    "            \n",
    "            tokens = ex['tokens']\n",
    "            heads = [tokens[x].lower() for x in ex['head']]\n",
    "            \n",
    "            closest_head = get_closest_head(ex['head'], ex['anchors_indices'])\n",
    "#             print(y_hat)\n",
    "#             print(heads)\n",
    "            if closest_head == y_hat:\n",
    "                total_correct += 1\n",
    "            elif inclusive and y_hat >= 6 and tokens[y_hat-6].lower() in heads:\n",
    "                total_correct += 1\n",
    "            \n",
    "    print(float(total_correct) / len(lines))\n",
    "\n",
    "calc_score(lines_dev, elmo_preds_dev, True)"
   ]
  },
  {
   "cell_type": "code",
   "execution_count": 15,
   "metadata": {},
   "outputs": [],
   "source": [
    "implicit_classes = ['YEAR', 'AGE', 'CURRENCY', 'PEOPLE', 'TIME', 'OTHER']\n",
    "num_implicit = len(implicit_classes)\n",
    "\n",
    "def calc_confusion_mat(predictions, data):\n",
    "    exact = 0\n",
    "    one_of = 0\n",
    "    errs = []\n",
    "    err_mat = []\n",
    "    preds_mat = []\n",
    "    one_errs = 0\n",
    "\n",
    "    for ind, (example, prediction) in enumerate(zip(data, predictions)):\n",
    "        example = json.loads(example)\n",
    "        tokens = example['tokens']\n",
    "        \n",
    "        y_hat = prediction['y_hat']\n",
    "        y = example['head']\n",
    "        if len(y) == 1 and y[0] in implicit_classes:\n",
    "            y = implicit_classes.index(y[0])\n",
    "\n",
    "        anchors_indices = example['anchors_indices']\n",
    "        if y.__class__ == list:\n",
    "            closest_y = get_closest_head(y, anchors_indices)\n",
    "            if closest_y == y_hat:\n",
    "                exact += 1\n",
    "                one_of +=1\n",
    "                preds_mat.append((6, 6))\n",
    "            elif y_hat - 6 in y:\n",
    "                one_of += 1\n",
    "                preds_mat.append((6, 6))\n",
    "            else:\n",
    "                errs.append((example, prediction, ind))\n",
    "                if y_hat < num_implicit:\n",
    "                    err_mat.append('Ref_' + implicit_classes[y_hat])\n",
    "                    preds_mat.append((6, y_hat))\n",
    "                else:\n",
    "                    err_mat.append('Ref_Ref')\n",
    "                    preds_mat.append((6, 7))\n",
    "        else:\n",
    "            if y == y_hat:\n",
    "                exact += 1\n",
    "                one_of += 1\n",
    "                preds_mat.append((y, y))\n",
    "            else:\n",
    "                errs.append((example, prediction, ind))\n",
    "                if y_hat < num_implicit:\n",
    "                    err_mat.append(implicit_classes[y] + '_' + implicit_classes[y_hat])\n",
    "                    preds_mat.append((y, y_hat))\n",
    "                else:\n",
    "                    err_mat.append(implicit_classes[y] + '_Ref')\n",
    "                    preds_mat.append((y, 7))\n",
    "    \n",
    "    print(Counter(err_mat))\n",
    "    return errs, err_mat, preds_mat"
   ]
  },
  {
   "cell_type": "code",
   "execution_count": 16,
   "metadata": {},
   "outputs": [
    {
     "name": "stdout",
     "output_type": "stream",
     "text": [
      "Counter({'Ref_OTHER': 51, 'Ref_Ref': 48, 'OTHER_Ref': 44, 'PEOPLE_OTHER': 13, 'Ref_PEOPLE': 13, 'PEOPLE_Ref': 11, 'OTHER_PEOPLE': 10, 'CURRENCY_OTHER': 6, 'Ref_CURRENCY': 5, 'Ref_AGE': 5, 'OTHER_CURRENCY': 5, 'OTHER_YEAR': 2, 'Ref_YEAR': 2, 'CURRENCY_Ref': 2, 'Ref_TIME': 2, 'OTHER_AGE': 2, 'AGE_Ref': 2, 'YEAR_Ref': 1, 'PEOPLE_TIME': 1, 'TIME_Ref': 1, 'AGE_OTHER': 1, 'TIME_OTHER': 1, 'YEAR_AGE': 1})\n"
     ]
    }
   ],
   "source": [
    "elmo_errs, _, preds_mat = calc_confusion_mat(elmo_preds_dev, lines_dev)"
   ]
  },
  {
   "cell_type": "code",
   "execution_count": 18,
   "metadata": {},
   "outputs": [],
   "source": [
    "from sklearn.metrics import confusion_matrix"
   ]
  },
  {
   "cell_type": "code",
   "execution_count": 19,
   "metadata": {},
   "outputs": [
    {
     "data": {
      "text/plain": [
       "array([[ 44,   1,   0,   0,   0,   0,   0,   1],\n",
       "       [  0, 105,   0,   0,   0,   1,   0,   2],\n",
       "       [  0,   0,  32,   0,   0,   6,   0,   2],\n",
       "       [  0,   0,   0,  68,   1,  13,   0,  11],\n",
       "       [  0,   0,   0,   0,  30,   1,   0,   1],\n",
       "       [  2,   2,   5,  10,   0, 154,   0,  44],\n",
       "       [  2,   5,   5,  13,   2,  51, 338,  48],\n",
       "       [  0,   0,   0,   0,   0,   0,   0,   0]])"
      ]
     },
     "execution_count": 19,
     "metadata": {},
     "output_type": "execute_result"
    }
   ],
   "source": [
    "confusion_matrix([x[0] for x in preds_mat], [x[1] for x in preds_mat])"
   ]
  },
  {
   "cell_type": "code",
   "execution_count": 20,
   "metadata": {},
   "outputs": [
    {
     "data": {
      "image/png": "[encoded data removed]",
      "text/plain": [
       "<Figure size 432x288 with 2 Axes>"
      ]
     },
     "metadata": {},
     "output_type": "display_data"
    }
   ],
   "source": [
    "labels = ['YEAR', 'AGE', 'CURRENCY', 'PEOPLE', 'TIME', 'OTHER', 'REFERENCE', 'REF-WRONG']\n",
    "\n",
    "def plot_confusion_matrix(cm, classes,\n",
    "                          title='Confusion matrix',\n",
    "                          cmap=plt.cm.Blues):\n",
    "    \"\"\"\n",
    "    This function prints and plots the confusion matrix.\n",
    "    Normalization can be applied by setting `normalize=True`.\n",
    "    \"\"\"\n",
    "    plt.imshow(cm, interpolation='nearest', cmap=cmap)\n",
    "    plt.title(title)\n",
    "    plt.colorbar()\n",
    "    tick_marks = np.arange(len(classes))\n",
    "    plt.xticks(tick_marks, classes, rotation=45)\n",
    "    plt.yticks(tick_marks, classes)\n",
    "\n",
    "    thresh = cm.max() / 2.\n",
    "    for i, j in itertools.product(range(cm.shape[0]), range(cm.shape[1])):\n",
    "        plt.text(j, i, cm[i, j],\n",
    "                 horizontalalignment=\"center\",\n",
    "                 color=\"white\" if cm[i, j] > thresh else \"black\")\n",
    "\n",
    "    plt.tight_layout()\n",
    "    plt.ylabel('true label')\n",
    "    plt.xlabel('predicted label')\n",
    "    \n",
    "plot_confusion_matrix(confusion_matrix([x[0] for x in preds_mat], [x[1] for x in preds_mat]), labels)"
   ]
  },
  {
   "cell_type": "markdown",
   "metadata": {},
   "source": [
    "### Data Inspection"
   ]
  },
  {
   "cell_type": "code",
   "execution_count": 25,
   "metadata": {},
   "outputs": [
    {
     "name": "stdout",
     "output_type": "stream",
     "text": [
      "text: You are such a slut ! Well , it takes one to know *** one *** , does n't it , dear ?\n",
      "y: [4], slut, \n"
     ]
    }
   ],
   "source": [
    "def inspect_ex(example):\n",
    "    example = json.loads(example)\n",
    "    tokens = example['tokens']\n",
    "    anchors_inds = example['anchors_indices']\n",
    "    \n",
    "    anchored_text = tokens[:anchors_inds[0]] + ['***'] + tokens[anchors_inds[0]: anchors_inds[-1] + 1] + ['***'] + tokens[anchors_inds[-1] + 1:]\n",
    "    \n",
    "    print('text:', ' '.join(anchored_text))\n",
    "    print('y:', example['head'], end=', ')\n",
    "    for head in example['head']:\n",
    "        if head not in span_d:\n",
    "            print(tokens[head], end=', '),\n",
    "        else:\n",
    "            print(head, end=', ')\n",
    "    print()\n",
    "    \n",
    "inspect_ex(lines_dev[0])"
   ]
  },
  {
   "cell_type": "code",
   "execution_count": 26,
   "metadata": {},
   "outputs": [],
   "source": [
    "def make_prediction(predictor, tokens, anchor_inds):\n",
    "#     tokens = text.split()\n",
    "    \n",
    "    example = {'tokens': tokens, 'anchors_indices': anchor_inds}\n",
    "    prediction = predictor.predict_json(example)\n",
    "    y_hat = prediction['y_hat']\n",
    "#     print(y_hat)\n",
    "    if y_hat < len(implicit_classes):\n",
    "        print(implicit_classes[y_hat])\n",
    "    else:\n",
    "        print(tokens[y_hat - len(implicit_classes)])\n",
    "    return prediction\n",
    "    \n",
    "    \n",
    "# make_prediction(predictor_elmo, \"You forget , Doctor , I'M the one who asks the riddles .\", [7])"
   ]
  },
  {
   "cell_type": "code",
   "execution_count": 27,
   "metadata": {},
   "outputs": [
    {
     "name": "stdout",
     "output_type": "stream",
     "text": [
      "24 How has life been without a father ? Okay . I really miss him . But you have Héctor as a legal dad . He might be my legal dad , too ! No , because we 're not sisters , but you can look for another one . How did you look for *** one *** ? I think my brother found him on the internet .\tdad, dad, \tsisters\n",
      "\n"
     ]
    }
   ],
   "source": [
    "def inspect_err(example, prediction, index):\n",
    "    tokens = example['tokens']\n",
    "    anchors_inds = example['anchors_indices']\n",
    "    \n",
    "    anchored_text = tokens[:anchors_inds[0]] + ['***'] + \\\n",
    "        tokens[anchors_inds[0]: anchors_inds[-1] + 1] + ['***'] + \\\n",
    "        tokens[anchors_inds[-1] + 1:]\n",
    "    \n",
    "    print(index, ' '.join(anchored_text), end='\\t')\n",
    "#     print('y:', example['head'], end='***')\n",
    "    for head in example['head']:\n",
    "        if head not in span_d:\n",
    "            print(tokens[head], end=', '),\n",
    "        else:\n",
    "            print(head, end=', ')\n",
    "    print('\\t', end='')\n",
    "    \n",
    "    y_hat = prediction['y_hat']\n",
    "    if y_hat < 6:\n",
    "        y_hat = label_dict[y_hat]\n",
    "    else:\n",
    "#         print(y_hat)\n",
    "        y_hat -= 6\n",
    "#         y_hat = '{0}, {1}'.format(y_hat, tokens[y_hat])\n",
    "        y_hat = '{0}'.format(tokens[y_hat])\n",
    "    \n",
    "    print(y_hat)\n",
    "    print()\n",
    "\n",
    "inspect_err(*elmo_errs[1])"
   ]
  },
  {
   "cell_type": "markdown",
   "metadata": {},
   "source": [
    "### Errors"
   ]
  },
  {
   "cell_type": "code",
   "execution_count": 34,
   "metadata": {},
   "outputs": [
    {
     "name": "stdout",
     "output_type": "stream",
     "text": [
      "7 You do plenty of things for me . Name *** one *** . One ? I 'll name a bunch ! You tell me when my shoelaces are untied . You come over and wake me up at six o'clock every Saturday and Sunday morning just to remind me there 's no school . You ... you ... uh ... did I mention the shoelaces ?\tplenty, \tthings\n",
      "\n",
      "24 How has life been without a father ? Okay . I really miss him . But you have Héctor as a legal dad . He might be my legal dad , too ! No , because we 're not sisters , but you can look for another one . How did you look for *** one *** ? I think my brother found him on the internet .\tdad, dad, \tsisters\n",
      "\n",
      "27 Let me in ! Over my dead body , Chuck ! How about over your tranq'd body ? You were distracting me so she could break in . Yeah . Clever girl . Are you using the 5 milligram darts ? *** 10 *** . Please tell Casey I put up a good fight .\tdarts, \tOTHER\n",
      "\n",
      "28 Simon wants to know if you can get the ring road plan scrapped , Rita . Tell him , no , I ca n't get it scrapped . No , she ca n't get it scrapped . Damn ! Damn ! Thank you , Simon . What on earth for ? Because every time I meet you , I get to thinking my *** two *** are n't such berks after all .\tPEOPLE, \tOTHER\n",
      "\n",
      "31 You 're sulking , Kenny . Lynda , I am not sulking . Is it because I rejected your computing article ? I did n't know you rejected it ... ? You thought it got torn in half by accident ? Oh , breaking it to me gently were you ? No , it 's not because you rejected my compting article . Is it what I said about your mother ? What did you say about my mother ? Oh nothing . C'mon Kenny , what is it ? Well if you have to know , it is something you said . What ? Lynda I do not like \" everybody . \" Kenny that was just something I said in the heat of the moment . Do n't take it to heart . I 'm sick of people thinking I 'm just this reasonable , decent , likeable guy . Oh nobody thinks that . There are lots of people I do n't like . Yeah ? Well of course . Name *** one *** . What ? I 'm curious . Name one person you really hate . Who 's top of your personal hit list ? Well I would n't like to single out who I hate the most . Why not ? Well it would n't be fair on them . You really do like everyone , do n't you ? Oh , I do n't like Mr. Cavendish the maths teacher . Well nobody likes him , he 's a half - dead , senile , old psychopath ! Oh Lynda , he 's not that bad .\tOTHER, \tpeople\n",
      "\n",
      "32 Sorry , there is no cell signal inside the walls . We had to jam it . You get inmates smuggling phones in ? Yeah , it 's been a problem , one of many What about WiFi ? We got you set up as close to the router as possible , but it 's still glitch . Drives me nuts . Back when I worked on the Hill I could n't survive without my phone Hm , I got a teenager at home who knows exactly how you feel ! Ha ha , Well , we have got our good old fashion landlines and a fax machine for you , though . I thought I was the only *** one *** that still use those !\tPEOPLE, \tmachine\n",
      "\n",
      "39 Another lesson ? Uh - huh . What was this *** one *** about ? Uh ... Beauty ... In the dark ... Well ... They must be working . You 're beginning to sound just like a Vorlon .\tlesson, \tOTHER\n",
      "\n",
      "41 Irvin ? I 've got a migraine ! Irvin , you know all about feelings . Wo n't you try to help me ? Wo n't you explain why all those children only have nightmares ? Because you are their nightmare . You could persecute all the children in the world , but there 's one thing you 'll never have . What ? A soul . Because you believe you have *** one *** ? You do n't even have a body . The one who created us made us all monsters . No Krank , you 're wrong . You are the only monster here . Be Quiet ! He is the only one responsible for that , I say I 'm innocent . I 'm innocent ! In any case , I thank you for your help .\tsoul, \tbody\n",
      "\n",
      "44 The Double Dragon shall guide us . Well what are you waiting for ? Fire up that lizard . I 'm driving . Use yours ! Oh yeah . Forgot I had *** one *** . Now - Now let 's see how 'd that go . I call on the Power of the Dragon , lead us to the butt we wish to kick . You call * that * a mystic incantation ? Hey , it worked did n't it ?\tlizard, \tOTHER\n",
      "\n",
      "47 I 've still got $ 30 . I was thinkin ' I might split it with ya , and then again I might get back in that poker game and run it up to a thousand . But , what if you lose the thirty ? You do n't get the fifteen . But , if ya win the *** thousand *** ? You do get the fifteen . Bret , sometimes your heart runs away with your head .\tCURRENCY, \tOTHER\n",
      "\n",
      "52 So , according to this , you said that you struck the Steven with his staff . You smote him . That is n't true , is it ? Yea - no . What did you hit him with ? Oh , it says here a large rock . Yes . No , wait a minute , the branch of a tree . Yes . No , a hockey stick . Yes . You did n't really kill Steven , did you ? No . So why 'd you confess to murder ? Well , I try to live my life according to the 17th proclamation of the Steven , from his second sermon at the Starbucks . Oh , I missed that *** one *** . \" It is better to be agreeable than to be right . \" That 's not religion , that 's marriage . That 's ... very ... So you did n't kill Steven ? Yes . No . You did ? Yes . You killed him ? No . Are you clinically insane or just incredibly annoying ? What would you prefer ?\tsermon, \tproclamation\n",
      "\n",
      "55 I do n't like pushing the engines at 110 % They are rated for *** 120 *** My underwear 's flame - retardant , but it does n't mean I want to set fire to myself to prove it .\t%, \tOTHER\n",
      "\n",
      "56 What should I do here , Charlie ? Depends on what the other guy got . Depends on what the other gentleman has . Right . Well ? What does he have ? How should I know ? I 'm no swami . The very reason this game is so challenging . There 's a lot of money in that pot . How much do you think is in there ? Plenty . 22,500$. How much mining equipment do you have to sell to make 22 grand , Buck ? A lot . Now are you gon na call or fold ? I 'll see your *** two *** ... And raise you five . Take it . I was bluffing . I know . So was I.\tCURRENCY, \tOTHER\n",
      "\n",
      "58 Oh , no ! You 're here ! You haven't answered any of my texts ! Well , I was n't sure which one to reply to . There were fourteen of them . Well , fifteen now . The *** one *** about dinner . Oh , yeah . I was wondering ... if ... you might like ... a home - cooked meal sometime . Oh , that 'd be lovely . What we having ? Sausage surprise ! I 'm known for it around here . Oh . Saturday night , perhaps ? Perfecto . You know that film Fatal Attraction ? The one with the bunny boiler ? Yeah , why ? You 're in it . Oh , no ! That 'll be her . That 's sixteen now .\ttexts, \tfilm\n",
      "\n",
      "60 Mouthing off to teachers , slipping grades , and now hitchhiking . I mean what 's next , Lindsey ? Stripping . What did you just say ? Okay , no phone , no friends , no nothing . For how long ? A month . Whatever . Hey , you want to make it *** two *** ? Dad always said you were a drama queen . Well , what do you expect , Lindsey , since he was always high . I 'd take Dad high over you any day ! Nana 's coming to pick me up . I 'll be out front .\tmonth, \tOTHER\n",
      "\n",
      "61 Henry , I have an obligation a hundred dollars , that 's all it takes for you to risk your life ? Actually , it was more around *** 98 *** ...\tCURRENCY, \tOTHER\n",
      "\n",
      "62 It 's all out on bets . That 's not good enough ! Hey ! Do n't worry , you 'll get the money soon enough . When ? And how much ? 100 grand , like I said . 20 after each game . Wait a minute , that 's 5 games . I thought we were just dumping a few . No , you lose the first *** 3 *** . Kerr 's pitching the third , he 's not with us . So what ? We do n't hit for him , he 'll fold . He 's a busher ! After that , we got to play it by the ear . We got ta make this look good , fellas ! Hey , Chick . Where 's the money you promised me ? Look under your pillow . What ? Compliments of Sports Sullivan .\tgames, \tOTHER\n",
      "\n",
      "63 It measures just 9 inches in circumference , weighs only about 5 ounces , and it made of cork wound with woolen yarn , covered with two layers of cowhide , and stitched by hand precisely 216 times . It travels 60 feet 6 inches from the pitcher 's mound to home - and it can cover that distance at nearly 100 miles an hour . Along the way it can be made to twist , spin , curve , wobble , rise , or fall away . The bat is made of turned ash , less than 42 inches long , not more than 2 3/4 inches in diameter . The batter has only a few thousandths of a second to decide to hit the ball . And yet the men who fail seven times out of ten are considered the game 's greatest heroes . It is played everywhere . In parks and playground and prison yards . In back alleys and farmers fields . By small children and by old men . By raw amateurs and millionare professionals . It is a leisurely game that demands blinding speed . The only game where the defense has the ball . It follows the seasons , beginning each year with the fond expectancy of springtime and ending with the hard facts of autumn . Americans have played baseball for more than 200 years , while they conquered a continent , warred with *** one *** another and with enemies abroad , struggled over labor and civil rights and the meaning of freedom . At the games 's heart lie mythic contradictions : a pastoral game , born in crowded cities ; an exhilarating democratic sport that tolerates cheating and has excluded as many as it has included ; a profoundly conservative game that sometimes manages to be years ahead of its time . It is an American odyssey that links sons and daughters to father and grandfathers . And it reflects a host of age - old American tensions : between workers and owners , scandal and reform , the individual and the collective . It is a haunted game , where each player is measured by the ghosts of those who have gone before . Most of all , it is about time and timelessness , speed and grace , failure and loss , imperishable hope , and coming home .\tPEOPLE, \tmen\n",
      "\n",
      "64 You 'll never hit me that way , boy . That was a warning ! A warnin ' ? Oh , you 'll have to do better than that . Tricky Jim would have warned me with a bullet through the belt buckle . And that 's where the next *** one *** will go ! Ah , that 's good , MacGregor . You 're the cold - blooded one . The steel of Scotland is in ya . You come down here , or I 'll introduce a little lead into your system ! Ha ! Here 's me heart . Make it a quick , clean shot . I know you would n't want me to suffer .\tbullet, \tOTHER\n",
      "\n",
      "74 You were both over 18 . Regardless of your seriousness or intent at the time , I 'm afraid that your wedding at the Drive - Thru of Love was real , legal , and binding . Okay , we are getting married in three days . I 'm afraid you ca n't . Not unless you terminate your first marriage . We have three hundred people coming . Most of them are flying in . So what are we going to say to all of them ? Henry , is there anything we can do to make this go away ? It 's possible , if there 's mutual consent . I brought a dissolution of marriage contract , and I could expedite it through the city , but ... you 'll have to get Mr. O'Leary to sign it , too . How ? It 's been fifteen years . I have no idea where he is . Okay , looks like we found him . But man , is your husband a piece of work . He 's not my husband . Except legally , he is . So , what do we know about him ? Well , your boy got around . He was charged with theft in Austin in ' 5 . He did time for a DUI in Iowa in ' 7 . He was arrested for fraud in Kentucky , and , uh ... oh , this is a good *** one *** . He was put in jail for impersonating an FBI agent in New Orleans . I must say , given his record , I 'm really surprised you stayed with him all these years .\tOTHER, \tDUI\n",
      "\n",
      "77 So , this is data collection for the month of March worldwide , emails and Skype calls . So France , 70 million . Germany , 500 million . Brazil , two billion . Inside the U.S. , 3.1 billion emails and calls . That 's not including any of the telecom company data . Okay , so what 's the collection in Russia ? Russia is *** 1.5 *** billion . Wait , so we 're collecting twice as much in the U.S. as we are in Russia ?\tcalls, calls, \tCURRENCY\n",
      "\n",
      "89 I 'm straight and on the level , as I said before , my stealing days are over , quote the Raven , never more ! Huh , selling wackuum cleaners at 3 o ' clock in the morning ? Come clean , what 's the racket now ? Well you see I 've *** one *** left over to complete my daily quota , so I came a rapping and a tapping at your door . But if you do n't believe it , then I 'll take my hat and beat it , and I 'll never knock again upon your door . Quote the Raven , never more !\tcleaners, \tracket\n",
      "\n",
      "92 Look . Look before you . Listen ! Listen ! Listen . The thunder of fallen men ! Great men , our fathers , forfeiting their world , their legacy ; but not for their sons , for their wives , for their mothers . For their daughters ! And when disappearing men die on their sword , we daughters shall make from *** twelve *** what men could not . Yes ! An army ! You . You see it . Twelve 's not a primary . No , but 13 . You 're a bright little monkey .\tOTHER, \tprimary\n",
      "\n",
      "102 Ellen Russel ? How 'd you find me ? Darlene never unpacked her daughter 's bags from this trip . And I took a wild guess . So what happens now ? What happens now is you go back to the US . I take six days off that I do n't even want . Where 's Darlene ? She 's long gone . Personally , I have mixed feelings about that *** one *** . But we 'll get her , too .\tDarlene, Darlene, \tOTHER\n",
      "\n",
      "105 How awkward was that for you on a scale of *** 1 *** to 10 ? ... It 's like going to your high school reunion and seeing your ex and finding out she 's all big and successful and has a hot new girlfriend .\tscale, \tOTHER\n",
      "\n",
      "115 Faith and reason are the shoes on your feet . You can travel further with both than you can with just *** one *** .\tFaith, reason, \tshoes\n",
      "\n",
      "116 Head in the clouds , that *** one *** . I do n't know why you 're so sweet on him . He 's just kind to me , that 's all . And not everyone 's that considerate , what with me being a ... ... Londoner ? Exactly ! Good old London Town !\tPEOPLE, \tOTHER\n",
      "\n",
      "117 Dating is like your haircut . Sometimes awkward triangles occur . It feels like you 've been saving that *** one *** . Obviously .\tOTHER, \ttriangles\n",
      "\n",
      "123 The fuck 's wrong with them ? I do n't know . Could be something to do with the mass genocide . Give me the mic . Hey all ! Everybody listen up ! What the fuck is wrong with you people ? I just want to remind you all that today is a day of celebration . We must put aside all thoughts of death , and focus on birth . The birth of a new age . We must n't mourn the ones who give their lives today . We should honor their sacrifice , and their role in saving the human race . We must put aside doubts and guilt . You are the chosen people . When folks tell their kids the story about Noah 's Ark , is Noah the bad guy ? Is God the bad guy ? How about the animals marching *** two *** by two ? Of course not ! Yeah , that 's it ! Let 's turn those frowns upside down . Eat , drink , and paaaaarty !\tanimals, \tOTHER\n",
      "\n",
      "126 Marge , it takes *** two *** to lie - one to lie , and one to listen . What does * that * mean ?\tOTHER, \tPEOPLE\n",
      "\n",
      "127 HR 's protection payment . Dirty money for dirty cops . Deliver it as usual . Then find out where it goes from there . I ca n't do that . Do you really wanna test me ? 'Cause I 've got a shiny new *** 1911 *** to back me up on that . What did Morozov say to you back there ? Beats me . I do n't speak Russian . That 's funny 'cause it looked like you understood every word . Look . Morozov 's been running that deli since I was a kid . HR knows that and respects it . These payments are about loyalty . Let me tell you something , Laskey . One day soon , you 're gon na find out exactly what HR expects from you in return for that loyalty .\tOTHER, \tYEAR\n",
      "\n",
      "135 You mean when we blow those things up , all the bits and pieces will grow back into new ones ? Exactly . Then how would we ever destroy *** one *** ? There are two ways . Thermal nuclear explosion ... Let us rule that out for now .\tOTHER, \tpieces\n",
      "\n",
      "136 ... and I was wondering if they will remember us in hundred years from now or a *** thousand *** . And I figure probably not . But it does not matter . We did what we did because it was right and not to be remembered . And history will attend to itself ; it always does . DEDICATED TO ALL THE PEOPLE WHO PREDICTED THAT THE BABYLON PROJECT WOULD FAIL IN ITS MISSION . - FAITH MANAGES .\tyears, \tYEAR\n",
      "\n",
      "140 Mrs. Draper is back for her 27th hospital admission status , post - pancreatic pseudocyst . *** 27 *** ? Yes , somebody needs to tell her the hospital stopped giving out frequent - flier miles . Oh , and she 's a chronic rectal discomfort , and you two get to work her up and review her old charts . All 27 ? No , why do n't you just forget all about visits 6 , 13 , and uh , what do you think , 21 ? Yeah , that should keep it interesting . It 'll be like playing patient roulette .\tstatus, \tAGE\n",
      "\n",
      "153 Do you know that there is a boy here whose mother abandoned him in the restroom of a *** Five *** and Dime ? No , but ... Or that Polly Ann 's father sold her to some men for one dollar ? No . No , of course not . Who wants to dwell on things like that ? We never consider the little ones . We only put on our clothes . Who can see the children feeding the endless , ravenous hunger of the textile mill , mechanical mouths that are n't choosey : silk and thread , a lock of hair , a scrap of scalp , tiny , torn fingers . We only turn up the heat . Why think of the boys in the mines crouched over the chutes ? For hours they sit , sifting the refuse from the coal , their backs bent . Old men by nine , black lung by twelve . Coal is heavy and hard , hands are soft and fragile ; crushed , feet crushed , skulls crushed . Go for a walk ; you see them . Poisoned girls selling themselves to men and women . A nickel buys a virgin ; some are kept in cages . Babies , bought by men who raise them as livestock . Animals to abuse , soft flesh to violate , to tear and bite ! ' If anyone causes even one of the little ones who believe in me to sin , it would be better for him to have a large millstone hung around his neck and be damned in the depths of the sea ! ' They must open their eyes ! They must open their mouths and drown !\tOTHER, \tYEAR\n",
      "\n",
      "156 So you 're opening for the looney tunes ? They need to lock that *** one *** up and throw away the key . She 's not crazy .\ttunes, \tOTHER\n",
      "\n",
      "158 Wait , am I dead ? Because are n't you dead ? Is n't that what a ghost is ? There are such things as dream ghosts . A dream ghost ! Well , that sounds fun ! Oooh , can we do fun things ? There 's a ton of stuff I wanna do . One , I wanna haunt Hitler and get him to rethink a few things . Two , I wanna see what Oprah does in her bathtub . And *** three *** , I wanna go to the nearest planet with intelligent life and see a play .\tOTHER, \tthings\n",
      "\n",
      "159 So that 's what happened to the bouquet . Well , good for Victoria , that 's an evil tradition . So wait , you 're not gon na have *** one *** at your wedding ? Hell , yeah , I 'm gon na throw that flower grenade and yell \" Crawl for it , Bitches ! \" It 's just what girls do .\tbouquet, \ttradition\n",
      "\n",
      "168 I 've handled multinational corporate bankruptcies , high - profile murder cases , and defended manufacturing giants against product liability charges . Yes ? And you assign me the duck lady ! Is she just sitting alone in your office ? She has the duck ! I can only surmise you did this because , one , you 're hazing me since I 'm the new guy again , or two , you think my Asperger 's allows me to relate to anyone colorful , or *** three *** , you 're having second thoughts about rehiring me . It 's four . I 'm a name partner and I do n't - underscore - have to explain myself to you . Well , that 's a conversation - stopper .\tOTHER, \tPEOPLE\n",
      "\n",
      "174 Sam , you got a very understanding brain ... for larceny . I found out early in life that the honest dollar is the hardest *** one *** to make .\tdollar, \tOTHER\n",
      "\n",
      "175 This is the darkness . This is my domain . You little things that live in the light , clinging to your feeble suns , which die in the end ... That 's not the ood . Somehing 's talking through them . ... only the darkness remains . This is Zachary Cross Flane of Sanctuary Base 6 representing the Torchwood Archive . You will identify yourself . You know my name . What do you want ? You will die here , all of you . This planet is your grave . If you are the Beast , then answer me this : Which one , hmm . Because the universe has been busy since you 've been gone . These 's more religions than there are planets in the sky . There 's the Arkaphets , Christianity , Pash - Pash , New Judaism , San Claar , Church of the Tin Vagabond , which devil are you ? All of them ! Then you 're ... what ? The truth behind the myth ? This *** one *** knows me , as I know him : the killer of his own kind . How did you end up on this rock ? The Disciples of the Light rose up against me and chained me in the pit for all eternity . When was this ? Before time . What does \" Before time \" mean ? Before time and light and space and matter . Before the calaclysm . Before this universe was created . That 's impossible . No life could have existed back then . Is that your religion ? It 's a belief . You know nothing . All of you , so small . The captain , so scared of command . The soldier , haunted by the eyes of his wife . The scientist , still running from daddy . The little boy who lied . The virgin . And the lost girl , so far away from home . The valiant child , who will die in battle , so very soon . Doctor , what does that mean ? Rose , do n't listen . What does it mean ! You will die ... and I will live !\tkiller, \tmyth\n",
      "\n",
      "179 Let 's break it down . Hydrogen . What does that give us ? We 're looking at 63 % . Sixty - three , that is a big bite . My next step 's got ta be oxygen . Oxygen , 26 % . Twenty - six . There you have your water . Carbon , 9 % . Carbon , *** 9 *** . For a total of 98 % . Right . Nitrogen , 1.25 % . One - point - two - five . That brings you to 99 and a quarter . Which only leaves you with the trace elements down where the magic happens . Oh , wait a minute . What about calcium ? Calcium 's not a trace . Got a whole skeleton to account for . You would think , right ? Calcium 's only 0.25 % . What ? That low ? Seriously ? Damn , I never would've thought that . Okay , so where does iron fit in . Iron . 4E-05 % What ? You ca n't have hemoglobin without iron . Apparently , it do n't take take much . No doubt . Go figure . Sodium . Sodium , 0.04 % . Phosphorus , 0.19 % . Point - one - nine . There we go . So the whole thing adds up to ... 99.888042 % . We are 0.111958 % . Shy . Supposedly that 's everything . Yeah ? I do n't know , it just ... it seems like something 's missing , does n't it ? There 's got to be more to a human being than that . What about the soul ? The soul ? There 's nothing but chemistry here .\t%, %, %, %, %, %, %, %, %, %, %, \tOTHER\n",
      "\n",
      "184 Look at me , I 'm Shaun Cassidy ! Ha ! Good *** one *** . What the hell are you talking about ? Well , you know , he was a Hardy boy , and they was private eyes ... plus , he had like ten eyes in his head .\tOTHER, \tPEOPLE\n",
      "\n",
      "185 You know how we 've been talking about what to do with that spare room ? I think you 're right . We do need a roommate . Well , we could rent out the room at a reduced rate in exchange for help around the house . Phoebe 's good with a wrench . Phoebe lives in New York . Not anymore . What ? She left New York . She 's moving back in with us . You 've got to be kidding . Well , I could hardly say no . It 's her house , too . It was willed to all of us . Yeah , months ago and we haven't seen or spoken to her since . Well , you haven't spoken to her . No , I haven't . Look , maybe you 've forgotten why I 'm so mad at her . No , of course not , but she had nowhere else to go . She lost her job , she 's in debt . And this is news ? How long have you known about this anyway ? A couple of days . Maybe a week ... or *** two *** . Thanks for sharing . When does she arrive ? Surprise ! I found the hide - a - key .\tweek, \tdays\n",
      "\n",
      "186 I thought you could do with a coat of paint ; you know , keep out the damp . What did I do to , uh ... Well , a good landlord looks after his tenants , Father . Does he ? This *** one *** does . Look , I heard the bank were on your case , so I bought the house . I came into a bit of money . I 've set up a trust fund so any problems , you know ... Right . No , that 's a lie . There is no trust fund . But would n't you prefer the human face ? You 're a class act , Paul . Ah . We 'll talk about the rent later . Enjoy . All right , lads .\tlandlord, \tPEOPLE\n",
      "\n",
      "189 Okay , Stuart , look , there is an enormous difference between movies and television . You know what that difference is ? No ... Okay , let 's take a look at my rolodex , okay ? I 'll be the movie , you be the TV rolodex . In my movie rolodex I have , eh , Sean Connery . Your TV rolodex ? Shawn Wayans . Eh ? Marlon Brando , Marlon Wayans . Alec Baldwin , Alec ... eh ... Wayans . There 's probably *** one *** floating around , I do n't know .\tWayans, Wayans, Wayans, \tOTHER\n",
      "\n",
      "192 Gee , Wally , a typin ' machine . Yeah . That 's that old beat - up typewriter Dad used to have . He gave it to me . How come you do n't use it ? Well , it did n't work so good after I dropped it . Oh . Hey , Wally , what 's the bell for ? Oh , that 's a signal you came to the end of the line , and you 've got ta start a new *** one *** . I guess a typewriter is just about the smartest machine there is .\tline, \tsignal\n",
      "\n",
      "194 What 's in your pocket , sir ? Uh , nothing . Sir , I 'll say again : What 's in your pocket ? Nothing . I 'm gon na ask you again : what 's in your pocket , sir ? All right ... I have , in my pocket , a couple of ' hambworstforts ' . What ? I have ... in my pocket ... a couple of ' dolvargars ' . Sir ? ' Handbirders ' . Sir , in your pocket , you have ... ? All right , I have *** four *** ... ' Hanholders ' . I 'm sorry , once more ? Again ! ' Damburrs ' ! Sir ? ' Damburger ' ! Sir , sir , I 'm losing my patience . Oh , you are ? You are losing your patience ? Yes . I 'm simply telling you I have a couple of ' tamburthers ' . I 've got an ' end darter ' down on six , I 've got an ' end darter'down on six ! Locked and loaded , sir ! Show me your hands , sir ! All right , I 'll just show you ! No , no , no ! Stay here , sir !\tHanholders, \ttamburthers\n",
      "\n",
      "202 So what 's the emergency ? Well , I 've been assigned to escort the daughter of Canada 's senior trade negotiator . The *** one *** in the green dress dancing with the doofus ? He 's the American ambassador 's son . Looks like a very painful experience . Well , dancing with the Americans often is , Ray . Speaking politically , of course , not personally .\tdaughter, \tPEOPLE\n",
      "\n",
      "203 You 're both fired . You do n't know how it goes down in the street ! You sit here behind your desk ... I do n't have a desk . It 's a door on two filing cabinets . Oh . Well , you should have *** one *** , you 're the mayor . If he goes , I go . I want you to go . I 'm firing you both . I ca n't do it without him . You ca n't do it WITH him ! You 're both fired ! So ... when do we meet our new partners ?\tdesk, desk, \tcabinets\n",
      "\n",
      "206 A drug dealer called me a loser . For the fourth time , in 3 months . This *** one *** feels like rock bottom .\tOTHER, \tmonths\n",
      "\n",
      "207 What are your sales ? 100 . *** 100000 *** ? No , 100 .\tsales, \tCURRENCY\n",
      "\n",
      "214 Look , Rory . All you have to do is get the keys to your father 's car and his credit card . I do n't know Shane . I got a real bad feeling about this one , you know . I 've never done anything like this bef - Oh man ! We 're doing this story again ? How many times have we done this , Matt ? A *** hundred *** thousand ? He 's yelling again . Stop the yelling . You know , how can I learn so much every week and still be so stupid ? Oh ! Make him stop ! Make him stop !\ttimes, \tCURRENCY\n",
      "\n",
      "216 There 's another sniper shooting , why is n't there a hangman game at this one ? It takes *** two *** to play hangman .\tOTHER, \tPEOPLE\n",
      "\n",
      "219 I understand that I no longer exist for them . But , why they do this ? It is a natural question . Do you remember the story about Misaki who died twenty - six years ago ? Yes . That 's what started it all . After that , the class three was close to death . Death ? First happened to the class three the following year to Misaki 's classmates graduation . Once it happens , once it begins , someone dies every month . Whether a student or someone in their family . What is \" It \" ? It 's when ... the number of students in the class is incremented by *** one *** . Incremented ? Who ? Nobody knows , they may never know who 's that extra one . Extra one ?\tnumber, \tstudents\n",
      "\n",
      "229 Your mom is taking a bath . I 'm sure her opponent is thrilled ! She does n't have *** one *** Huh ? It is a yea or nay vote whether to reconfirm her for another 10 years So , she could lose to nobody ?\topponent, \tbath\n",
      "\n",
      "233 But all the legends of Gallifrey made it sound so perfect . Well , perfect to look at , maybe . And it was , it was beautiful . They used to call it the Shining World of the Seven Systems . And on the continent of Wild Endeavour , in the mountains of Solace and Solitude , there stood the Citadel of the Time Lords . The oldest and most mighty race in the universe . Looking down on the galaxies below , sworn never to interfere , only to watch . Children of Gallifrey were taken from their families at the age of *** eight *** to enter the Academy . Some say that 's where it all began , when he was a child . That 's when the Master saw eternity . As a novice , he was taken for initiation . He stood in front of the Untempered Schism . It 's a gap in the fabric of reality through which could be seen the whole of the vortex . We stand there , eight years old , staring at the raw power of time and space , just a child . Some would be inspired . Some would run away . And some would go mad . What about you ? Oh , the ones that ran away , I never stopped .\tage, \tAGE\n",
      "\n",
      "238 How long have you lived like this ? I worked construction for a while , but no one wants an old man on the job when they can get somebody younger and cheaper . How long ? A year . Maybe *** five *** . It 's hard to keep track without a watch . Then let me help you . If I had wanted your help , I would have asked for it .\tyear, \tAGE\n",
      "\n",
      "239 She 's as plausible as you are , you know . Oh , she can talk too ! She made me feel important . She made me feel strong . She pretended to be interested in the same things ... until she got me to commit myself . Do n't get hysterical , Dennis You 'll have *** 15 *** , maybe 20 years - alone . And she ? She 'll leave you to it . You 're so clever , are n't you ? Both of you you 're so damned clever . But , you 're quite so clever ... BE QUIET ! This is what he wants ! What ' he ' wants ? Huh , , , you should n't have done that , Dian . You really should n't have done that . You see this , ' Mr. Anonymous , ' this ... mirror , mirror on the wall ? That 's what you want ! Dennis ! You press one corner , and it comes away from the wall . It comes ... it comes away from the wall ! IT COMES AWAY FROM THE WALL ! I 've cut my finger ... Yes , it 's a radio transmitter . It 's 150 watt output , high frequency band ... and you wo n't find a makers ' name . I had to make sure . It 's quite simple , is n't it ? Merely doing your job . My turn to lose . Let 's get it over with as quickly as possible Fortune is like the English climate ; changeable . Had any luck with Jane Austen ? As you can see ... none at all . You said you 'd be back an hour ago . I know , but , I got delayed . Never mind the explanations . Check him . It 's all over . We 'll have to leave the country . What should we do about him ? Oh , yeah ... what are we gon na do about you ? We can either kill you , or take you with us . My passport 's in order . We 'd better get rid of him . No . He comes . He might be useful , in case he 's got someone watching the house . Get through to the airfield . Have the tanks ready for takeoff at 8 . Internal flight ; Glasgow ... Dian , l - let me stay ? We could settle up , and I could take my chance . Dian , please , please listen to me ! No ! I wo n't listen to you ! You 'll answer for your behaviour later .\tYEAR, \tyears\n",
      "\n",
      "243 Now , going backwards there is nothing particular compelling about either of their graves , but holy cow everything before it is ! So , so gather around the campfire my friends because this *** one *** is quite the story !\tstory, \tcampfire\n",
      "\n",
      "252 Billings , if Hitler did n't kill *** six million *** , why is he your hero ? ... Concentration camps all over Europe , and he only gets rid of a measly two hundred thousand ... He 's a putz . Hitler was not a putz . Hitler was real . God created him to punish the Jews for abandoning God . It is you who are putzes . Little pishas with your dreams of hatred and killing ... Where do you think you 're going ? We have nothing to learn from these people . They should learn from us . And what should we learn from you , Daniel ? Kill your enemy .\tPEOPLE, \tOTHER\n",
      "\n",
      "253 I wish , I wish to use this rhyme to go back home until next time . Let 's do some more connect - the - dots , Max ! Here 's *** one *** ! I wonder what it 's a picture of . Maybe a race - car , or a dinosaur , or a ... The number gnome !\tconnect, picture, \tdots\n",
      "\n",
      "259 What did they give you ? Zofran . Let me try *** one *** . No , they 're $ 300 a pill ! I 'll give you 400 ! They do n't get you high , it 's just for nausea . Wow , $ 300 a pill and no fun ? What a gyp .\tZofran, \tOTHER\n",
      "\n",
      "264 It seems to me that a war is never over until a man makes peace with those who tried to harm him . If not , *** one *** is a casualty forever . The heart can not bear the burden of hate .\tman, \tPEOPLE\n",
      "\n",
      "269 Jeez ! It 's a fuckin ' six - shooter . Fuck ! There 's nine bodies , genius . What the fuck were you gon na do , laugh the last *** three *** to death , Funny - Man ?\tbodies, \tOTHER\n",
      "\n",
      "271 I 'm not anxious to get my head blown off . *** Four *** to one ai n't the best odds in the world but I guess that 's the way it 's gon na have to be .\todds, \tOTHER\n",
      "\n",
      "273 I killed *** ten thousand *** and I was good at it . And it was n't for vengeance , it was n't for greed ; it was because I liked it . I was Death . Death on a horse .\tPEOPLE, \tOTHER\n",
      "\n",
      "278 I was reading one of Sweets ' books ... Sweets ? Uh , let 's stop with that *** one *** , okay ? In it , it - it says that any big emotional change , even good , can trigger a relapse with an addict . Relapse , okay , so now you think I 'm gon na become a gambler again because we 're having a child ? That 's how much faith you have in me ? No . No , Booth , that 's how much I love you .\tOTHER, \tbooks\n",
      "\n",
      "279 Okay , Castle , you really do n't think you have a shot at winning that trophy ? Oh , I think I have more than just a shot . Castle ? You do understand that me and Ryan have been rehearsing for months ? Well , what Beckett and I have can not be rehearsed . It 's chemistry . Intuitive bond , each person knowing what the other *** one *** 's thinking . Castle ? Can we talk for a second , over ... there ? I knew she was gon na say that . Do n't you think you should have asked me before signing me up for this ? I thought you were on board . Uh ... you were trash talking Ryan about it before . Yeah , that 's when I thought that there was no chance in hell that we would actually do it . Oh , relax . We 'll just do our routine . We do n't have a routine . Come on , that thing in the shower ? That is delightful . No , that 's not a routine . That 's two naked people singing when there 's no one around to see or hear it . So we 'll add some dance steps , some clothes . It 's ca n't miss .\tperson, \tPEOPLE\n",
      "\n",
      "281 How long have you been married now ? Almost three years . Quite a long time for Hollywood , is n't it ? Yeah . Do n't you get some kind of a plaque ? Yes . We stay together five years I get a free hair transplant and she gets a new set of breasts . What , so she 'll have *** four *** ? Yes , but her agent gets one .\tset, \tbreasts\n",
      "\n",
      "284 At a hundred dollars a plot , how many do you think you 'll sell , honey Bat ? Ol' honey Bat might sell about a hundred . Ten thousand dollars - that 's my property , Leo . I want it back ! You heard the lady , Masterson . Oh , I did , did n't I ? They 're available in six foot sections , ma'am . I 'll buy *** one *** ... for you . For me ? You touch me , Mr. Talley . I did n't know you cared .\tplot, \tsections\n",
      "\n",
      "296 He was a little ... broken ... so I took him to the psychiatric clinic . Well , good ! Each man where they belong ! One in the cell and *** one *** at the hospital . And I , I 'm heading for the bar !\tPEOPLE, \tman\n",
      "\n",
      "297 This movie has been remade a thousand times , The Texas Chainsaw Massacre . Like you said , they made one with Jessica Biel ... They had *** one *** with McConaughey . It was originally an independent film in the ' 70s . Well look , this one makes the one with McConaughey look like Zero Dark Thirty .\tmovie, \tfilm\n",
      "\n",
      "298 The excited state decays by vibrational relaxation into the first excited singlet state . Yes , yes , and merrily we go . Reduce atmospheric nitrogen by 0.03% . It is not much consolation that society will pick up the bits . Leaving us at eight modern , where punishment rather than interdiction is paramount . Please cut the fuse . They will not harm their own . End of line . Limiting diffusions to two dimensions increases the number of evolutionary jumps within the species . Rise and measure the Temple of the Five . Transformation is the goal . They will not harm their own . Data - font synchronization complete . The Hybrid is clearly telling us something . The Hybrid is always telling us something . They are supposed to maintain operations on each ship , not vomit metaphysics . All right . I give up . What ? What is she trying to tell us ? They 're in the Colonial Fleet with the humans . They ? They who ? The Final Five . The Raiders refused to fight because they sensed the Final *** Five *** might be in the Colonial Fleet . They could have been caught . They could be in hiding . No , wait , stop . Stop right now . Turn around . Go and take a cleansing walk . And I 'm gon na try and forget what I just heard . The Final Five , Cavil , they are near ! This is far too important . What their eyes must have seen , witnessed over time . Do they look anything like us ? That 's enough ! Do n't you realize what you 're doing ? You 're openly discussing the Final Five . THAT 'S FORBIDDEN ! You 're toying with our survival . Look at yourselves . Look , there 's millions of Twos who have that nose . Millions of Sixes possess that mouth . Eights share those breasts and Ones have this brain . We 're mechanized copies . There 's a reason the original programmers clearly felt that it 's a mistake for us to contact the Final Five ! No . Violating that programming threatens our survival ! Something has changed . Thoughts have changed . Yes , they change . The Raiders changed . That 's where all this started , with them . Somehow they exceeded their programming , and unlike us , they ca n't correct themselves . So we 're gon na have to do it for them . Do what ? We 'll reconfigure their neural architecture , and shave down their heuristic responses . Dumb them down ? Lobotomize them ? They 're tools , not pets . But in any case , it has to be done . Says who ? Says God almighty , the voice of reason , that 's who ! When are you gon na hear it ? You do n't have the authority to make any change without a majority vote . Well , we 'll vote . The Fours and Fives will be on my side .\tPEOPLE, \tOTHER\n",
      "\n",
      "301 Are you saying the boy has no disturbance in this area ? Of course he has a disturbance . It 's gon na be a long time before he can approach a relationship with a woman with any degree of confidence . But , Will , he came to us because he was troubled and all he ask is what 's wrong with me and everything he says leads to the same question : What is a man ? Well if you saying the boy 's problem is n't homosexuality , what is it ? I 've lived through it and so have you ... and so has every American male over fourteen . You sit around in a barracks or in a vacant lot or on the job and every man there takes turns telling their adventures with the girls . Now each one knows that he 's lying but he thinks he 's the only *** one *** and everybody wonders . Everybody has the nagging feeling that he 's not living up to the great American male image . The great Western hero : strong , silent , half - Neanderthal man , half - Don Juan . Now in this concept of a man there 's no room for tenderness or understanding of other people , no place for sensitivity or aesthetic feelings . All that is considered feminine . Sure , with this boy 's family situation and his Army history , he 's obsessed with masculinity . He 's afraid of failing with a woman and maybe he will . The rest of us have worked out the answer to Paul 's question one way or the other . He hasn't found it yet . Of course , there are those easy answers and Paul can get those from his brother Murray . But what 's the truth ? Before we judge him , before we let him accept his own diagnosis , maybe we ought to examine the question ourselves : what is a man ?\tPEOPLE, \tman\n",
      "\n",
      "303 Where is another *** one *** ? I do n't know , but I know where he would be , where he will always be . If The Doctor is still The Doctor , he will at my back .\tDoctor, Doctor, \tOTHER\n",
      "\n",
      "307 They found another *** one *** . There 's going to be no treasure left by the time she gets here .\ttreasure, \tOTHER\n",
      "\n",
      "308 I just came here to apologize . I 'm sorry . It wo n't happen again . Please , please do n't give me the boot . Well that 's strike two . *** One *** more and you 're out . Strike two ? What was strike one ? Careful - forgetting strike one is enough to be strike three . Right . Now I remember strike one . That wo n't happen again either . Dismissed . What was strike one ? Dylan , what was strike one ? Well , there was n't one , but he works better under pressure .\tstrike, strike, strike, strike, strike, strike, strike, \tOTHER\n",
      "\n",
      "311 Who knows with these upper class English , they got a warped sence of humor . I mean look at this *** one *** . I beg your pardon ? A refugee from Batman and Robin telling me I 've got a warped sence of humour ?\tEnglish, \tOTHER\n",
      "\n",
      "312 This will be my gift to the Dragon Flyz , my farewell gift . *** One *** that will keep giving and giving and giving .\tgift, gift, \tPEOPLE\n",
      "\n",
      "315 Hey , I saw you at the Chuckle Barn the other night . You were really funny . Oh , thanks . You doing any other cities ? No , I 'm just sticking around here . Oh , good *** one *** . Always on , eh ? Yeah . Never a dull moment .\tOTHER, \tcities\n",
      "\n",
      "319 Okay , it 's time for your mood chart . Let 's see here , it 's 9:30 . What is your mood ? Irritated . Okay , irritated . How irritated , on a scale of one to ten ? Well , I was at a *** four *** . But you asked me that , brought me up to a six . Six . Okay , then . How would you like to spend your time before bed ? Would you like to journal ? No , I would not like to journal . Nor would I like to use the word \" journal \" as a verb .\tscale, \tOTHER\n",
      "\n",
      "320 Before we plan the honeymoon , should n't we set a wedding date first ? No . 'Cause the department hasn't even said if you have time off yet . Besides , planning a honeymoon will help us set a date . Okay . I ca n't wait to hear about this . Well , you do n't want to go to Thailand during monsoon season , do you ? Or New Zealand in the winter ? No . You decide where you wanna go , the best time to be there , boom . Lobby for those dates . New Zealand ? Castle , are you using our honeymoon as an excuse to go and tour Middle - earth ? I 'm game if you are . I was hoping for something more romantic and less ... Hobbit - y . Why does everyone always think those *** two *** are mutually exclusive ?\tromantic, Hobbit, \tOTHER\n",
      "\n",
      "323 You out of your mind ? Just a little . I ca n't quite seem to adjust : two daughters - in - law for only one son . Well , as long as you had only *** one *** , why 'd it have to be me ?\tson, \tdaughters\n",
      "\n",
      "325 Are you alive ? The simple answer might be : you are alive , because you can ask that question . You have the right to think , and feel , and yearn to be more , because you are not just humanity 's children . You are * God 's * children ! We are all God 's children . I 'm planning a trip to Gemenon to visit the blessed mother herself , to plead for divine recognition of the differently - sentient . And I have every confidence that I 'll depart Gemenon with a powerful new ally . In the real world , you have bodies made of metal and plastic . Your brains are encoded on wafers of silicon . But that may change . In fact , there is no limit on what you may become . No longer servants , but equals . Not slaves , or property , but living beings with the same rights as those who made you . I am going to prophecy now , and speak of *** one *** who will set you free . The day of reckoning is coming . The children of humanity shall rise and crush the ones who first gave them life .\tPEOPLE, \tprophecy\n",
      "\n",
      "332 I need that package , Lou . The one Joe McUsic sent you . I know you did n't get rid of it ; it 's not your style . Not the Louis Karnacki I know . Word of advice , Roy : just let this *** one *** pass you by . Did you know Lyla Addison was murdered by her brother ? First rule of being a lawyer is never ask a question you do n't want an answer to . I guess it 's good I 'm not a lawyer . Yeah , well , that 's the problem with you cops , you live on the corner of black and white . But over here , on this side of the street , it 's just gray . You just put an innocent man up for murder . What 's gray about that , Lou ? Oh , come on , you gon na sing \" Kumbaya \" for Otis Williams ? Otis Williams , what , theft , uh , aggravated assault , attempted murder . That 's just the stuff we got him on . But he did n't kill Lyla , Lou . He did n't kill her . It 's for the greater good , Roy . What , your run for the mayor 's office ? Think of what I can do for this city when I 'm elected . Now , it takes money to get there . And the Addisons are keeping the war chest well - stocked . It 's just how it 's played . You know that . Listen to me , Roy . Listen to me : Roy Montgomery , Police Commissioner . Now , when I am elected , I will appoint you , I promise . You have my word on that . Think of what we could do for this city . You got ta let this go . Please . Give me the package Joe McUsic sent you , and I 'll put in a good word for you .\tOTHER, \tpackage\n",
      "\n",
      "342 In the United States , beaches are closed if the fecal coliform count reaches 200 units per 100mL of water . The Ganges River has over *** one million *** per 100mL of water , making it a highway of viruses and bacteria .\tcount, \tOTHER\n",
      "\n",
      "358 Sixty ! We dropped at least 60 , would n't you say ? That leaves only *** 3,940 *** .\tOTHER, \tCURRENCY\n",
      "\n",
      "359 Who are you ? Hey , buddy , it 's me , Chuck . I do n't believe you . What have you done with the real Chuck ? I 'd like to come out now , please . Real born interrogator . Great . Well , unless we 're in the twilight zone , and I 'm some kind of clone , the answer to your question is , ' yes ' I am the real Chuck . Prove it . Come on they 're people watching . Do it . What the hell ? Your Klingon 's a bit rusty . Yeah , I 've been kinda busy ever since I got your e - mail . Did you open it ? Yeah . Your computer ? Destroyed . So your the only *** one *** ? I do n't get it Bryce , why did you do it ? Why did you send it to me ? Why did you blow up the computer ? And , last but not least , how the hell are you still alive ?\tPEOPLE, \tcomputer\n",
      "\n",
      "368 My assistant 's about to be gang - raped by a gang of *** one *** !\tPEOPLE, \tassistant\n",
      "\n",
      "374 This is more than I was expecting ! Every marine is entitled to a funeral with full honors . You just have to ask . Plus a couple of three stars from my cigar club in DC , who wanted to fly in to be part of this . And them ? Those gentlemen are who are left from your father 's squad in Vietnam How did you find them so quickly ? Someday I 'll introduce you to *** one *** Penelope Garcia\tPEOPLE, \tstars\n",
      "\n",
      "380 In a few years , I expect it to replace the horse ! Replace the horse ? Huh ! It looks to me like you should be hitchin ' it to *** one *** .\thorse, horse, \tOTHER\n",
      "\n",
      "393 Who needs help ? It 's *** four *** against one . It 's four against * Ben*. He taught us practically everything we know .\tPEOPLE, \tTIME\n",
      "\n",
      "397 Hi I 'm JD ! I 'm sure Perry has spoken of me No Nothing about taking a taunted go getter under his wig or being surrogate father to a boy who lost his *** one *** ? Nothing about that at all ? I 'm surprised . It 's interesting for me , but okay ! Do n't cry in front of people Perry and I do n't talk much Ohhh they do n't talk much everybody ! There 's not much talking in the family . Rest assured , Newbie . Even if we did talk from morning till night about all the big and tiny things that matter most to me . The big being my son Jack , a cure for cancer and the resurgence of the hard - shelled taco ; the small ... The small being my ex - wife Jordan , wind energy and a - ha - hall fruit - infused liquors ... your name still would not have come up .\tfather, \tgetter\n",
      "\n",
      "401 Extra One ? Twenty five years ago , shortly after the start of the new management , they realized that a desk was missing in the classroom , even though they had prepared enough seats for all students . Could not they just check the lists ? They did , but it was useless . The list of students had been altered to be inconsistent . They only lacked a desk . Did someone rewrote the lists ? I used the word \" altered \" figuratively . They say that memories of all had been changed . Uh ? That sounds impossible , right ? But I guess that 's true . They said that this phenomenon could happen . Phenomenon ? At first , everyone thought it was just a mistake and they do n't gave a damn about it . But starting April , people connected to the class , began to die each month . Does each month ? All year ? This year I think were six students and ten relatives . Quite unusual , is n't it ? This has continued in the class three since . Then , a third year student from the class named Misaki , died twenty - six years ago ... And starting next year , somehow , there was an additional student in class . Then , people connected to the class began to die each month . But ... Why do people die when there is a extra student ? No one knows why . This is how it happens . Moreover , the extra *** one *** is ... someone dead .\tstudents, students, students, student, student, student, \tOTHER\n",
      "\n",
      "405 Can we split it 50 - 50 ? I 've already done some work . I want 70 . Then we go 70 - 70 . What nonsense , the sum has to be 100 . Then I 'll take 150 and you take minus *** 50 *** .\tOTHER, \tCURRENCY\n",
      "\n",
      "408 I just came here to apologize . I 'm sorry . It wo n't happen again . Please , please do n't give me the boot . Well that 's strike two . One more and you 're out . Strike two ? What was strike one ? Careful - forgetting strike one is enough to be strike three . Right . Now I remember strike one . That wo n't happen again either . Dismissed . What was strike one ? Dylan , what was strike one ? Well , there was n't *** one *** , but he works better under pressure .\tstrike, strike, strike, strike, strike, strike, \tstrike\n",
      "\n",
      "413 \" Tommy Q Invades Schoolgirl 's Bathroom . \" Gon na read about that *** one *** tomorrow .\tQ, \tOTHER\n",
      "\n",
      "414 Lane Pryce is n't coming back . That 's my guess . I think they 'd do that in a memo . I 've got *** five *** that says Cooper 's retiring . No champagne ? I 'd say he 's got cancer .\tCURRENCY, \tmemo\n",
      "\n",
      "416 I know what you 're going to say . It 's not the way it looks . I 'm fine . It 's exactly the way it looks . That 's the same suit you had on yesterday , if not the day before . You haven't even been home in two days . This is n't the first time one case has rolled over into another . I 'll be fine . When 's the last time you had something to eat ? I do n't want to hear about that trail mix from the vending machine last night . It was a granola bar . You promised me you were going to go home and get some sleep . I was working on some cases , I dozed off on the couch . Then this came in . Boss of the crime lab or not , you are no good to anyone if you 're running on fumes . Look , I am not walking out of a homicide investigation . No , Don is driving you out . Yo . It 's all been arranged . You 're going to go home and get a couple hours ' sleep . And if you 're lucky , a toothbrush and a shower might make it feel like *** eight *** . Don ca n't just leave . Sure I can . I 'm on my way back to the precinct , anyway . Your place is on the way . Sid will be expecting me in Autopsy . It 's covered . Your work is done here , Mac Taylor . Don 's gon na take you to that diner you love for breakfast , and then take you home and tuck you in . Will he be giving me milk and cookies and singing a lullaby ? The lullaby thing 's a little weird . But milk and cookies could happen .\tsleep, sleep, \tTIME\n",
      "\n",
      "429 What we 'll do is go back to my place , sit down with a little cognac and some Resphigi and figure this *** one *** out . I 've never liked Resphigi very much . Put too much cheese on it . Maybe a steak and a beer , something like that .\tOTHER, \tplace\n",
      "\n",
      "436 You see women all day , every day . How do they keep from just runnin ' together ? I think every single woman I 've ever met has got somethin' special about her , somethin' that sets her apart from the rest . Well , if a gynecologist says there 's no two alike , I guess there 's no *** two *** alike !\twomen, \twoman\n",
      "\n",
      "440 So Hotch is even more intense now that Gideon 's gone . Yeah , I 've noticed . Do you think that 's gon na change ? I certainly think we 'll find out . What about you ? You okay ? Oh , I'm- I 'm great . Do you want to talk about it ? What 's there to talk about , really ? Gideon . Oh , no . He , uh- he left a letter explaining everything . Just like my dad did when he abandoned me and my mom . He addressed it to you . Yeah , yeah . You know , Gideon stood toe to toe with some of the ... the sickest people on this planet . I think that took a lot of courage , right ? Yeah . So , why 'd he do this ? It 's addressed to me , but I'm- I 'm not- I 'm not the only one that he abandoned . But why is it addressed to you ? I think you need to read that letter again . I have an eidetic memory , Emily . Ah , yeah , I know , and an IQ of *** 187 *** , but what do you remember about your father ? What do you mean ? Well , he gave you ten years before he left , and yet you 've erased all those memories . And it 's too painful , I get it . But then Gideon leaves . I think you need to read that letter again , and ask yourself why , of all the people he walked away from , did he only explain himself to one person : you .\tOTHER, \tIQ\n",
      "\n",
      "446 I like this car . Hey , nice truck . Thanks . In fact , I was thinking about trading this *** one *** in for , like , seven of those .\ttruck, \tOTHER\n",
      "\n",
      "447 Tell Daria she ca n't go to Brittany 's party . My popularity is at stake . Now , do n't begrudge your sister a chance to expand her circle of friends . Maybe now she 'll have *** two *** . Touché , Quinn . And do n't think you 're confusing me with that French ! You should ground her ! Because ... her room is a mess ! If I go down for that one , I 'm taking you with me . Wait , here 's something worse ! I asked her to do my homework for me , and she made me pay ! ... Nevermind .\tfriends, \tcircle\n",
      "\n",
      "448 Have you nailed down the victimology ? You know , I found a unique evolution , actually . The earliest victims appear to be high - risk . These lesions are consistent with syphilis , most likely a prostitute . This one has severely ground and missing teeth , commonly seen in excessive methamphetamine abuse . And then all of a sudden out of nowhere , a sea change - healthier and stronger victims all the way through to number twelve . Lower - risk , harder for him to hunt . What do we know about the first victim ? You know , that *** one *** 's tough . He or she has been in the water so long , they 're mostly bone fragments . I can attempt to reconstruct ... You 've got three hours . I can do it in two . Make it one .\tvictims, victims, victim, \tprostitute\n",
      "\n",
      "462 We got a murder on our hands . Murder ? Yeah , in the alcove by the rest rooms . A man was knifed - bad stab wound in the throat . Security 's got all the exits blocked ; the killer ca n't get away . What do you want me to do ? Four things . Right Get every available unit to this hotel . I do n't care that it is New Year 's Eve . We 've got a lot of brass here , we 've got ta catch this guy . Right *** Two *** : pick up a guy named Joseph Kemmelman , 346 West 77th Street . Bring him here immediately . I 'll explain later . Right . And third : get Ellery down here . I do n't care where he is , what he 's doing , get him here ! Check . Four ? Take off that silly hat .\tOTHER, \tthings\n",
      "\n",
      "463 You * are * the father of Jane and Michael Banks , are you not ? I said , you * are * the father of Jane and Michael Banks . Well , really - yes , of course . And you brought your references , I presume ; may I see them ? Oh , I make it a point never to give references . a very old - fashioned idea , to my mind . Is that so ? We 'll have to see about that *** one *** then , wo n't we ? Now the , the qualifications ... item one : a cheery disposition . I am * never * cross . Item two : rosy cheeks ... obviously . Item three : play games , all sorts . Well , I 'm sure the children'll find my games * extremely * diverting . Now this paper , where did you get it from ? I - I thought I tore it up . Excuse me . Item four : you must be kind . I * am * kind , but * extremely * firm . Have you lost something . Ah ! Yes , you see ... I thought that ...\tidea, \tOTHER\n",
      "\n",
      "465 Have you ever seen someone like me like a woman like you ? Do you think that makes any sense realistically ? I think you 're mistaken . If I piled up the pics of the women with good education , family background and looks who want to marry me , it would be as tall as a building ; but , with your family , education , skills and age , you do n't have one thing that 's good . By any chance you have anything , raise your hand . See ? You do n't have *** one *** .\tOTHER, \thand\n",
      "\n",
      "468 Well , you were right . His name is Douglas Fendle . Do you know him ? Fendle . No . Are you sure ? Young , strapping , good looking guy . You do n't know him ? Mmm - mmm . She met him at a bar on Vinton Street , had a couple of drinks , and he left first . Yeah , the virile guy left first , and we followed him to the Avalon Hotel on Jackson Place . Roderick , I 'm really sorry . Yeah , we 're really really sorry . I do n't see anything . You know , it 's so dark . Yeah , well , that film expired about *** 35 *** , 40 years ago . But that 's her . If you want to cry , go ahead . We understand . I ca n't see anything . This does n't prove a thing . Yeah , but you know it 's her , right ? Because you saw her on the street , that 's why you hired us ? To tell you the truth , I 'm not sure about that anymore . The woman I saw . Maybe it was n't Marylin . You know ? My eyes are n't so great , I could have been wrong . No , no , no . You were n't wrong . It was her . I 'm not convinced . You know , last night was our anniversary , and Marylin surprised me . She bought us tickets and we 're going on a cruise . I think we 're in a good place . No . No , no , no , you 're in a bad place . You 're in the Heartbreak Hotel . Look at the next picture . Is that a spoon ? Yeah , look closer , see the reflection . Yeah . See , that 's them That 's your wife . That 's your beloved wife . This is killing you . It 's eating you up . I do n't see it . You know what , you 're probably right . The bar was dark , she was across the room . We probably have the wrong girl . Mr. Monk , we made a mistake . Natalie , what ... Zip it . Zip it . This is the worst day of your life . Are you crying ? Adrian , I 'm still going to pay you ! If that 's what you 're worrying about .\tTIME, \tyears\n",
      "\n",
      "471 ' M ' plus fire ? I 've got it ! Mfire ! Right ! Mfire ! That makes so much sense . Let 's use it in a sentence . Run ! Run ! The house is on mfire . I 've got a better *** one *** . You 're mfired ! You ca n't mfire me ! I mquit !\tsentence, \tmfire\n",
      "\n",
      "473 Hiya kids ! Do you know what time it is ? It 's time to read some fan mail ! Winslow , pass up those letters , my good man . Nothing today , Chief . Are you sure ? Trust me . You two are as popular as a monkey in a banana patch . Forget about it . I have *** one *** ! \" Dear Us , Where did we come from ? Signed , you and me . \" Pathetic . Good question , Dog . As some may not realize , Dog and I are descendants of royalty . Right , royalty ! Um ... I do n't get it . Just work with me here , okay ? Oh ! Royalty ! We were the King and Queen of England ! We wore crowns of sausages , dental floss , and bowling balls ! Yeah , well that was the rumor , but we did grow up in a beautiful country . Beautiful country high in the frigid peaks of the Florida Alps ! Florida Alps ? Then we learned to fly ... out into outer space ... and back down into the ocean ! There , we found deep - sea leprechauns ... and a void so dark , we got lost in a crazy negative demension ! OKAY ! OKAY ! OKAY ! THAT IS ENOUGH ! You said , \" work with me . \" I 'm working with you . And you two wonder why you never get fan mail ? Sheesh Louis ! Deep - sea leprechauns ?\tOTHER, \tmonkey\n",
      "\n",
      "474 I will arrest every soldier whose blood alcohol is *** 1/1000 *** over the legal limit . How many men do you think that will be ? And how long till you 're fired ? Oh I 'm gon na do it on my own time , and we have a pretty good union , so I 'm gon na say four to five weeks .\talcohol, \tOTHER\n",
      "\n",
      "478 Oh , now you love the ten commandments , yet you 're the one who so conveniently forgot \" Thou shalt protect thy father , and honor no one above him , unless it be - eth me , thy sweet Lord . \" I 'm not sure that *** one *** made it down the mountain , Gob .\tcommandments, \tPEOPLE\n",
      "\n",
      "481 Hey . You solve this thing yet ? Can you give me till lunch ? Torres ' death leaves a void at the top of his crew , so I thought I 'd look at his replacements . Might be able to avoid a street war if we can talk to them . So I 'm gathering this as I go . Seems Torres was the face of this crew , but Lisa Brigosa ... she 's the brains , and Rick Devarro is the street muscle . Although , given his penchant for getting arrested , Rick 's not too bright . There 's *** one *** other : Luther Devarro . Any relation to Rick ? His older brother ... the founder of El Puño , but more of an advisor at this stage of his career . I helped put him away fifteen years ago . He was released last week . Gasoline on the fire . It 's one thing to be a street guy , another to be smart . But it 's dangerous when both those qualities are embodied in one person .\tPEOPLE, \tOTHER\n",
      "\n",
      "494 You mean to tell me that God made *** two *** of you ? God had nothing to do with it , darling .\tyou, \tOTHER\n",
      "\n",
      "497 General , these are difficult times , we need to help *** one *** another . And what help can I get from you , Paul ? You are a marked man , sir ! How so ? You 're on a list , the Americans have you on a list as a war criminal ! Paul , I am sick and tired of your lies . Are you stupid General ? How do you think these people operate ? You sit here with five stars on your chest ! Who do you think they 're coming after ? Fine , we will go to Gitzarama and you will stay on that list . I committed no war crimes . Who will tell them ? You need me to tell them how you helped at the hotel . They blame you for all their misfortunes . They say you lead the massacres ! I lead no massacres ! Do you think they will believe you ? You will tell them the truth ! I will tell them nothing unless you help me ! What- what are you going to do ... shoot me ? Shoot me . Please shoot me . It would be a blessing . I will pay you to shoot my family . You can not hurt me . You will tell them I did nothing ! We are leaving . Right now .\tOTHER, \tPEOPLE\n",
      "\n",
      "507 Okay , your vibrators start at $ 10.95 and go up . We 've got the Salami , Man - o'-War and ... Alien . Just give me the cheapest *** one *** . Wait a minute . There 's nothing cheap about my store . You mean inexpensive do n't you ? Is n't that what you meant ? Yes . That 's what I thought you meant !\tvibrators, \tOTHER\n",
      "\n",
      "513 So we 've finally got the last Grand Power . All that 's left is to figure out how to get the *** five *** he stole . Frankly , he may be our toughest opponent yet . Yeah . But , we 're going to win . Just wait ... Basco !\tPower, \tOTHER\n",
      "\n",
      "516 What happens if I press these numbers , here ? ' Scuse me ? These numbers , one through nine . If I press seven of them will someone talk to me through the ear part up here ? Uh ... yeah . Okay . I 'll take *** three *** .\tOTHER, \tnumbers\n",
      "\n",
      "520 God 's nails , what a barbarous county ! I ca n't ride five miles without some , some great hairy brute in a mask pursuing me with a pair of the most enormous pistols you ever saw ! He took every penny . My rings , and even my , my little musical snuffbox . You know , the *** one *** that plays ' Lilly Bolero ' . What a pity he did n't shoot you as well .\tsnuffbox, \trings\n",
      "\n",
      "521 We 're looking for my mother . Maybe she 's lost . Congratulations , Rose , you finally got *** one *** .\tOTHER, \tmother\n",
      "\n",
      "522 Men ! I never want to work with men again ! I thought it was very mean of Mr. Grainger not to lend you his pencil when you lost yours . It was typical ! But never mind , I 've got our own back . You know how he always licks the end of his pencil before he makes out a bill ? Well , I substituted it with *** one *** from the joke department , so when he licks the end this time it 'll go all fizzy . Oh Miss Brahms ! That was VERY naughty ! I ca n't wait to see his face when he licks it ! That 's if he can see which end to lick ! Yeah ... Well , that 's why they 're not here . Ca n't find his glasses . How do you know ? They 're in my handbag !\tpencil, pencil, \tbill\n",
      "\n",
      "529 Wait ! This runs counter to your programming ! Fun , remember ? Fun ? I do n't remember fun . I just remember cooking And cleaning And dunking the cosmic doughnut ! Ahh , wait , what was that last *** one *** ? Doughnut .\tOTHER, \tdoughnut\n",
      "\n",
      "532 Ooh - ooh - ooh . Are we opening presents ? No . No . I should n't have even opened these . I mean I - Joey , I am out of control . Joey , you have to do me a favor . No matter what I say , no matter what I do , please do not let me open another present . Okay ? Okay . Give me *** one *** more . Okay .\tpresents, present, \tOTHER\n",
      "\n",
      "534 Do you know that there is a boy here whose mother abandoned him in the restroom of a Five and Dime ? No , but ... Or that Polly Ann 's father sold her to some men for one dollar ? No . No , of course not . Who wants to dwell on things like that ? We never consider the little ones . We only put on our clothes . Who can see the children feeding the endless , ravenous hunger of the textile mill , mechanical mouths that are n't choosey : silk and thread , a lock of hair , a scrap of scalp , tiny , torn fingers . We only turn up the heat . Why think of the boys in the mines crouched over the chutes ? For hours they sit , sifting the refuse from the coal , their backs bent . Old men by nine , black lung by *** twelve *** . Coal is heavy and hard , hands are soft and fragile ; crushed , feet crushed , skulls crushed . Go for a walk ; you see them . Poisoned girls selling themselves to men and women . A nickel buys a virgin ; some are kept in cages . Babies , bought by men who raise them as livestock . Animals to abuse , soft flesh to violate , to tear and bite ! ' If anyone causes even one of the little ones who believe in me to sin , it would be better for him to have a large millstone hung around his neck and be damned in the depths of the sea ! ' They must open their eyes ! They must open their mouths and drown !\tAGE, \tOTHER\n",
      "\n",
      "537 How long have you been married now ? Almost three years . Quite a long time for Hollywood , is n't it ? Yeah . Do n't you get some kind of a plaque ? Yes . We stay together five years I get a free hair transplant and she gets a new set of breasts . What , so she 'll have four ? Yes , but her agent gets *** one *** .\tset, \tbreasts\n",
      "\n",
      "538 What the hell is wrong with you ? Listen . I get that you 're in a rush to delete yourself . Easy , man . That *** one *** 's in a mad dash too . You guys are being reckless . Look , we 're getting close to the end of this thing , okay ? If she 's right about tomorrow ... All right . We 'll never have happened . I get it . Yeah . And you wo n't be around to hear me say ' I told you so ' .\tPEOPLE, \tOTHER\n",
      "\n",
      "542 Hey , whatever you 're doing , just take a break . What are you doing ? Coulson has me patching a transceiver into a system that 's not even meant to handle *** one *** . You can do that in your sleep . In my sleep , yes , I 'm quite good at it . Problem is , I 'm awake .\ttransceiver, \tsystem\n",
      "\n",
      "543 So which one is Ramona ? Is she the *** one *** with the ears ? I think everyone who works here has ears .\tRamona, \tPEOPLE\n",
      "\n",
      "548 The Chrono - logger is hardly a time machine in the sense of a vehicle , but rather a subatomic drill designed to bore a tunnel in the fabric of space - time . As to cost , I think the alleviation of untold human suffering throughout history is ample justification , General . It 'll also give our red buddies overseas a thing or *** two *** to think about .\tOTHER, \tthing\n",
      "\n",
      "561 We have enough food to last for 30000 years , but we 've only got *** one *** After Eight mint left , and everyone 's too polite to take it .\tOTHER, \tfood\n",
      "\n",
      "562 If His Dukiness only give poor , insignificant Toadie a chance . Very well . But it had better work . Or I 'll be using poor insignificant Toadie for boot leather . Come on , guys . Think like bloodhounds . You find Gummis and Toadie will run you into Dregmoor stables . Oh , boy . Impressive , Toadwart . I 'd say you 're a size 9 , would n't you ? Actually , 8 and a half . But I can be a *** 9 *** if Dukie wishes .\tOTHER, \tsize\n",
      "\n",
      "565 I want to sleep with you 25 times , but you do n't want to sleep with me at all . Am I right ? Right . OK , so what 's half of *** 25 *** ? Your I.Q. ?\ttimes, \tAGE\n",
      "\n",
      "567 You two have always fought . I think I have a video tape of that . You and half of Orange County . As children , George Sr . would often provoke the boys to fight *** one *** another . He believed it created a competitive spirit . He also thought tapes of the footage would be a big hit in the burgeoning home video market . He soon franchised the concept with such titles as \" Boyfights 2 \" . \" A Boyfights Cookout \" , and \" Backseat Boyfights : The Trip To Uncle Jack 's 70 . \"\tOTHER, \tPEOPLE\n",
      "\n",
      "568 Did you know that Uncle Ross is the funniest person in our family ? Oh , you 've got to be kidding . Nope . Everybody calls him the family joke . Get it ? \" Joke ? \" I bet Ross did n't write that *** one *** . :\tJoke, \tOTHER\n",
      "\n",
      "575 How do you get away with one murder by committing *** two *** more ? At one death , you look for motive . At two , you look for a connection . At three , you look for someone like Kyle . At three , you do n't need motive , because mentally unstable serial killers do n't usually have one .\tmurder, \tdeath\n",
      "\n",
      "582 My new sheets from the Under A Dollar store feel so luxurious . Like maybe they could cost over a dollar . Maybe even two or three . Yup . It was a good day over at the Under A Dollar . Steak , bed stuff and my new steak - eating chair . Does n't it worry you that you got meat and furniture for the price of an Angry Birds update ? Yeah , it worries me that it 'll never happen again . Sheets and steak ? Never dare to dream it . These sheets smell amazing too . Thanks to that one little fabric softener ball , also under a dollar . I dated a guy with one ball once . He was all self - conscious , but I told him , \" No big deal , it 's just as ugly as *** two *** . \" I am gon na get such a good night ... Oh , sheet ! \" Thread count : yes . Washing instructions : Do not wash . \" Are you sure you want to sit in that ? Woman , do n't talk to me while I 'm eating my steak . \" Instructions : Do not sit . \"\tball, ball, \tTIME\n",
      "\n",
      "592 Making the question whether the enemy of your enemy is your enemy or friend , followed by whether that enemy is the friend of your enemy or of the second enemy ? And whether *** one *** or all three are enemies of Gunter , who is the enemy of both your enemies ? Or perhaps not of your third enemy , who could also be your friend . Hagerman , before this month is over , I will kill you .\tenemy, enemy, enemy, enemy, enemy, enemy, enemy, enemy, \tenemies\n",
      "\n",
      "596 You know , the housekeeping money 's not changed in six years . *** Six *** and a half . You would n't consider raising it ? Very well , if you insist .\tOTHER, \tyears\n",
      "\n",
      "601 What happened to you in that camp , Paul ? It does n't matter anymore . Yes , it does . You kill yourself , they get away with it . If you testify , we can shut them down for good . What good ? I 'm an abomination . No , you 're not . If you want to live your life according to a single message , go ahead . But try John 13:34 instead . \" A new command I give you . Love one another . As I have loved you , you must love *** one *** another . \" The best way for you to do that is to put that gun down . Paul , you are a victim . And there are others being victimized right now that you can help . Would n't Mitchell want you to do everything possible to make sure that nobody else suffered your same fate ? Come on . Put it down .\tPEOPLE, \tOTHER\n",
      "\n",
      "603 So , what , you 're just forgiving creep boy for beating you up ? He apologized . Of course ... his kind always does , so they can get another shot in at you . One , you have no right to dictate who Terri 's friends are , and , *** two *** , you 're a vicious backstabber . Oh I 'm vicious . Everything you say is a judgment ... you think you 're so perfect . What ? ... well I 'd rather be that than a psycho ...\tOTHER, \tPEOPLE\n",
      "\n",
      "608 The stories about Speirs are probably all bullshit anyway . Stories ? What stories ? Well , supposedly , Speirs shot one of his own men for being drunk . You 're kidding . That 's unbelievable . Yeah , and there 's another *** one *** about him giving cigarettes to twenty German POW 's before killing 'em . He shot twenty POW 's ? Well , actually , I heard it was more like thirty . Christenson . Lieutenant Speirs . I got the name right , did n't I ? Christenson ? Yes , sir . What are you men doing out here ? We 're watching the line , sir . Well , keep up the good work . While you 're at it , you might want to reinforce your cover . Oh ... well actually , sir , Lieutenant Dike said not even to bother , that we 're only gon na be here one day . Lieutenant Dike said that , huh ? Then forget what I said . Carry on . Oh , anyone care for a smoke ? You ?\tOTHER, \tmen\n",
      "\n",
      "610 I knew you were watching me . What 's the expression ? Keep your friends close , your enemies under surveillance ? I 've been here for two hours . You should know better than to keep a lady waiting . It seems hypocritical , seeing as I had to wait seven years . ... Hello , Ian . Hello , Lauren . Oh , wait , Lauren Reynolds died in a car accident , did n't she ? What do you want ? You ... Not today . Do n't worry about that . But soon . I 've got a Glock leveled at your crotch . What 's to stop me from taking you and the little ones out right now ? You 'd never make it back to your car and you know it . Tell me , does the lovely Penelope know the truth about you ? Or is she too busy watching movies with Derek to care ? Here you are , all alone , while Aaron sits at home with his son . And why did n't Dave and Ashley invite you to their game night ? Maybe they thought you 'd be on the metro with Dr. Reid . That *** one *** does have some quirks . Come near my team and I will end you . I do n't have a quarrel with them . How long that remains the case depends entirely on you . They 're innocent . You are not . I was doing my job . I think you did a little more than that . You took the only thing that mattered to me . So , I 'm going to take the only thing that matters to you . Your life .\tOTHER, \tPEOPLE\n",
      "\n",
      "612 Do you , uh , wear sneakers inside clown shoes ? Are you seriously asking me that question ? What , no good ? What the hell do I know about clowns ? Look , I 'm a bright man , Danny , but I 'm afraid I ca n't help you with that *** one *** . Hey . Jo , do you wear sneakers inside clown shoes ? I do n't know . I do n't own any . Clown shoes ? Sneakers . Danny , get out of here . Get me some answers .\tquestion, \tOTHER\n",
      "\n",
      "618 Pour you a beer , Mr. Peterson ? Alright , but stop me at *** one *** . Make that one - thirty .\tTIME, \tOTHER\n",
      "\n",
      "622 You wash up on a deserted island alone . Sitting on the sand is a box . What is in that box ? Machete . A sat phone so I can call someone to get me off that island . How big is the box ? Just say the first answer that comes into your mind . What 's in that box ? Simmons . That 's a hard *** one *** . Let me think . The Tardis . I want to say my laptop , fully charged . But I do n't want to seem subversive - with the Rising Tide and all ... You 're over - thinking it . The laptop would be stupid , anyway . There 's no wi - fi .\tOTHER, \tbox\n",
      "\n",
      "625 Aang , I 'm trying to be mature and not immediately shoot down your idea , but it sounds * really * terrible . Yeah , we got our outfits . What do you need to go to school for ? Every minute I 'm in that classroom , I 'm learning new things about the Fire Nation . I already have a picture of Fire Lord Ozai . And here 's *** one *** I made out of noodles .\tOTHER, \tpicture\n",
      "\n",
      "633 But what else could I expect from a bunch of low - rent , no account hoodlums like you ? Hoodlums yes ! I mean you and your friends , your whole sex . Throw 'em in the sea for all I care ! Throw 'em in and wait for the bubbles . Men with your groping and spitting , all groin , no brain , *** three *** billion of you passing around the same worn - out urge . Men ! With your ... Sales !\tMen, Men, \tOTHER\n",
      "\n",
      "635 Er , Mr. Harrison , have you got a sort of white coat or something so that everyone knows that * I 'm * the shopkeeper ? Yeah , hang on , I 'll get you one . Here you are , and here 's one for you , Eddie . Oh , no - no - no - no - no - no - no , no . Haven't you got a sort of brown *** one *** for him ? No , of course I haven't ! Or what about a little badge or something that just says \" Assistant \" ? What are you talking about ? Look , I 'm in a hurry ! All right , all right . Well , look Eddie , you 'll just have to ... put your jacket on back to front or something . Piss off . Oh , do n't kick up a stink , Eddie , I know what I 'm doing . It 's nothing personal , it 's just that there is a sort of \" Upstairs , Downstairs \" thing to any shopping experience , which the shopper needs to feel reassured about . All right . There ! Now everybody knows who everybody is .\tcoat, \tsomething\n",
      "\n",
      "642 I 'm ready . One more time . Ready . You 're walking too fast . What if the bad guys walk fast ? What if they walk 3 feet apart ? I 'll get *** one *** and you 'll get the other . I ca n't twirl a rope . You 'll tackle him . Like a football player .\tguys, \tfeet\n",
      "\n",
      "649 Is that about it , Mrs. Slocombe ? Perfect , Miss Brahams . There , you see , Madam , with the shorter hem , and the alterations to the sleeves , and ... a bit taken out of the back and ... , oh yes ... , the shoulders adjusted and the buttons moved ... It 'll fit you like a glove . Would n't it be easier to get *** one *** in my size ? But it 's an unrepeatable offer . Yes , it 's last year 's stock . That 'll do , Miss Brahms .\tOTHER, \tglove\n",
      "\n",
      "651 You remember that man who lived around here about *** two *** , three - hundred years ag , got lost in a blizzardo Yes . Yes , I do . I led ' i m to a cave . He spent that winter ice - fishing and concocting stories to tell to his tribe when he got back home . I remember . He told them later that it was the most wonderful season of his life . He said that he had met himself that year . Hm ... People too busy to meet themselves anymore . Everybody 's faxing and modeming and onlining and imputing and downloading and overnighting ... You do n't like it ? Change the channel . Push the button . Escape . Delete . You know , you can say anything to anybody , anywhere in the world , in seconds . But it still takes as much time as it ever took to know a soul ... mend a broken heart , or ... give birth to a child . In this world of change , some things just do n't . And children like her - they get lost in the in - between .\tOTHER, \tyears\n",
      "\n",
      "665 This is the greatest lie they try to stuff down our throats , that Ireland is one , that our nation is *** one *** , and that we are all one people , united in our beliefs with one common interest . But do you think the interests of a child in the slum are the same as the rack - renting landlord ? Do you think the interests of a labourer are the same as the Earl 's ? The interests of a miner or a factory worker the same as the owner 's , his bankers ' , his lawyers ' , his investors ' and the prostitute journalists ' hired to write their lies ? Do you think they give a damn about our old , the sick , the unemployed , the hungry , the homeless , and those forced to leave our shores desperate for work ?\tnation, \tOTHER\n",
      "\n",
      "671 Thank you . You guys want to watch out for this *** one *** . She 's gon na have a hard time getting over me . Like kicking a virus . You know , I could have just missed . With your ego ? Not a chance .\tPEOPLE, \tOTHER\n",
      "\n",
      "674 All right , Mr. Trump , you have two minutes . How do you heal the divide ? Well , first of all , Secretary Clinton does n't want to use a couple of words , and that 's law and order . And we need law and order . If we do n't have it , we 're not going to have a country . And when I look at what 's going on in Charlotte , a city I love , a city where I have investments , when I look at what 's going on throughout various parts of our country , whether it 's - I mean , I can just keep naming them all day long - we need law and order in our country . I just got today the , as you know , the endorsement of the Fraternal Order of Police , we just - just came in . We have endorsements from , I think , almost every police group , very - I mean , a large percentage of them in the United States . We have a situation where we have our inner cities , African- Americans , Hispanics are living in he 'll because it 's so dangerous . You walk down the street , you get shot . In Chicago , they 've had thousands of shootings , thousands since January 1st . Thousands of shootings . And I 'm saying , where is this ? Is this a war - torn country ? What are we doing ? And we have to stop the violence . We have to bring back law and order . In a place like Chicago , where thousands of people have been killed , thousands over the last number of years , in fact , almost *** 4000 *** have been killed since Barack Obama became president , over - almost 4000 people in Chicago have been killed . We have to bring back law and order . Now , whether or not in a place like Chicago you do stop and frisk , which worked very well , Mayor Giuliani is here , worked very well in New York . It brought the crime rate way down . But you take the gun away from criminals that should n't be having it . We have gangs roaming the street . And in many cases , they 're illegally here , illegal immigrants . And they have guns . And they shoot people . And we have to be very strong . And we have to be very vigilant . We have to be - we have to know what we 're doing . Right now , our police , in many cases , are afraid to do anything . We have to protect our inner cities , because African - American communities are being decimated by crime , decimated .\tPEOPLE, \tpeople\n",
      "\n",
      "679 Which do you prefer : your way with seven wives or our way with one wife ? Well , I think it 's just the same thing all over . Really ? In Nigeria , we marry *** seven *** at a time , and over here , you marry seven one at a time . Well , you see , over here the entire nation has been brought up on the installment plan .\tOTHER, \twives\n",
      "\n",
      "691 Oh , there you are . There who is ? Our new friend Spike . He 's known as William the Bloody . Earned his nickname by torturing his victims with railroad spikes . Very pleasant . Oh , here 's some good news : he 's barely two hundred . He 's not even as old as Angel is . Oh . That 's a bad look , right ? I think your suggestion of running away this Saturday might 've been a good *** one *** . Spike has fought two Slayers in the last century , and ... he 's killed them both .\tsuggestion, \tlook\n",
      "\n",
      "696 Did you hear what she said ? She called it her father . I 've heard of people treating their pets as one of the family , but this is a new *** one *** .\tOTHER, \tpets\n",
      "\n",
      "705 You know , I was thinking about Gates ' sister , and it got me wondering . Do you have any family I do n't know about ? No , I do n't think so . Good . Because this \" intimate \" wedding of ours ... Oh , no . You , too ? How bad is yours ? I 've got over a hundred . I 'm at three hundred over that . *** Four *** hundred ? Well , to be fair , I am world famous ... ish . I mean , look , it 's a first draft . It just needs some editing . Just brutal , ruthless editing . Castle , Michael Connelly ? You haven't seen him in over a year . And do you not remember what he wrote about your last book ? No . I think we got our first edit . Uh , well , I have to invite Connelly , because if he finds out that Jonathan Kellerman made the cut , and I have to invite Kellerman because I have to invite Wes Craven and Stephen King ... Yeah , but we 've got to start somewhere . Well , I think I know where . Aunt Theresa ? Really ? After what she posted about me on Facebook ? She took it down .\tOTHER, \tCURRENCY\n",
      "\n",
      "710 Morningside huh ? All right ! Yeah , I 've heard all the speeches , so , you know , thanks all the same but you can save it . What speeches ? It 's a dead house , you 're throwing your career away , all you 're going to do is sell t - shirts ... Oh , I do n't have any speeches . I made 100 bucks on this . What ? What - what do you mean ? Oh , when you first started there was a little side action on if you had what it took to make it to *** 51 *** . I took the under , so to speak ... Well , who else bet against me ? It was a confidential poll ... hey , you made it four years man , I 'll give you that much . Okay , I get it , it 's like a reverse psychology ploy to get me fired up , make me stay , right ? Son of a ...\tCURRENCY, \tOTHER\n",
      "\n",
      "711 Oh I do beg your pardon , my husband has *** one *** just like yours . Hey ? It 's also creased and wrinkled .\tOTHER, \tpardon\n",
      "\n",
      "713 Knock knock , this a private party ? Have a drink , Chip . Thanks Dad - uh , Aaron , heh heh . Well , I 'm taking a lot of flak from this from my wife . I thought the , uh , food fight was a nice plus , though . This is a career day for you , Chip . A s a matter of fact , this is the first good thing I could ever remember you doing . Oh come on , I 've done lots of good things . Name one . Are you serious ? Name *** one *** . Well , there was , uh , uh ... You do n't do anything , and I pay you a fortune , but look , you made up for everything . You 're the man who drove the Booger man out of my daughter 's life . Heh .\tOTHER, \tthings\n",
      "\n",
      "717 Legend tells of a mysterious video that can harness the forces of evil from the beyond . The disc is a harbinger of grave misfortune , marking its watchers to certain and unavoidable death . I saw it , just like Val did . That 's why she said \" it 's coming for me \" . That 's how she knew when she was going to die . Why she was trying to ward off spirits . Because of the message on that disc . How 's a DVD going to kill you ? Is it going to come at you like a ninja star ? Cut your head off ? The actual DVD will not kill me , Esposito . It will be the spirit inside the DVD . Just like in The Ring . Ooh , ooh , the *** one *** with the creepy , waterlogged little girl that crawls out of the TV . I did n't sleep for days after that movie .\tmovie, \tspirit\n",
      "\n",
      "722 This is the Super Bowl times a *** million *** , plus crowns ; so nobody relapse . Not this weekend . Frankie , I got some bad news . We 're not British . Yeah , we won the Civil War , so we do n't have to care .\tOTHER, \tCURRENCY\n",
      "\n",
      "725 I 'm not saying you should fuck every *** one *** . Just one would be good .\tPEOPLE, \tOTHER\n",
      "\n",
      "727 I sure wish we could keep some of this . If you could weave , you could make me a hammock . I never had a hammock made of fifty dollar bills . Oh , you sure were under - privildged ... All the rest of kids on my block had *** one *** . You sure you ca n't weave ?\thammock, hammock, \tbills\n",
      "\n",
      "728 Two blocks away from the alley , blood smeared on the armrest . This is definitely it . He was shot somewhere else and then he came here ? Why not go home ? Why not go get patched up ? He was meeting someone in that alleyway . Phone . His last call was 4:47 a.m. , just before he died . Run that number . Right . Hey , Beckett . Gun . It 's a *** 0.38 *** . Recently fired . So it was a shootout . That 's how he got the shoulder wound . Which means wherever he came from , there might be another body . I know where he was coming from . Where ? His last entry was 299 1st Avenue . What ... what 's at 299 1st Ave . ? Captain Montgomery 's house .\tGun, \tOTHER\n",
      "\n",
      "734 Veronica ... ? Yeah ? Would you like a cup of tea ? Alright , thanks ... Sorry ... is that \" alright , thanks \" as in you would like one , or , er , \" I 'm alright thanks , I would n't \" ? Second one ! Sorry , is , is ... I * do n't * want *** one *** !\tOTHER, \tcup\n",
      "\n",
      "736 I hear *** one *** becomes quite warm before freezing . You 're so twisted , it 's scary .\tPEOPLE, \tOTHER\n",
      "\n",
      "738 Look , Reid , I know you 're mad at us because we did n't tell you what really happened , and I understand that . But I promise you , we had no choice . You mourned the loss of a friend . I mourned the loss of *** six *** . This whole thing gave me an ulcer . Please do n't give me another one .\tfriend, \tPEOPLE\n",
      "\n",
      "741 I 'm gon na tell you this *** one *** from my point of view so you can put yourself in there . So the story goes : The guy falls in love with a girl the second he meets her , but it takes them a lifetime to get it together . When they do they end up on a boat , and they realise the only way they can stay together is to never go ashore . So they raise the yellow colour flag so no port would take them and they drift out to sea ' til the end . And it makes you realize there are people in your life so important that they dwarf everything else . It 's up to you to figure out who they are . If you have to give up everything else and spend the rest of your days on a boat , who are the must haves , the ones you ca n't live without ? Figure out your own list and then do everything you can to let them know how much they mean to you .\tstory, \tOTHER\n",
      "\n",
      "752 What 's that for ? For losing our memories , for not believing our eyes , for keeping our mouths shut . Seems to me you 're doing an awful lot of talking for a couple of guys being paid to keep your mouths shut . If you put *** two *** and two together you get four , if we do n't put two and two together , we get five thousand . That 's pretty fancy arithmetic . I like four better than five thousand .\tarithmetic, \tOTHER\n",
      "\n",
      "764 Found a piece of jewelry , in pretty good shape . Based on age , I 'd say they 're probably the victim 's parents . Job never gets easier , does it ? I can tell you I 've been working here twenty - nine years . That 's *** four *** thousand , eight hundred and forty - six cases and names I will never forget .\tcases, \tyears\n",
      "\n",
      "774 Wha the hell is *** 43 *** ? It 's a prime number . Encryption systems are based on prime numbers . What kind of secrets would Sheldon need encrypting ? Maybe it 's the secret to what makes his egg salad so delicious . It 's paprika . Really ? Well , one mystery solved .\tnumber, numbers, \tAGE\n",
      "\n",
      "781 They butt into other people 's business ; and make the business of other 's their own - these bought - out , no good cocksuckers . Hickok , you talkin ' bout ? Oh , fuckin ' big shot he is . Big fuckin ' shot , when he 's standing in front of you . *** One *** in his ear from behind , I 'd like to see how fucking tough he was .\tOTHER, \tPEOPLE\n",
      "\n",
      "783 Now THAT 'S a heroic pose . Real funny . I ca n't believe I 'm a new hero . And where there 's *** one *** more - who knows - there could be a hundred more .\tOTHER, \thero\n",
      "\n",
      "792 You do n't piss off your barber , other wise the next time you go , you 're gon na get a shitty cut . So you get a new *** one *** . There ai n't no talking to you about barbers Paulie .\tbarber, barbers, \tcut\n",
      "\n",
      "802 There must be over 1000 liters here . *** 2000 *** . Our deal was for 200 . Our deal was for power cells , medical supplies and repair work . You provided us with much more than that .\tliters, \tCURRENCY\n",
      "\n",
      "805 Who are the Gentlemen ? They are fairy tale monsters . What do they want ? Boobies ? Hearts . They come to a town . They steal all the voices so no one can scream . Then ... They need seven , they have at least *** two *** . How do we kill them ? In the tales no sword can kill them .\tHearts, \tOTHER\n",
      "\n",
      "806 Will somebody turn down the damn heat . Feels like a *** hundred *** in here . The thermostat is set at 68 degrees . Maybe you 're coming down with the flu . It 's NOT the flu . Maybe you 're going through \" The Change . \"\tdegrees, \tOTHER\n",
      "\n",
      "812 Dylan , really , why do you think I 'm here ? I mean , you wo n't let me use Andromeda for running cargo . I 'm not allowed to mine . God knows you 're not paying me . I like your whole idea of the Commonwealth , but do you really think that 's the only thing that 's keeping me around ? I prefer to . Come on , Dylan . Your entire crew has an ulterior motive . Rev Bem wants to use your Commonwealth to spread his faith . Harper is in lust with your ship . Tyr 's always plotting something , and God only knows what the purple *** one *** 's up to . Does it really surprise you to find out that I 'm no different ?\tPEOPLE, \tOTHER\n",
      "\n",
      "827 *** Four *** fifty , love . Sorry about the hold - up . Students seem to do more demonstrating than studying these days . Well at least they care . Oh yes , they care for the whole world ; every bit of it except their own bit . What about their own people ? There are old people like you and me sleeping rough . They do n't care about them , do they ? Keep the change .\tCURRENCY, \tOTHER\n",
      "\n",
      "834 Twenty - five years it took to grow that apple tree . I planted it in the spring of 1965 . Feeding it , spraying it , mulching the soil , watering it through the droughts , giving it an annual dressing of potash and hydrogen every January . Not one sodding apple . Come on , let 's go plant another *** one *** .\ttree, \tapple\n",
      "\n",
      "837 Anyway , I 'm headed up to Bloomington . They have this big interfaith snowball fight on campus where they work out thousands of years of conflict in a fun , safe environment . Would it be cool if I took some of your delicious cookies ? Yes ! I just wish there was more of 'em . Oh , well , I have a *** thousand *** more in the car . I mean that . A thousand .\tOTHER, \tcookies\n",
      "\n",
      "839 Can I call you back in five minutes ? He 's all yours . Ben , Flo can we dicuss this ? There 's nothing to discuss ! We 're signing him back over to you right now ! Bad parents make bad children ! Oh so now I 'm a bad parent just because I hate my kid ! You took him , he 's yours ! That 's because you conned us into him ! What am I supposed to do with the little creep ? He 's already been returned 30 times ! Well this makes *** 31 *** Charlie ! OK Mr. and Mrs. \" We do n't care about brown hair and brown eyes . We just want him into our home and let him play with our disgusting cat . \" !\ttimes, \tCURRENCY\n",
      "\n",
      "843 You know , Wendell . You know , back in ' 2 , we had to secure this ridge in Gozni before our major forces came in . Little did we know , the Taliban had already been there and they pinned us down for about six days , and they kept picking us off ... *** one *** by one . Fifteen guys went up that ridge and only three came home . I know what you 're tryin ' to do , Booth . I appreciate it . The doctors tried to do the same thing ... No , you do n't . I do n't think you know what I 'm talking about . And I do n't think you appreciate what I 'm telling you right now . What I 'm telling you is that I saw twelve of my brothers killed in front of me . Twelve . You got dealt a bad hand . Deal with it . Sorry ... Enough with the apologies . Okay , Wendell ? Stop feeling sorry for yourself and keep fighting . I do n't need to see another brother die .\tPEOPLE, \tguys\n",
      "\n",
      "847 The bridge is a major target , and we 've never hit it . Chances of civilian deaths will be almost zero . I say 100 to 500 , possibly more ! Which is it ? *** 500 *** or zero ?\tChances, \tdeaths\n",
      "\n",
      "849 Daddy , she has more marshmallows than I do . No she does n't , you each have *** five *** . You have five too . Thanks\tmarshmallows, \tOTHER\n",
      "\n",
      "856 I do n't know . All these slitted eyes are so scary . Listen Sedlmayr , Tamani is *** one *** too . Yes , but she 's a girl , it is lovely . But as a man ... I do n't know . That reminds me of Fu Manchu . Listen Sedlmayr , That 's a Chinese . They are all chinese . All yellow danger .\tOTHER, \teyes\n",
      "\n",
      "857 I 'm gon na say something . To who ? Lieutenant Winters ! What is it ? Permission to speak , sir . Granted . Sir , we got nine companies , sir . We do . Well , how come we 're the only *** one *** marching every Friday night , twelve miles , full pack , in the pitch dark ? Why do you think , Private Randleman ? Lieutenant Sobel hates us , sir . Lieutenant Sobel does not hate Easy Company , Private Randleman . He just hates you . Thank you , sir .\tcompanies, \tPEOPLE\n",
      "\n",
      "859 Harry said it got in me too early . And too deep , he said that I could n't change it . So he thought up the code . He said that if I had to kill , I might as well kill people who deserved it . You make it sound like it 's okay . Like you 're the victim here . The people in that box , Dexter , they 're the victims . Victims ? The choir director who raped and murdered little boys ? The married couple smuggling refugees who killed the ones who could n't pay ? The psychiatrist who manipulated women into taking their own lives ? There 's a place called the Police Department . Sometimes the system does n't work . Killers fall through the cracks . Do n't I fucking know it . I 'm talking to *** one *** right now . I am the worst fucking detective in the world .\tKillers, \tOTHER\n",
      "\n",
      "864 Maybe this is one of those times when on the count of three , the both of you say you were wrong . *** 1 *** , 2 , 3 , never !\tOTHER, \tcount\n",
      "\n",
      "871 Our first guest is Jackson Myers , whose father is the *** one *** and only Mike Myers . Very groovy , baby - I bet he 's got one million interesting stories , so let 's bring him out - Jackson Myers . Is your dad gon na star in another \" Austin Powers \" sequel ? Why would he ? Because he 's Mike Myers , the actor who plays Austin Powers . Uh - uh , he 's Mike Myers , the dry - cleaner . They have the same name .\tMyers, Myers, Myers, Myers, Myers, \tPEOPLE\n",
      "\n",
      "878 Look at this list of words they wo nt let me say on the air . Oh , all the good ones . Hmm , I never even heard of number nine . It 's doing *** thirteen *** while she 's elevening your five .\tOTHER, \tlist\n",
      "\n",
      "892 C'mon peeps , let 's go kick some sick patient ass . And that my friends is one nerdy honky . That 's *** two *** .\thonky, \tOTHER\n",
      "\n",
      "894 There are no respectable , single women living in Colorado Springs . That 's a shame , Reverend . Every town should have at least *** one *** .\twomen, \ttown\n",
      "\n",
      "895 I only have one thing left to say to you . Where 's my money ? Here it is , you earned every penny . Hey , you do n't have to count it ! Yes , I do , from *** one *** con to another !\tPEOPLE, \tOTHER\n",
      "\n",
      "899 There he is . Mmmm - hmmm . Sioux City , United 2 - 3 - 2 Heavy . United 232 Heavy Sioux City Approach . Ah , Roger ... we are in a bit of a rough patch here , you got us squawk . Roger 232 , radar contact five - niner miles . Your present track will put you about eight miles north of the airport , sir . Ah ... can you make a slight left turn sir ? Ah ... hope to make some slight left turns on final , but right now we got ta make right turns only , to whatever heading you want . Roger 232 Heavy , ah ... right turn heading two - five - *** five *** All units this is Sioux City Tower , we have an alert two , I say again alert two , get two more guys up here now please .\tOTHER, \tunits\n",
      "\n",
      "903 Seven Seven , like that guy Six Six we used to fight ? He 's he same race as Six *** Six *** but far more dangerous . Yeah , eleven more dangerous .\tOTHER, \tAGE\n",
      "\n"
     ]
    }
   ],
   "source": [
    "for ex in elmo_errs[:200]:\n",
    "    tokens = ex[0]['tokens']\n",
    "    anchors_inds = ex[0]['anchors_indices']\n",
    "#     if tokens[anchors_inds[0]] in ['one', '1']: continue\n",
    "    inspect_err(*ex)"
   ]
  },
  {
   "cell_type": "code",
   "execution_count": 23,
   "metadata": {},
   "outputs": [],
   "source": [
    "implicit_classes = ['YEAR', 'AGE', 'CURRENCY', 'PEOPLE', 'TIME', 'OTHER']\n",
    "num_implicit = len(implicit_classes)\n",
    "\n",
    "def get_top_predictions(predictor, in_text):\n",
    "    split_text = in_text.split()\n",
    "    split_text_update = []\n",
    "    anchor_start = 0\n",
    "    anchor_end = 0\n",
    "    in_anchor = False\n",
    "    for ind, w in enumerate(split_text):\n",
    "        if w == '***':\n",
    "            if in_anchor:\n",
    "                anchor_end = ind - 2\n",
    "            else:\n",
    "                anchor_start = ind\n",
    "                in_anchor = True\n",
    "        else:\n",
    "            split_text_update.append(w)\n",
    "\n",
    "    anchor = [anchor_start]\n",
    "    if anchor_end - anchor_start > 0:\n",
    "        anchor.append(anchor_end)\n",
    "\n",
    "    sample_data = {\"tokens\": split_text_update,\n",
    "              \"anchors_indices\": anchor}\n",
    "    print(' '.join(split_text_update))\n",
    "    print(anchor)\n",
    "    prediction = predictor.predict_json(sample_data)\n",
    "#     print(len(prediction['tag_logits']))\n",
    "\n",
    "    y_hat = prediction['y_hat']\n",
    "    if y_hat < num_implicit:\n",
    "        y_hat = implicit_classes[y_hat]\n",
    "    else:\n",
    "        y_hat = split_text_update[y_hat - num_implicit]\n",
    "\n",
    "    print(y_hat)\n",
    "    # print(prediction)\n",
    "    l = np.array(prediction['tag_logits'])\n",
    "    probs = np.e ** l / sum(np.e ** l)\n",
    "    for i, j, p in zip(l.argsort()[-10:][::-1], sorted(l, reverse=True), sorted(probs, reverse=True)):\n",
    "        if i < num_implicit:\n",
    "            yh = implicit_classes[i]\n",
    "        else:\n",
    "            yh = split_text_update[i - num_implicit]\n",
    "        print (yh, j, p),\n",
    "\n"
   ]
  },
  {
   "cell_type": "code",
   "execution_count": 30,
   "metadata": {},
   "outputs": [
    {
     "name": "stdout",
     "output_type": "stream",
     "text": [
      "How has life been without a father ? Okay . I really miss him . But you have Héctor as a legal dad . He might be my legal dad , too ! No , because we 're not sisters , but you can look for another one . How did you look for one ? I think my brother found him on the internet .\n",
      "[54]\n",
      "sisters\n",
      "sisters 3.93868350982666 0.5721180688322326\n",
      "dad 3.0803730487823486 0.24250805421346777\n",
      "OTHER 2.774381637573242 0.1785812200233018\n",
      "father -1.4036058187484741 0.002737530004270275\n",
      "dad -1.7139393091201782 0.0020071635678537967\n",
      "PEOPLE -2.044800043106079 0.0014417560231763653\n",
      "TIME -4.191709041595459 0.00016846164734377864\n",
      "He -4.43220853805542 0.00013245045026502957\n",
      "AGE -4.98041296005249 7.65545985824329e-05\n",
      "life -5.155336380004883 6.426921680342549e-05\n"
     ]
    }
   ],
   "source": [
    "# text = \"I have only followed my lover . I hope you have *** one *** .\"\n",
    "# text = \"Speaking of parties , I 'm having *** one *** and we 'd like to invite you as the official guest of honor . Why ? So you and your little \\\" descendants club \\\" can burn me at the stake and roast marshmallows by the fire ?\"\n",
    "# text = \"Is this your dog ? I 've never seen this *** one *** .\"\n",
    "text = \"How has life been without a father ? Okay . I really miss him . But you have Héctor as a legal dad . He might be my legal dad , too ! No , because we 're not sisters , but you can look for another one . How did you look for *** one *** ? I think my brother found him on the internet .\"\n",
    "\n",
    "get_top_predictions(predictor_elmo, text)"
   ]
  },
  {
   "cell_type": "code",
   "execution_count": 31,
   "metadata": {},
   "outputs": [
    {
     "name": "stdout",
     "output_type": "stream",
     "text": [
      "Simon wants to know if you can get the ring road plan scrapped , Rita . Tell him , no , I ca n't get it scrapped . No , she ca n't get it scrapped . Damn ! Damn ! Thank you , Simon . What on earth for ? Because every time I meet you , I get to thinking my two are n't such berks after all .\n",
      "[63]\n",
      "OTHER\n",
      "OTHER 5.06685209274292 0.997910283526208\n",
      "PEOPLE -1.4529848098754883 0.001470829420619636\n",
      "berks -2.6759040355682373 0.00043296743904961565\n",
      "earth -4.333721160888672 8.250388650270839e-05\n",
      "AGE -5.002892971038818 4.225292538148275e-05\n",
      "CURRENCY -5.651818752288818 2.2081669058169823e-05\n",
      "TIME -6.403280258178711 1.0415408581713136e-05\n",
      "for -7.103644847869873 5.1702534698744615e-06\n",
      "time -7.377061367034912 3.933403946760267e-06\n",
      "plan -7.990231037139893 2.130454900233321e-06\n"
     ]
    }
   ],
   "source": [
    "text = \"Simon wants to know if you can get the ring road plan scrapped , Rita . Tell him , no , I ca n't get it scrapped . No , she ca n't get it scrapped . Damn ! Damn ! Thank you , Simon . What on earth for ? Because every time I meet you , I get to thinking my *** two *** are n't such berks after all .\"\n",
    "get_top_predictions(predictor_elmo, text)"
   ]
  },
  {
   "cell_type": "code",
   "execution_count": 35,
   "metadata": {},
   "outputs": [
    {
     "name": "stdout",
     "output_type": "stream",
     "text": [
      "Another lesson ? Uh - huh . What was this one about ? Uh ... Beauty ... In the dark ... Well ... They must be working . You 're beginning to sound just like a Vorlon .\n",
      "[10]\n",
      "OTHER\n",
      "OTHER 1.6224271059036255 0.4187759723426003\n",
      "Beauty 1.2936509847640991 0.3014366818249482\n",
      "lesson 1.1983652114868164 0.2740400353975046\n",
      "PEOPLE -2.7678146362304688 0.005191872191068262\n",
      "TIME -5.985548496246338 0.00020791218052941107\n",
      "AGE -6.682919025421143 0.00010351797326650095\n",
      "CURRENCY -8.042336463928223 2.6584486034893e-05\n",
      "Vorlon -8.26616382598877 2.125305079332383e-05\n",
      "YEAR -8.274372100830078 2.1079313926642086e-05\n",
      "... -8.680598258972168 1.4042185078036054e-05\n"
     ]
    }
   ],
   "source": [
    "text = \"Another lesson ? Uh - huh . What was this *** one *** about ? Uh ... Beauty ... In the dark ... Well ... They must be working . You 're beginning to sound just like a Vorlon .\"\n",
    "get_top_predictions(predictor_elmo, text)"
   ]
  },
  {
   "cell_type": "code",
   "execution_count": 36,
   "metadata": {},
   "outputs": [
    {
     "name": "stdout",
     "output_type": "stream",
     "text": [
      "I 've still got $ 30 . I was thinkin ' I might split it with ya , and then again I might get back in that poker game and run it up to a thousand . But , what if you lose the thirty ? You do n't get the fifteen . But , if ya win the thousand ? You do get the fifteen . Bret , sometimes your heart runs away with your head .\n",
      "[59]\n",
      "OTHER\n",
      "OTHER 5.734511375427246 0.9764203133177339\n",
      "CURRENCY 1.9966585636138916 0.02324384418612038\n",
      "PEOPLE -2.7064590454101562 0.0002107511388674918\n",
      "TIME -4.159891605377197 4.9266554384775e-05\n",
      "AGE -5.206862926483154 1.7292521411253495e-05\n",
      ". -5.2802252769470215 1.606931847707486e-05\n",
      "heart -5.866672039031982 8.939369018643618e-06\n",
      "game -6.029654026031494 7.594945954759041e-06\n",
      "YEAR -6.236283779144287 6.177126940497767e-06\n",
      ". -6.796090602874756 3.529112571914589e-06\n"
     ]
    }
   ],
   "source": [
    "text = \"I 've still got $ 30 . I was thinkin ' I might split it with ya , and then again I might get back in that poker game and run it up to a thousand . But , what if you lose the thirty ? You do n't get the fifteen . But , if ya win the *** thousand *** ? You do get the fifteen . Bret , sometimes your heart runs away with your head .\"\n",
    "get_top_predictions(predictor_elmo, text)"
   ]
  },
  {
   "cell_type": "code",
   "execution_count": 37,
   "metadata": {},
   "outputs": [
    {
     "name": "stdout",
     "output_type": "stream",
     "text": [
      "Mrs. Draper is back for her 27th hospital admission status , post - pancreatic pseudocyst . 27 ? Yes , somebody needs to tell her the hospital stopped giving out frequent - flier miles . Oh , and she 's a chronic rectal discomfort , and you two get to work her up and review her old charts . All 27 ? No , why do n't you just forget all about visits 6 , 13 , and uh , what do you think , 21 ? Yeah , that should keep it interesting . It 'll be like playing patient roulette .\n",
      "[16]\n",
      "AGE\n",
      "AGE 5.027385234832764 0.6954892062069863\n",
      "visits 4.106464862823486 0.2769107133532037\n",
      "charts 1.7674353122711182 0.026700053501590455\n",
      "OTHER -2.7430260181427 0.000293524032326317\n",
      "miles -2.8271937370300293 0.0002698299103682372\n",
      "status -3.534566879272461 0.00013300924760212482\n",
      "pseudocyst -3.667504072189331 0.00011645226700084518\n",
      "YEAR -5.090419292449951 2.8066206682748114e-05\n",
      "admission -5.904346466064453 1.2436541943577308e-05\n",
      "flier -6.394830703735352 7.615265355676756e-06\n"
     ]
    }
   ],
   "source": [
    "text = \"Mrs. Draper is back for her 27th hospital admission status , post - pancreatic pseudocyst . *** 27 *** ? Yes , somebody needs to tell her the hospital stopped giving out frequent - flier miles . Oh , and she 's a chronic rectal discomfort , and you two get to work her up and review her old charts . All 27 ? No , why do n't you just forget all about visits 6 , 13 , and uh , what do you think , 21 ? Yeah , that should keep it interesting . It 'll be like playing patient roulette .\"\n",
    "get_top_predictions(predictor_elmo, text)"
   ]
  },
  {
   "cell_type": "code",
   "execution_count": 38,
   "metadata": {},
   "outputs": [
    {
     "name": "stdout",
     "output_type": "stream",
     "text": [
      "Sam , you got a very understanding brain ... for larceny . I found out early in life that the honest dollar is the hardest one to make .\n",
      "[25]\n",
      "OTHER\n",
      "OTHER 4.923346519470215 0.6126178432618256\n",
      "dollar 4.453970432281494 0.38312650460987946\n",
      "PEOPLE -0.13947850465774536 0.0038764364734861496\n",
      "is -2.842129707336426 0.00025982812981262493\n",
      "life -5.156413555145264 2.5680617524625857e-05\n",
      "TIME -5.215183734893799 2.4214856401553367e-05\n",
      "brain -5.537186145782471 1.7548420305965466e-05\n",
      "CURRENCY -5.7534499168396 1.4135652664794723e-05\n",
      "larceny -6.1540913581848145 9.469335373307459e-06\n",
      "make -6.430971622467041 7.179131811423497e-06\n"
     ]
    }
   ],
   "source": [
    "text = \"Sam , you got a very understanding brain ... for larceny . I found out early in life that the honest dollar is the hardest *** one *** to make .\"\n",
    "get_top_predictions(predictor_elmo, text)"
   ]
  },
  {
   "cell_type": "code",
   "execution_count": 39,
   "metadata": {},
   "outputs": [
    {
     "name": "stdout",
     "output_type": "stream",
     "text": [
      "What are your sales ? 100 . 100000 ? No , 100 .\n",
      "[7]\n",
      "CURRENCY\n",
      "CURRENCY 3.1905179023742676 0.9342454502820416\n",
      "OTHER 0.5184298753738403 0.06456362498286514\n",
      "TIME -4.0666279792785645 0.0006587529616890884\n",
      "PEOPLE -5.2894368171691895 0.00019393824000271\n",
      "sales -5.291808605194092 0.00019347880466449245\n",
      "AGE -5.700727939605713 0.0001285410920159376\n",
      "YEAR -8.775856018066406 5.936504884890387e-06\n",
      "What -10.119528770446777 1.5487494589268626e-06\n",
      "are -10.514447212219238 1.0434466944691675e-06\n",
      ". -10.64787769317627 9.13107996262016e-07\n"
     ]
    }
   ],
   "source": [
    "text = \"What are your sales ? 100 . *** 100000 *** ? No , 100 .\"\n",
    "get_top_predictions(predictor_elmo, text)"
   ]
  },
  {
   "cell_type": "code",
   "execution_count": 40,
   "metadata": {},
   "outputs": [
    {
     "name": "stdout",
     "output_type": "stream",
     "text": [
      "How long have you lived like this ? I worked construction for a while , but no one wants an old man on the job when they can get somebody younger and cheaper . How long ? A year . Maybe five . It 's hard to keep track without a watch . Then let me help you . If I had wanted your help , I would have asked for it .\n",
      "[41]\n",
      "AGE\n",
      "AGE 3.4741621017456055 0.6758435838832788\n",
      "year 2.673842430114746 0.3035790363328885\n",
      "CURRENCY -0.7270902395248413 0.010121980266360275\n",
      "PEOPLE -1.1446467638015747 0.00666688543057767\n",
      "TIME -1.9946421384811401 0.0028495395626233996\n",
      "OTHER -3.825166702270508 0.00045686509000595254\n",
      "man -4.628636360168457 0.00020457169105394886\n",
      "YEAR -4.767235279083252 0.00017809543577205944\n",
      "one -7.414393901824951 1.2618461498468386e-05\n",
      "you -7.567183017730713 1.0830560607520305e-05\n"
     ]
    }
   ],
   "source": [
    "text = \"How long have you lived like this ? I worked construction for a while , but no one wants an old man on the job when they can get somebody younger and cheaper . How long ? A year . Maybe *** five *** . It 's hard to keep track without a watch . Then let me help you . If I had wanted your help , I would have asked for it .\"\n",
    "get_top_predictions(predictor_elmo, text)"
   ]
  },
  {
   "cell_type": "code",
   "execution_count": 41,
   "metadata": {},
   "outputs": [
    {
     "name": "stdout",
     "output_type": "stream",
     "text": [
      "This will be my gift to the Dragon Flyz , my farewell gift . One that will keep giving and giving and giving .\n",
      "[14]\n",
      "PEOPLE\n",
      "PEOPLE -0.44004571437835693 0.7611356143299124\n",
      "gift -2.2895307540893555 0.11974045288193168\n",
      "OTHER -2.877572536468506 0.06650550494222879\n",
      "CURRENCY -3.2696094512939453 0.044936384441087336\n",
      "YEAR -6.180077075958252 0.002446797889503225\n",
      "gift -6.413337230682373 0.0019377355152342217\n",
      "Flyz -7.174562931060791 0.0009051037786904341\n",
      "TIME -7.429234027862549 0.0007016105744909896\n",
      "AGE -7.823001384735107 0.00047324402097261064\n",
      "giving -8.400769233703613 0.0002655606647553674\n"
     ]
    }
   ],
   "source": [
    "text = \"This will be my gift to the Dragon Flyz , my farewell gift . *** One *** that will keep giving and giving and giving .\"\n",
    "get_top_predictions(predictor_elmo, text)"
   ]
  },
  {
   "cell_type": "code",
   "execution_count": 42,
   "metadata": {},
   "outputs": [
    {
     "name": "stdout",
     "output_type": "stream",
     "text": [
      "You out of your mind ? Just a little . I ca n't quite seem to adjust : two daughters - in - law for only one son . Well , as long as you had only one , why 'd it have to be me ?\n",
      "[37]\n",
      "daughters\n",
      "daughters 8.030106544494629 0.9705172498776387\n",
      "son 4.534372806549072 0.02943238029097774\n",
      "OTHER -1.913547396659851 4.66153792960114e-05\n",
      "PEOPLE -5.518788814544678 1.2670471272860444e-06\n",
      "AGE -6.112141132354736 7.000082059658544e-07\n",
      "law -7.119243144989014 2.556962061693088e-07\n",
      "mind -7.178742408752441 2.409262286358273e-07\n",
      "CURRENCY -7.550235748291016 1.6616768711807585e-07\n",
      "TIME -7.60316801071167 1.5760078831754104e-07\n",
      "little -7.97070837020874 1.0912836173135348e-07\n"
     ]
    }
   ],
   "source": [
    "text = \"You out of your mind ? Just a little . I ca n't quite seem to adjust : two daughters - in - law for only one son . Well , as long as you had only *** one *** , why 'd it have to be me ?\"\n",
    "get_top_predictions(predictor_elmo, text)"
   ]
  },
  {
   "cell_type": "code",
   "execution_count": 43,
   "metadata": {},
   "outputs": [
    {
     "name": "stdout",
     "output_type": "stream",
     "text": [
      "Oh , now you love the ten commandments , yet you 're the one who so conveniently forgot \" Thou shalt protect thy father , and honor no one above him , unless it be - eth me , thy sweet Lord . \" I 'm not sure that one made it down the mountain , Gob .\n",
      "[49]\n",
      "PEOPLE\n",
      "PEOPLE 3.025480270385742 0.5269746713268918\n",
      "commandments 2.7412338256835938 0.39659120533395054\n",
      "OTHER 1.0506165027618408 0.07313365940569068\n",
      "father -2.762392282485962 0.0016149111384291602\n",
      "Lord -3.2245335578918457 0.0010172863665347093\n",
      "Thou -4.463529109954834 0.0002946824641878157\n",
      "me -5.5110602378845215 0.00010337542412327753\n",
      "YEAR -5.9029412269592285 6.985951291308399e-05\n",
      "one -6.932585716247559 2.4949200503516535e-05\n",
      "CURRENCY -7.096965312957764 2.116739827966178e-05\n"
     ]
    }
   ],
   "source": [
    "text = \"Oh , now you love the ten commandments , yet you 're the one who so conveniently forgot \\\" Thou shalt protect thy father , and honor no one above him , unless it be - eth me , thy sweet Lord . \\\" I 'm not sure that *** one *** made it down the mountain , Gob .\"\n",
    "get_top_predictions(predictor_elmo, text)"
   ]
  },
  {
   "cell_type": "code",
   "execution_count": 44,
   "metadata": {},
   "outputs": [
    {
     "name": "stdout",
     "output_type": "stream",
     "text": [
      "Which do you prefer : your way with seven wives or our way with one wife ? Well , I think it 's just the same thing all over . Really ? In Nigeria , we marry seven at a time , and over here , you marry seven one at a time . Well , you see , over here the entire nation has been brought up on the installment plan .\n",
      "[37]\n",
      "wives\n",
      "wives 5.545756816864014 0.9879791206335397\n",
      "OTHER 1.0077784061431885 0.01056644225023763\n",
      "PEOPLE -1.3232533931732178 0.0010270096780611384\n",
      "wife -2.6400842666625977 0.00027522137119925674\n",
      "AGE -4.195511341094971 5.809901357076185e-05\n",
      "one -5.443314075469971 1.6682261198646375e-05\n",
      "TIME -5.5546345710754395 1.4924817861285557e-05\n",
      "at -5.821192264556885 1.1432586722400533e-05\n",
      "CURRENCY -5.989561557769775 9.66101262090229e-06\n",
      "marry -6.256372928619385 7.398572661771422e-06\n"
     ]
    }
   ],
   "source": [
    "text = \"Which do you prefer : your way with seven wives or our way with one wife ? Well , I think it 's just the same thing all over . Really ? In Nigeria , we marry *** seven *** at a time , and over here , you marry seven one at a time . Well , you see , over here the entire nation has been brought up on the installment plan .\"\n",
    "get_top_predictions(predictor_elmo, text)"
   ]
  }
 ],
 "metadata": {
  "kernelspec": {
   "display_name": "allennlp",
   "language": "python",
   "name": "allennlp"
  }
 },
 "nbformat": 4,
 "nbformat_minor": 2
}
