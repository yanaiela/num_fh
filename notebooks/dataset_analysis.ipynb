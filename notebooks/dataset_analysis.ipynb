{
 "cells": [
  {
   "cell_type": "code",
   "execution_count": 2,
   "metadata": {},
   "outputs": [
    {
     "name": "stdout",
     "output_type": "stream",
     "text": [
      "Using matplotlib backend: Qt5Agg\n"
     ]
    }
   ],
   "source": [
    "import numpy as np\n",
    "\n",
    "import json\n",
    "from collections import Counter, OrderedDict\n",
    "\n",
    "import matplotlib.pyplot as plt\n",
    "\n",
    "from tqdm import tqdm\n",
    "\n",
    "%matplotlib\n",
    "%matplotlib inline\n",
    "\n",
    "plt.style.use('ggplot')\n",
    "import seaborn as sns"
   ]
  },
  {
   "cell_type": "code",
   "execution_count": 3,
   "metadata": {},
   "outputs": [],
   "source": [
    "import spacy\n",
    "nlp = spacy.load('en')"
   ]
  },
  {
   "cell_type": "code",
   "execution_count": 1,
   "metadata": {},
   "outputs": [],
   "source": [
    "dataset_f = '../data/resolution/processed/'\n",
    "\n",
    "all_data = []\n",
    "for x in ['json_train.txt', 'json_dev.txt', 'json_test.txt']:\n",
    "    data = open(dataset_f + x, 'r').readlines()\n",
    "    data = [x.strip() for x in data]\n",
    "    data = [json.loads(x) for x in data]\n",
    "    all_data += data"
   ]
  },
  {
   "cell_type": "code",
   "execution_count": 4,
   "metadata": {
    "scrolled": true
   },
   "outputs": [
    {
     "name": "stderr",
     "output_type": "stream",
     "text": [
      "100%|██████████| 9412/9412 [00:00<00:00, 13778.79it/s]\n"
     ]
    }
   ],
   "source": [
    "dataset = {}\n",
    "unique_references = []\n",
    "i = 0\n",
    "for ex in tqdm(all_data):\n",
    "    # getting the scene from each group and reindexing inner index in every group\n",
    "    \n",
    "    lines_ind = ex['line_indices']\n",
    "    speakers = ex['speakers']\n",
    "\n",
    "    tokens = ex['tokens']\n",
    "    \n",
    "    anchor = ex['anchors_indices']\n",
    "    if len(anchor) == 1:\n",
    "        anchor_words = [tokens[anchor[0]]]\n",
    "    else:\n",
    "        anchor_words = tokens[anchor[0]: anchor[-1] + 1]\n",
    "    anchor_words = [str(x) for x in anchor_words]\n",
    "    \n",
    "    head = ex['head']\n",
    "    refs = []\n",
    "    if type(head[0]) == int:\n",
    "        refs = head\n",
    "        head = 'REFERENCE'\n",
    "    else:\n",
    "        head = str(head[0])\n",
    "    \n",
    "    dataset[i] = {'tokens': tokens,\n",
    "                  'num_lines': len(set(lines_ind)), 'num_words': len(tokens),\n",
    "                        'anchor': anchor_words, 'anchor_ind': anchor[0],\n",
    "                  'words_in_sentence': Counter(lines_ind).values(),\n",
    "                 'head': head, 'ref': refs,\n",
    "                 'line_indices': lines_ind}\n",
    "    i += 1"
   ]
  },
  {
   "cell_type": "markdown",
   "metadata": {},
   "source": [
    "# Dataset Statistics"
   ]
  },
  {
   "cell_type": "code",
   "execution_count": 5,
   "metadata": {},
   "outputs": [],
   "source": [
    "metrics_f = OrderedDict([('min', np.min), ('max', np.max), ('mean', np.mean),\n",
    "            ('std', np.std), ('median', np.median)])"
   ]
  },
  {
   "cell_type": "markdown",
   "metadata": {},
   "source": [
    "## General corpus stats"
   ]
  },
  {
   "cell_type": "code",
   "execution_count": 6,
   "metadata": {
    "scrolled": false
   },
   "outputs": [
    {
     "name": "stdout",
     "output_type": "stream",
     "text": [
      "dataset size: 9412\n"
     ]
    }
   ],
   "source": [
    "print 'dataset size: {0}'.format(len(dataset))"
   ]
  },
  {
   "cell_type": "markdown",
   "metadata": {},
   "source": [
    "#### Number of lines in a Scene"
   ]
  },
  {
   "cell_type": "code",
   "execution_count": 7,
   "metadata": {},
   "outputs": [
    {
     "name": "stdout",
     "output_type": "stream",
     "text": [
      "min number of lines in a scene: 1\n",
      "max number of lines in a scene: 28\n",
      "mean number of lines in a scene: 5.84827879303\n",
      "std number of lines in a scene: 5.15160451938\n",
      "median number of lines in a scene: 4.0\n"
     ]
    }
   ],
   "source": [
    "scene_lines = [scene['num_lines'] for scene in dataset.values()]\n",
    "for name, f in metrics_f.iteritems():\n",
    "    print '{0} number of lines in a scene: {1}'.format(name, f(scene_lines))"
   ]
  },
  {
   "cell_type": "markdown",
   "metadata": {},
   "source": [
    "#### Words in a Scene"
   ]
  },
  {
   "cell_type": "code",
   "execution_count": 8,
   "metadata": {},
   "outputs": [
    {
     "name": "stdout",
     "output_type": "stream",
     "text": [
      "min number of words in a scene: 2\n",
      "max number of words in a scene: 1557\n",
      "mean number of words in a scene: 95.7051636209\n",
      "std number of words in a scene: 95.9145805413\n",
      "median number of words in a scene: 64.0\n"
     ]
    }
   ],
   "source": [
    "num_words_scene = [scene['num_words'] for scene in dataset.values()]\n",
    "vals = []\n",
    "for name, f in metrics_f.iteritems():\n",
    "    val = f(num_words_scene)\n",
    "    print '{0} number of words in a scene: {1}'.format(name, val)\n",
    "    vals.append(val)"
   ]
  },
  {
   "cell_type": "markdown",
   "metadata": {},
   "source": [
    "#### Words in sentence (by speaker)"
   ]
  },
  {
   "cell_type": "code",
   "execution_count": 9,
   "metadata": {},
   "outputs": [
    {
     "name": "stdout",
     "output_type": "stream",
     "text": [
      "min number of words in a sentence: 1\n",
      "max number of words in a sentence: 934\n",
      "mean number of words in a sentence: 16.3646718988\n",
      "std number of words in a sentence: 21.082763185\n",
      "median number of words in a sentence: 11.0\n"
     ]
    }
   ],
   "source": [
    "words_by_speaker = np.hstack([scene['words_in_sentence'] for scene in dataset.values()])\n",
    "for name, f in metrics_f.iteritems():\n",
    "    print '{0} number of words in a sentence: {1}'.format(name, f(words_by_speaker))"
   ]
  },
  {
   "cell_type": "markdown",
   "metadata": {},
   "source": [
    "## Target stats"
   ]
  },
  {
   "cell_type": "code",
   "execution_count": 10,
   "metadata": {},
   "outputs": [],
   "source": [
    "y_dist = Counter([scene['head'] for scene in dataset.values()])"
   ]
  },
  {
   "cell_type": "code",
   "execution_count": 11,
   "metadata": {},
   "outputs": [
    {
     "data": {
      "text/plain": [
       "Counter({'AGE': 1081,\n",
       "         'CURRENCY': 386,\n",
       "         'OTHER': 2208,\n",
       "         'PEOPLE': 799,\n",
       "         'REFERENCE': 4237,\n",
       "         'TIME': 216,\n",
       "         'YEAR': 485})"
      ]
     },
     "execution_count": 11,
     "metadata": {},
     "output_type": "execute_result"
    }
   ],
   "source": [
    "y_dist"
   ]
  },
  {
   "cell_type": "code",
   "execution_count": 12,
   "metadata": {},
   "outputs": [
    {
     "data": {
      "image/png": "[encoded data removed]",
      "text/plain": [
       "<matplotlib.figure.Figure at 0x7ffb32ac4ad0>"
      ]
     },
     "metadata": {},
     "output_type": "display_data"
    }
   ],
   "source": [
    "labels = 'Reference', 'People', 'Age', 'Year', 'Currency', 'Other', 'Time'\n",
    "fig_agg, ax_agg = plt.subplots()\n",
    "\n",
    "ax_agg.pie(y_dist.values(), labels=labels, autopct='%1.1f%%', pctdistance=0.7)\n",
    "ax_agg.axis('equal')  # Equal aspect ratio ensures that pie is drawn as a circle.\n",
    "plt.title('Categorial Majority Agreement', y=1.1)\n",
    "# my_dpi=1200\n",
    "# plt.savefig('figs/class_dist.png', bbox_inches='tight', format='png', dpi=1200)\n",
    "plt.show()"
   ]
  },
  {
   "cell_type": "code",
   "execution_count": 13,
   "metadata": {},
   "outputs": [
    {
     "name": "stdout",
     "output_type": "stream",
     "text": [
      "min number of anchors in a scene: 1\n",
      "max number of anchors in a scene: 9\n",
      "mean number of anchors in a scene: 1.04568635784\n",
      "std number of anchors in a scene: 0.330544963699\n",
      "median number of anchors in a scene: 1.0\n"
     ]
    }
   ],
   "source": [
    "num_target_words = [len(scene['anchor']) for scene in dataset.values()]\n",
    "for name, f in metrics_f.iteritems():\n",
    "    print '{0} number of anchors in a scene: {1}'.format(name, f(num_target_words))"
   ]
  },
  {
   "cell_type": "markdown",
   "metadata": {},
   "source": [
    "### Target Stats"
   ]
  },
  {
   "cell_type": "code",
   "execution_count": 14,
   "metadata": {},
   "outputs": [],
   "source": [
    "anchor_words = [x['anchor'] for x in dataset.values()]"
   ]
  },
  {
   "cell_type": "code",
   "execution_count": 15,
   "metadata": {},
   "outputs": [],
   "source": [
    "target_c = Counter(len(x) for x in anchor_words)\n",
    "target_w = Counter([' '.join(x) for x in anchor_words])"
   ]
  },
  {
   "cell_type": "markdown",
   "metadata": {},
   "source": [
    "#### Target Lengths"
   ]
  },
  {
   "cell_type": "code",
   "execution_count": 16,
   "metadata": {},
   "outputs": [
    {
     "data": {
      "text/plain": [
       "Counter({1: 9153, 2: 153, 3: 78, 4: 8, 5: 13, 6: 3, 7: 1, 9: 3})"
      ]
     },
     "execution_count": 16,
     "metadata": {},
     "output_type": "execute_result"
    }
   ],
   "source": [
    "target_c"
   ]
  },
  {
   "cell_type": "markdown",
   "metadata": {},
   "source": [
    "#### Most common target words"
   ]
  },
  {
   "cell_type": "code",
   "execution_count": 17,
   "metadata": {},
   "outputs": [],
   "source": [
    "def bar_plot(objects, vals, y_pos, title, x_label, y_label):\n",
    "    plt.bar(y_pos, vals, align='center', alpha=0.5)\n",
    "    plt.xticks(y_pos, objects)\n",
    "    plt.ylabel(y_label)\n",
    "    plt.xlabel(x_label)\n",
    "    plt.title(title)\n",
    "    plt.show()"
   ]
  },
  {
   "cell_type": "code",
   "execution_count": 18,
   "metadata": {},
   "outputs": [
    {
     "data": {
      "image/png": "[encoded data removed]",
      "text/plain": [
       "<matplotlib.figure.Figure at 0x7ffb32ac4a50>"
      ]
     },
     "metadata": {},
     "output_type": "display_data"
    }
   ],
   "source": [
    "targets = target_w.most_common(n=10)\n",
    "target_least_common = sum([x[1] for x in reversed(target_w.most_common()[-(len(target_w) - len(targets)):])])\n",
    "\n",
    "words_vals = [t[1] for t in targets] + [target_least_common]\n",
    "words = [t[0] for t in targets] + ['Rest']\n",
    "y_pos = np.arange(len(words_vals))\n",
    "bar_plot(words, words_vals, y_pos, 'Target Numbers Distribution', 'Word', 'Count')"
   ]
  },
  {
   "cell_type": "code",
   "execution_count": 19,
   "metadata": {
    "scrolled": true
   },
   "outputs": [
    {
     "data": {
      "text/plain": [
       "[('one', 4616),\n",
       " ('two', 558),\n",
       " ('three', 307),\n",
       " ('five', 198),\n",
       " ('six', 157),\n",
       " ('four', 144),\n",
       " ('ten', 135),\n",
       " ('One', 108),\n",
       " ('nine', 93),\n",
       " ('eight', 89)]"
      ]
     },
     "execution_count": 19,
     "metadata": {},
     "output_type": "execute_result"
    }
   ],
   "source": [
    "targets"
   ]
  },
  {
   "cell_type": "code",
   "execution_count": 20,
   "metadata": {},
   "outputs": [
    {
     "data": {
      "text/plain": [
       "0.4904377390565236"
      ]
     },
     "execution_count": 20,
     "metadata": {},
     "output_type": "execute_result"
    }
   ],
   "source": [
    "4616.0/len(dataset)"
   ]
  },
  {
   "cell_type": "code",
   "execution_count": 21,
   "metadata": {},
   "outputs": [
    {
     "name": "stdout",
     "output_type": "stream",
     "text": [
      "377\n"
     ]
    }
   ],
   "source": [
    "singletons = 0\n",
    "for w, c in target_w.iteritems():\n",
    "    if c == 1:\n",
    "        singletons += 1\n",
    "print singletons"
   ]
  },
  {
   "cell_type": "markdown",
   "metadata": {},
   "source": [
    "### Reference Stats"
   ]
  },
  {
   "cell_type": "code",
   "execution_count": 22,
   "metadata": {},
   "outputs": [],
   "source": [
    "references = {k: v for k, v in dataset.iteritems() if v['head'] == 'REFERENCE'}"
   ]
  },
  {
   "cell_type": "code",
   "execution_count": 23,
   "metadata": {},
   "outputs": [
    {
     "data": {
      "text/plain": [
       "4237"
      ]
     },
     "execution_count": 23,
     "metadata": {},
     "output_type": "execute_result"
    }
   ],
   "source": [
    "len(references)"
   ]
  },
  {
   "cell_type": "code",
   "execution_count": 24,
   "metadata": {},
   "outputs": [
    {
     "name": "stderr",
     "output_type": "stream",
     "text": [
      "100%|██████████| 4237/4237 [00:00<00:00, 144647.65it/s]\n"
     ]
    }
   ],
   "source": [
    "reference_words = []\n",
    "for row in tqdm(references.values()):\n",
    "    reference = []\n",
    "    ref = ''\n",
    "    tokens = row['tokens']\n",
    "    reference_words.append(set([tokens[x] for x in row['ref']]))"
   ]
  },
  {
   "cell_type": "code",
   "execution_count": 25,
   "metadata": {},
   "outputs": [
    {
     "data": {
      "text/plain": [
       "[{u'ships'},\n",
       " {u'officer'},\n",
       " {u'hat'},\n",
       " {u'seconds'},\n",
       " {u'Archuran'},\n",
       " {u'Bullets', u'bullet'},\n",
       " {u'rod'},\n",
       " {u'predator'},\n",
       " {u'operation'},\n",
       " {u'horse'}]"
      ]
     },
     "execution_count": 25,
     "metadata": {},
     "output_type": "execute_result"
    }
   ],
   "source": [
    "reference_words[:10]"
   ]
  },
  {
   "cell_type": "markdown",
   "metadata": {},
   "source": [
    "#### number of referred answers in a scene"
   ]
  },
  {
   "cell_type": "code",
   "execution_count": 26,
   "metadata": {},
   "outputs": [
    {
     "name": "stdout",
     "output_type": "stream",
     "text": [
      "min targets: 1\n",
      "max targets: 4\n",
      "mean targets: 1.06466839745\n",
      "std targets: 0.267983518483\n",
      "median targets: 1.0\n"
     ]
    }
   ],
   "source": [
    "num_ref_ans = [len(x) for x in reference_words]\n",
    "for name, f in metrics_f.iteritems():\n",
    "    print '{0} targets: {1}'.format(name, f(num_ref_ans))"
   ]
  },
  {
   "cell_type": "code",
   "execution_count": 27,
   "metadata": {},
   "outputs": [
    {
     "name": "stdout",
     "output_type": "stream",
     "text": [
      "Counter({1: 3983, 2: 238, 3: 12, 4: 4})\n"
     ]
    }
   ],
   "source": [
    "num_ref_ans_c = Counter(num_ref_ans)\n",
    "print num_ref_ans_c"
   ]
  },
  {
   "cell_type": "code",
   "execution_count": 28,
   "metadata": {},
   "outputs": [
    {
     "data": {
      "text/plain": [
       "0.9400519235308001"
      ]
     },
     "execution_count": 28,
     "metadata": {},
     "output_type": "execute_result"
    }
   ],
   "source": [
    "float(sum([x[1] for x in num_ref_ans_c.most_common(1)])) / sum(num_ref_ans_c.values())"
   ]
  },
  {
   "cell_type": "markdown",
   "metadata": {},
   "source": [
    "### References heads pos-tags"
   ]
  },
  {
   "cell_type": "code",
   "execution_count": 29,
   "metadata": {},
   "outputs": [],
   "source": [
    "pos_c = []\n",
    "for ref in reference_words:\n",
    "    refs = list(set(ref))\n",
    "    ref_nlp = nlp(unicode(refs[0]))\n",
    "    pos_c.append((ref_nlp[0].pos_, ref_nlp[0].text))"
   ]
  },
  {
   "cell_type": "code",
   "execution_count": 30,
   "metadata": {},
   "outputs": [
    {
     "data": {
      "text/plain": [
       "Counter({u'ADJ': 75,\n",
       "         u'ADP': 5,\n",
       "         u'ADV': 7,\n",
       "         u'DET': 2,\n",
       "         u'INTJ': 5,\n",
       "         u'NOUN': 3753,\n",
       "         u'NUM': 9,\n",
       "         u'PRON': 23,\n",
       "         u'PROPN': 158,\n",
       "         u'PUNCT': 2,\n",
       "         u'SYM': 1,\n",
       "         u'VERB': 196,\n",
       "         u'X': 1})"
      ]
     },
     "execution_count": 30,
     "metadata": {},
     "output_type": "execute_result"
    }
   ],
   "source": [
    "Counter([x[0] for x in pos_c])"
   ]
  },
  {
   "cell_type": "code",
   "execution_count": 31,
   "metadata": {
    "scrolled": true
   },
   "outputs": [
    {
     "data": {
      "text/plain": [
       "[(u'VERB', u'reach'),\n",
       " (u'VERB', u'shot'),\n",
       " (u'VERB', u'bruise'),\n",
       " (u'VERB', u'supporting'),\n",
       " (u'VERB', u'note'),\n",
       " (u'VERB', u'lay'),\n",
       " (u'VERB', u'wake'),\n",
       " (u'VERB', u'show'),\n",
       " (u'VERB', u'drink'),\n",
       " (u'VERB', u'count'),\n",
       " (u'VERB', u'shot'),\n",
       " (u'VERB', u'meeting'),\n",
       " (u'VERB', u'features'),\n",
       " (u'VERB', u'listen'),\n",
       " (u'VERB', u'faces'),\n",
       " (u'VERB', u'mask'),\n",
       " (u'VERB', u'Push'),\n",
       " (u'VERB', u'ending'),\n",
       " (u'VERB', u'puncture'),\n",
       " (u'VERB', u'wish')]"
      ]
     },
     "execution_count": 31,
     "metadata": {},
     "output_type": "execute_result"
    }
   ],
   "source": [
    "[x for x in pos_c if x[0] == 'VERB'][:20]"
   ]
  },
  {
   "cell_type": "markdown",
   "metadata": {},
   "source": [
    "### Target-Ref relations"
   ]
  },
  {
   "cell_type": "markdown",
   "metadata": {},
   "source": [
    "#### target-ref min word distance"
   ]
  },
  {
   "cell_type": "code",
   "execution_count": 32,
   "metadata": {},
   "outputs": [
    {
     "name": "stderr",
     "output_type": "stream",
     "text": [
      "100%|██████████| 4237/4237 [00:00<00:00, 238944.60it/s]\n"
     ]
    }
   ],
   "source": [
    "min_d = lambda a, b: min([abs(x - a) for x in b])\n",
    "\n",
    "target_ref_dists = []\n",
    "mvals = []\n",
    "for ex in tqdm(references.values()):\n",
    "    \n",
    "    anch_ind = ex['anchor_ind']\n",
    "    refs = ex['ref']\n",
    "    \n",
    "    mv = min_d(anch_ind, refs)\n",
    "    # cool example of distance 1\n",
    "#     if mv == 1:\n",
    "#         print ex\n",
    "    target_ref_dists.append((anch_ind, refs))"
   ]
  },
  {
   "cell_type": "code",
   "execution_count": 33,
   "metadata": {},
   "outputs": [
    {
     "name": "stdout",
     "output_type": "stream",
     "text": [
      "min target length: 1\n",
      "max target length: 151\n",
      "mean target length: 10.331602549\n",
      "std target length: 9.12617218466\n",
      "median target length: 8.0\n"
     ]
    }
   ],
   "source": [
    "min_ref_tar_word_dist = [min_d(a, b) for a, b in target_ref_dists]\n",
    "for name, f in metrics_f.iteritems():\n",
    "    print '{0} target length: {1}'.format(name, f(min_ref_tar_word_dist))"
   ]
  },
  {
   "cell_type": "code",
   "execution_count": 34,
   "metadata": {},
   "outputs": [
    {
     "name": "stdout",
     "output_type": "stream",
     "text": [
      "Counter({6: 427, 5: 403, 4: 400, 7: 393, 8: 293, 3: 274, 9: 250, 10: 216, 11: 203, 12: 151, 2: 147, 13: 144, 14: 125, 16: 96, 15: 89, 17: 67, 18: 63, 19: 58, 20: 52, 23: 42, 24: 37, 21: 33, 22: 33, 25: 25, 26: 25, 27: 24, 28: 19, 29: 17, 30: 12, 32: 11, 36: 9, 38: 9, 31: 7, 34: 7, 33: 5, 40: 5, 42: 5, 35: 4, 39: 4, 41: 4, 44: 4, 37: 3, 47: 3, 48: 3, 50: 3, 52: 3, 53: 3, 43: 2, 45: 2, 51: 2, 60: 2, 68: 2, 1: 1, 46: 1, 49: 1, 55: 1, 57: 1, 59: 1, 62: 1, 64: 1, 69: 1, 73: 1, 93: 1, 94: 1, 95: 1, 151: 1, 99: 1, 147: 1, 150: 1})\n",
      "0.918810479113\n"
     ]
    }
   ],
   "source": [
    "min_ref_tar_word_c = Counter(min_ref_tar_word_dist)\n",
    "print min_ref_tar_word_c\n",
    "\n",
    "print float(sum([x[1] for x in min_ref_tar_word_c.most_common(20)])) / sum(min_ref_tar_word_c.values())"
   ]
  },
  {
   "cell_type": "markdown",
   "metadata": {},
   "source": [
    "#### target-ref same speaker"
   ]
  },
  {
   "cell_type": "code",
   "execution_count": 35,
   "metadata": {},
   "outputs": [
    {
     "name": "stderr",
     "output_type": "stream",
     "text": [
      "100%|██████████| 4237/4237 [00:00<00:00, 242906.28it/s]\n"
     ]
    }
   ],
   "source": [
    "target_ref_speakers = []\n",
    "target_ref_lines = []\n",
    "target_ref_tokens_order = []\n",
    "trto = []\n",
    "for ex in tqdm(references.values()):\n",
    "    \n",
    "    head = ex['ref']\n",
    "    line_indices = ex['line_indices']\n",
    "    anchor_line = ex['anchor_ind']\n",
    "    head_ind = head[0]\n",
    "    \n",
    "    # getting all indices where there is a reference answer\n",
    "    referred_lines = [line_indices[x] for x in head]\n",
    "    target_ref_lines.append((anchor_line, referred_lines))\n",
    "    target_ref_tokens_order.append((anchor_line, head))"
   ]
  },
  {
   "cell_type": "code",
   "execution_count": 36,
   "metadata": {
    "scrolled": true
   },
   "outputs": [
    {
     "data": {
      "text/plain": [
       "4237"
      ]
     },
     "execution_count": 36,
     "metadata": {},
     "output_type": "execute_result"
    }
   ],
   "source": [
    "len(target_ref_lines)"
   ]
  },
  {
   "cell_type": "markdown",
   "metadata": {},
   "source": [
    "#### reference before/after target"
   ]
  },
  {
   "cell_type": "code",
   "execution_count": 37,
   "metadata": {},
   "outputs": [],
   "source": [
    "def target_before_after(entry):\n",
    "    vals = [(x - entry[0]) for x in entry[1]]\n",
    "    if all([x < 0 for x in vals]):\n",
    "        return 'before'\n",
    "    elif all([x > 0 for x in vals]):\n",
    "        return 'after'\n",
    "    else:\n",
    "        return 'both'"
   ]
  },
  {
   "cell_type": "code",
   "execution_count": 38,
   "metadata": {},
   "outputs": [
    {
     "data": {
      "image/png": "[encoded data removed]",
      "text/plain": [
       "<matplotlib.figure.Figure at 0x7ffb325f85d0>"
      ]
     },
     "metadata": {},
     "output_type": "display_data"
    }
   ],
   "source": [
    "loc_c = Counter([target_before_after(x) for x in target_ref_tokens_order])\n",
    "\n",
    "fig_agg, ax_agg = plt.subplots()\n",
    "\n",
    "ax_agg.pie(loc_c.values(), labels=loc_c.keys(), autopct='%1.1f%%',\n",
    "        shadow=True)\n",
    "ax_agg.axis('equal')  # Equal aspect ratio ensures that pie is drawn as a circle.\n",
    "plt.title('References position to Target', y=1.1)\n",
    "# my_dpi=1200\n",
    "# plt.savefig('../resources/cat-dist.svg', bbox_inches='tight', format='svg', dpi=1200)\n",
    "plt.show()"
   ]
  },
  {
   "cell_type": "markdown",
   "metadata": {},
   "source": [
    "### Total Tokens"
   ]
  },
  {
   "cell_type": "code",
   "execution_count": 39,
   "metadata": {},
   "outputs": [
    {
     "data": {
      "text/plain": [
       "900777"
      ]
     },
     "execution_count": 39,
     "metadata": {},
     "output_type": "execute_result"
    }
   ],
   "source": [
    "sum([x['num_words'] for x in dataset.values()])"
   ]
  }
 ],
 "metadata": {
  "kernelspec": {
   "display_name": "Python 2",
   "language": "python",
   "name": "python2"
  },
  "language_info": {
   "codemirror_mode": {
    "name": "ipython",
    "version": 2
   },
   "file_extension": ".py",
   "mimetype": "text/x-python",
   "name": "python",
   "nbconvert_exporter": "python",
   "pygments_lexer": "ipython2",
   "version": "2.7.13"
  },
  "widgets": {
   "state": {
    "5a0d496e499841138b8e2a0afd9862cc": {
     "views": [
      {
       "cell_index": 56
      }
     ]
    },
    "67eba34629ca4c1890d9bd760324d802": {
     "views": [
      {
       "cell_index": 37
      }
     ]
    },
    "6fd7fdc892c04a28b197e7bc6d4bb7b3": {
     "views": [
      {
       "cell_index": 6
      }
     ]
    },
    "b9a0da69e5614d7f9e8aae0b5cff2cee": {
     "views": [
      {
       "cell_index": 69
      }
     ]
    }
   },
   "version": "1.2.0"
  }
 },
 "nbformat": 4,
 "nbformat_minor": 2
}
